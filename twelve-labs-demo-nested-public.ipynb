{
 "cells": [
  {
   "cell_type": "markdown",
   "id": "c8cb51d4",
   "metadata": {},
   "source": [
    "# TwelveLabs / OpenSearch Demonstration\n",
    "\n",
    "Code for the Medium blog post, [Multi-Vector Semantic Search: Advanced Video Search with TwelveLabs and Amazon OpenSearch](https://garystafford.medium.com/multi-vector-semantic-search-advanced-video-search-with-twelve-labs-and-amazon-opensearch-7b81ba52c373). How TwelveLabs AI Models and Amazon OpenSearch Serverless enable multi-vector semantic and hybrid search for video content.\n",
    "\n",
    "**Prerequisites**\n",
    "\n",
    "See README file for prerequisites.\n",
    "\n",
    "Videos must meet the TwelveLabs [requirements](https://docs.twelvelabs.io/docs/get-started/quickstart/create-embeddings#prerequisites):\n",
    "\n",
    "- Video resolution: Must be at least 360x360 and must not exceed 3840x2160.\n",
    "- Aspect ratio: Must be one of 1:1, 4:3, 4:5, 5:4, 16:9, 9:16, or 17:9.\n",
    "- Video and audio formats: Your video files must be encoded in the video and audio formats listed on the FFmpeg Formats Documentation page.\n",
    "- Duration: Must be between 4 seconds and 2 hours (7,200s).\n",
    "- File size: Must not exceed 2 GB.\n",
    "\n",
    "**Workflow Diagram**\n",
    "\n",
    "![Architecture](./twelve_labs_bedrock.png)\n"
   ]
  },
  {
   "cell_type": "markdown",
   "id": "b650d3ea",
   "metadata": {},
   "source": [
    "## Install Required Python Packages\n"
   ]
  },
  {
   "cell_type": "code",
   "execution_count": null,
   "id": "860e9601",
   "metadata": {},
   "outputs": [],
   "source": [
    "%pip install pip -Uq\n",
    "%pip install python-dotenv twelvelabs boto3 opensearch-py -Uq\n",
    "%pip install matplotlib Pillow scikit-learn plotly nbformat pandas -Uq"
   ]
  },
  {
   "cell_type": "markdown",
   "id": "ef6e8f20",
   "metadata": {},
   "source": [
    "### Restart Kernel\n",
    "\n",
    "If first time installing the packages, restart your Jupyter Notebook's kernel before continuing.\n"
   ]
  },
  {
   "cell_type": "code",
   "execution_count": null,
   "id": "b0608c5f",
   "metadata": {},
   "outputs": [],
   "source": [
    "# Test that the Twelve Labs package is installed\n",
    "%pip show twelvelabs"
   ]
  },
  {
   "cell_type": "markdown",
   "id": "a9ec95d4",
   "metadata": {},
   "source": [
    "## Load Environment Variables\n",
    "\n",
    "There are several ways to load your sensitive environment variables. The package, `python-dotenv`, reads key-value pairs from a plain text `.env` file and can set them as environment variables. We are using the `.env` file to store our sensitive variables.\n"
   ]
  },
  {
   "cell_type": "code",
   "execution_count": null,
   "id": "ae1a57c0",
   "metadata": {},
   "outputs": [],
   "source": [
    "import os\n",
    "from dotenv import load_dotenv\n",
    "\n",
    "load_dotenv()  # Loads variables from .env file\n",
    "\n",
    "AWS_REGION = os.getenv(\"AWS_REGION\")\n",
    "AWS_ACCESS_KEY_ID = os.getenv(\"AWS_ACCESS_KEY_ID\")\n",
    "AWS_SECRET_ACCESS_KEY = os.getenv(\"AWS_SECRET_ACCESS_KEY\")\n",
    "AWS_SESSION_TOKEN = os.getenv(\"AWS_SESSION_TOKEN\")\n",
    "TL_API_KEY = os.getenv(\"TL_API_KEY\")\n",
    "OPENSEARCH_ENDPOINT = os.getenv(\"OPENSEARCH_ENDPOINT\")"
   ]
  },
  {
   "cell_type": "markdown",
   "id": "e9df2a0f",
   "metadata": {},
   "source": [
    "### Constants\n"
   ]
  },
  {
   "cell_type": "code",
   "execution_count": null,
   "id": "033d1234",
   "metadata": {},
   "outputs": [],
   "source": [
    "# Set the TwelveLabs and OpenSearch index names to the same value\n",
    "INDEX_NAME = \"commercials-index\"\n",
    "\n",
    "# Set the local directories for videos, intermediate files, and OpenSearch documents\n",
    "VIDEO_DIRECTORY = \"videos/commercials\"\n",
    "OUTPUT_DIRECTORY = \"output/commercials\"\n",
    "DOCUMENT_DIRECTORY = \"documents/commercials\""
   ]
  },
  {
   "cell_type": "markdown",
   "id": "e41ae3bb",
   "metadata": {},
   "source": [
    "## Create TwelveLabs Index\n"
   ]
  },
  {
   "cell_type": "markdown",
   "id": "ca0bdd9d",
   "metadata": {},
   "source": [
    "### TwelveLabs Client\n"
   ]
  },
  {
   "cell_type": "code",
   "execution_count": null,
   "id": "5bc0c776",
   "metadata": {},
   "outputs": [],
   "source": [
    "import json\n",
    "\n",
    "from twelvelabs import TwelveLabs\n",
    "from twelvelabs.models import Video\n",
    "from twelvelabs.exceptions import NotFoundError\n",
    "\n",
    "tl_client = TwelveLabs(api_key=TL_API_KEY)"
   ]
  },
  {
   "cell_type": "markdown",
   "id": "9028aa44",
   "metadata": {},
   "source": [
    "### Create TwelveLabs Index\n"
   ]
  },
  {
   "cell_type": "code",
   "execution_count": null,
   "id": "ff1e12ac",
   "metadata": {},
   "outputs": [],
   "source": [
    "def create_index(index_name: str) -> str:\n",
    "    \"\"\"Create a new index for embeddings if it doesn't already exist.\n",
    "\n",
    "    Args:\n",
    "        index_name (str): The name of the index to create.\n",
    "\n",
    "    Returns:\n",
    "        str: The ID of the created index.\n",
    "    \"\"\"\n",
    "    # Check if the index already exists\n",
    "    index_list = tl_client.index.list(\n",
    "        name=index_name,\n",
    "        sort_option=\"asc\",\n",
    "        page_limit=1,\n",
    "    )\n",
    "\n",
    "    # If the index exists, return its ID\n",
    "    if index_list:\n",
    "        for index in index_list:\n",
    "            print(f\"Index '{index.name}' already exists.\")\n",
    "            return index.id\n",
    "\n",
    "    # If the index does not exist, create a new one\n",
    "    print(f\"Creating index '{index_name}'...\")\n",
    "    models = [\n",
    "        {\"name\": \"marengo2.7\", \"options\": [\"visual\", \"audio\"]},\n",
    "        {\"name\": \"pegasus1.2\", \"options\": [\"visual\", \"audio\"]},\n",
    "    ]\n",
    "\n",
    "    created_index = tl_client.index.create(\n",
    "        name=index_name, models=models, addons=[\"thumbnail\"]\n",
    "    )\n",
    "\n",
    "    return created_index.id\n",
    "\n",
    "\n",
    "tl_index_id = create_index(INDEX_NAME)\n",
    "print(f\"Index ID: {tl_index_id}\")"
   ]
  },
  {
   "cell_type": "markdown",
   "id": "afda97ca",
   "metadata": {},
   "source": [
    "## Upload Videos to Index\n"
   ]
  },
  {
   "cell_type": "code",
   "execution_count": null,
   "id": "6130f2bc",
   "metadata": {},
   "outputs": [],
   "source": [
    "def upload_video(tl_index_id: str, video_path: str) -> None:\n",
    "    \"\"\"Upload a video to the TwelveLabs index.\n",
    "\n",
    "    Args:\n",
    "        tl_index_id (str): The ID of the TwelveLabs index.\n",
    "        video_path (str): The path to the video file to upload.\n",
    "\n",
    "    Returns:\n",
    "        None\n",
    "    \"\"\"\n",
    "    try:\n",
    "        task = tl_client.task.create(index_id=tl_index_id, file=video_path)\n",
    "        print(f\"Task id={task.id}\")\n",
    "        print(f\"Video '{video_path}' uploaded successfully!\")\n",
    "    except Exception as ex:\n",
    "        print(f\"Failed to upload video '{video_path}': {ex}\")\n",
    "\n",
    "\n",
    "if not os.path.exists(VIDEO_DIRECTORY):\n",
    "    print(f\"Video directory '{VIDEO_DIRECTORY}' does not exist, skipping upload.\")\n",
    "else:\n",
    "    for video in os.listdir(VIDEO_DIRECTORY):\n",
    "        if video.endswith(\".mp4\"):\n",
    "            video_path = os.path.join(VIDEO_DIRECTORY, video)\n",
    "            upload_video(tl_index_id, video_path)"
   ]
  },
  {
   "cell_type": "markdown",
   "id": "79f9c48b",
   "metadata": {},
   "source": [
    "## Retrieve Embeddings and Analyses from TwelveLabs Index\n"
   ]
  },
  {
   "cell_type": "markdown",
   "id": "c828026a",
   "metadata": {},
   "source": [
    "### Retrieve List of Videos IDs from Index\n"
   ]
  },
  {
   "cell_type": "code",
   "execution_count": null,
   "id": "6d7f2868",
   "metadata": {},
   "outputs": [],
   "source": [
    "def get_video_ids_from_index(tl_index_id: str, page_limit: int = 50) -> list:\n",
    "    \"\"\"Retrieve video IDs from the specified index.\n",
    "\n",
    "    Args:\n",
    "        tl_index_id (str): The ID of the index to query.\n",
    "        page_limit (int): The maximum number of results to return.\n",
    "\n",
    "    Returns:\n",
    "        list: A list of video IDs retrieved from the index.\n",
    "    \"\"\"\n",
    "    videos = tl_client.index.video.list(\n",
    "        index_id=tl_index_id,\n",
    "        page_limit=page_limit,\n",
    "    )\n",
    "    if not videos:\n",
    "        raise NotFoundError(f\"No videos found in index {tl_index_id}\")\n",
    "\n",
    "    video_ids = list(set(video.id for video in videos))\n",
    "    print(f\"Total count of videos in index {tl_index_id}: {len(video_ids)}\")\n",
    "    return video_ids"
   ]
  },
  {
   "cell_type": "markdown",
   "id": "2be0c737",
   "metadata": {},
   "source": [
    "### Bulk Retrieve Embeddings from Index\n"
   ]
  },
  {
   "cell_type": "code",
   "execution_count": null,
   "id": "a6850454",
   "metadata": {},
   "outputs": [],
   "source": [
    "def save_embeddings_to_json(video: Video, output_path: str) -> None:\n",
    "    \"\"\"Save the embedding task details to a JSON file if it doesn't already exist.\n",
    "\n",
    "    Args:\n",
    "        video (Video): The video object containing embedding details.\n",
    "        output_path (str): The path where the JSON file will be saved.\n",
    "\n",
    "    Returns:\n",
    "        None\n",
    "    \"\"\"\n",
    "    # Serialize the video object to a dictionary\n",
    "    video_data = video.model_dump_json()\n",
    "    video_data = json.loads(video_data)\n",
    "    video_data[\"video_id\"] = video.id\n",
    "\n",
    "    # Determine the filename using the input filename from the task metadata\n",
    "    input_filename = video_data[\"video_id\"]\n",
    "    output_filename = f\"{output_path}/{input_filename}_embeddings.json\"\n",
    "    if os.path.exists(output_filename):\n",
    "        print(f\"Embeddings already exist for video ID {video.id}. Skipping...\")\n",
    "        return\n",
    "\n",
    "    print(f\"Saving embeddings for video ID {video.id} to {output_filename}\")\n",
    "\n",
    "    # Write the dictionary to a JSON file\n",
    "    with open(output_filename, \"w\") as json_file:\n",
    "        json.dump(video_data, json_file, indent=4)\n",
    "    print(f\"Embeddings saved to {output_filename}\")\n",
    "\n",
    "\n",
    "# Retrieve the video IDs from the index\n",
    "video_ids = get_video_ids_from_index(tl_index_id)\n",
    "\n",
    "# Retrieve the video embeddings from the index and save to JSON\n",
    "if not os.path.exists(OUTPUT_DIRECTORY):\n",
    "    print(f\"Output directory '{OUTPUT_DIRECTORY}' does not exist, skipping retrieval.\")\n",
    "else:\n",
    "    for video_id in video_ids:\n",
    "        print(f\"Processing video ID: {video_id}\")\n",
    "        video = tl_client.index.video.retrieve(\n",
    "            index_id=tl_index_id, id=video_id, embedding_option=[\"visual-text\", \"audio\"]\n",
    "        )\n",
    "        save_embeddings_to_json(video, OUTPUT_DIRECTORY)"
   ]
  },
  {
   "cell_type": "markdown",
   "id": "997ee245",
   "metadata": {},
   "source": [
    "### Bulk Create Analyses from Videos in Index\n"
   ]
  },
  {
   "cell_type": "code",
   "execution_count": null,
   "id": "665f859e",
   "metadata": {},
   "outputs": [],
   "source": [
    "def summarize_video(tl_index_id: str, video_id: str, output_path: str) -> None:\n",
    "    \"\"\"Summarize a video and save the analysis to a JSON file if it doesn't already exist.\n",
    "\n",
    "    Args:\n",
    "        tl_index_id (str): The ID of the index where the video is stored.\n",
    "        video_id (str): The ID of the video to summarize.\n",
    "        output_path (str): The path where the JSON file will be saved.\n",
    "\n",
    "    Returns:\n",
    "        None\n",
    "    \"\"\"\n",
    "    # Ensure the output directory exists\n",
    "    if not os.path.exists(output_path):\n",
    "        os.makedirs(output_path, exist_ok=False)\n",
    "\n",
    "    # Check if the analysis already exists\n",
    "    filename = f\"{output_path}/{video_id}_analysis.json\"\n",
    "    print(video_id)\n",
    "    if os.path.exists(filename):\n",
    "        print(f\"Analysis already exists for video ID {video_id}. Skipping...\")\n",
    "        return\n",
    "    print(f\"Analyzing video ID: {video_id}\")\n",
    "\n",
    "    # Get the video summary\n",
    "    res_summary = tl_client.summarize(\n",
    "        video_id=video_id,\n",
    "        prompt=\"Summarize the video in a concise manner.\",\n",
    "        temperature=0.4,\n",
    "        type=\"summary\",\n",
    "    )\n",
    "\n",
    "    # Get the chapters of the video\n",
    "    res_chapters = tl_client.summarize(\n",
    "        video_id=video_id,\n",
    "        prompt=\"List the chapters of the video.\",\n",
    "        temperature=0.4,\n",
    "        type=\"chapter\",\n",
    "    )\n",
    "\n",
    "    # Get the highlights of the video\n",
    "    res_highlights = tl_client.summarize(\n",
    "        video_id=video_id,\n",
    "        prompt=\"List the highlights of the video.\",\n",
    "        temperature=0.4,\n",
    "        type=\"highlight\",\n",
    "    )\n",
    "\n",
    "    # Get open-ended text analysis of the video\n",
    "    res_analyze = tl_client.analyze(\n",
    "        video_id=video_id,\n",
    "        prompt=\"Describe what is happening in the video.\",\n",
    "        temperature=0.4,\n",
    "    )\n",
    "\n",
    "    # Get the gist of the video\n",
    "    res_gist = tl_client.gist(video_id=video_id, types=[\"title\", \"topic\", \"hashtag\"])\n",
    "\n",
    "    # Combined responses\n",
    "    analyses = {}\n",
    "\n",
    "    analyses.update(\n",
    "        {\n",
    "            \"gist\": res_gist.model_dump(),\n",
    "            \"video_id\": video_id,\n",
    "            \"index_id\": tl_index_id,\n",
    "            \"summary\": res_summary.summary,\n",
    "            \"analysis\": res_analyze.data,\n",
    "            \"chapters\": res_chapters.chapters.model_dump(),\n",
    "            \"highlights\": res_highlights.highlights.model_dump(),\n",
    "        }\n",
    "    )\n",
    "\n",
    "    # Save to file\n",
    "    with open(filename, \"w\") as f:\n",
    "        f.write(json.dumps(analyses))\n",
    "\n",
    "\n",
    "# Retrieve the video IDs from the index\n",
    "video_ids = get_video_ids_from_index(tl_index_id)\n",
    "\n",
    "# Retrieve the video analysis from the index and save to JSON\n",
    "if not os.path.exists(OUTPUT_DIRECTORY):\n",
    "    print(f\"Output directory '{OUTPUT_DIRECTORY}' does not exist, skipping analysis.\")\n",
    "else:\n",
    "    for video_id in video_ids:\n",
    "        print(f\"Processing video ID: {video_id}\")\n",
    "        summarize_video(tl_index_id, video_id, OUTPUT_DIRECTORY)"
   ]
  },
  {
   "cell_type": "markdown",
   "id": "110b3c35",
   "metadata": {},
   "source": [
    "### Merge Embeddings and Analyses\n"
   ]
  },
  {
   "cell_type": "code",
   "execution_count": null,
   "id": "ff68d2d5",
   "metadata": {},
   "outputs": [],
   "source": [
    "def extract_video_ids(output_path: str) -> list:\n",
    "    \"\"\"Extract video IDs from analysis filenames in the specified directory.\n",
    "\n",
    "    Args:\n",
    "        output_path (str): Directory containing the analysis JSON files\n",
    "\n",
    "    Returns:\n",
    "        list: List of extracted video IDs\n",
    "    \"\"\"\n",
    "    video_ids = []\n",
    "\n",
    "    for filename in os.listdir(output_path):\n",
    "        # Check if it's an analysis file\n",
    "        if filename.endswith(\"_analysis.json\"):\n",
    "            # Extract the ID part from the filename\n",
    "            # The ID is everything before \"_analysis.json\"\n",
    "            video_id = filename.split(\"_analysis.json\")[0]\n",
    "            video_ids.append(video_id)\n",
    "\n",
    "    return video_ids\n",
    "\n",
    "\n",
    "if not os.path.exists(OUTPUT_DIRECTORY):\n",
    "    print(f\"Output directory '{OUTPUT_DIRECTORY}' does not exist, skipping extraction.\")\n",
    "else:\n",
    "    video_ids = extract_video_ids(OUTPUT_DIRECTORY)\n",
    "    print(f\"Found {len(video_ids)} video IDs: {video_ids[0:5]}\")"
   ]
  },
  {
   "cell_type": "code",
   "execution_count": null,
   "id": "73a658e6",
   "metadata": {},
   "outputs": [],
   "source": [
    "def combine_segments_to_documents(\n",
    "    output_path: str, document_path: str, video_ids: list\n",
    ") -> None:\n",
    "    \"\"\"Combine embeddings and analyses into single documents and save them to a local directory.\n",
    "\n",
    "    Args:\n",
    "        output_path (str): Directory containing the analysis and embeddings JSON files\n",
    "        document_path (str): Directory to save the combined document files\n",
    "        video_ids (list): List of video IDs to process\n",
    "\n",
    "    Returns:\n",
    "        None\n",
    "    \"\"\"\n",
    "    for video_id in video_ids:\n",
    "        filename = f\"{document_path}/{video_id}_document.json\"\n",
    "        # Check if the document already exists\n",
    "        if os.path.exists(filename):\n",
    "            print(f\"Document already exists for video ID {video_id}. Skipping...\")\n",
    "            continue\n",
    "\n",
    "        print(f\"Processing video ID: {video_id}\")\n",
    "        # Open corresponding analyses and embeddings documents and combined\n",
    "        with open(f\"{output_path}/{video_id}_embeddings.json\", \"r\") as f:\n",
    "            embeddings = json.load(f)\n",
    "\n",
    "        with open(f\"{output_path}/{video_id}_analysis.json\", \"r\") as f:\n",
    "            analyses = json.load(f)\n",
    "\n",
    "        # Combine the two documents\n",
    "        document = {}\n",
    "        document.update(analyses)\n",
    "        document.update(embeddings)\n",
    "\n",
    "        # Remove unneeded keys\n",
    "        document[\"gist\"].pop(\"id\", None)\n",
    "        document[\"gist\"].pop(\"usage\", None)\n",
    "\n",
    "        # Segments of video\n",
    "        segments = document[\"embedding\"][\"video_embedding\"][\"segments\"]\n",
    "\n",
    "        # Write documents to local directory for each segment\n",
    "        document.pop(\"embedding\", None)\n",
    "        document[\"segments\"] = segments\n",
    "        for segment in document[\"segments\"]:\n",
    "            segment[\"segment_embedding\"] = segment[\"embeddings_float\"].copy()\n",
    "            segment.pop(\"embeddings_float\", None)\n",
    "\n",
    "        with open(filename, \"w\") as f:\n",
    "            f.write(json.dumps(document, indent=4))\n",
    "\n",
    "\n",
    "if not os.path.exists(DOCUMENT_DIRECTORY):\n",
    "    print(\n",
    "        f\"Document directory '{DOCUMENT_DIRECTORY}' does not exist, skipping document creation.\"\n",
    "    )\n",
    "elif not os.path.exists(OUTPUT_DIRECTORY):\n",
    "    print(\n",
    "        f\"Output directory '{OUTPUT_DIRECTORY}' does not exist, skipping document creation.\"\n",
    "    )\n",
    "else:\n",
    "    combine_segments_to_documents(OUTPUT_DIRECTORY, DOCUMENT_DIRECTORY, video_ids)"
   ]
  },
  {
   "cell_type": "markdown",
   "id": "57f4b1de",
   "metadata": {},
   "source": [
    "## OpenSearch\n"
   ]
  },
  {
   "cell_type": "markdown",
   "id": "d60b5d57",
   "metadata": {},
   "source": [
    "### Load Required Packages\n"
   ]
  },
  {
   "cell_type": "code",
   "execution_count": null,
   "id": "acbc4429",
   "metadata": {},
   "outputs": [],
   "source": [
    "import boto3\n",
    "\n",
    "from opensearchpy import (\n",
    "    AWSV4SignerAuth,\n",
    "    NotFoundError,\n",
    "    OpenSearch,\n",
    "    RequestsHttpConnection,\n",
    ")"
   ]
  },
  {
   "cell_type": "markdown",
   "id": "e68da6c0",
   "metadata": {},
   "source": [
    "### Option #1: Amazon OpenSearch Client\n"
   ]
  },
  {
   "cell_type": "code",
   "execution_count": null,
   "id": "31d0c927",
   "metadata": {},
   "outputs": [],
   "source": [
    "# Create OpenSearch client for Amazon OpenSearch Serverless\n",
    "# https://opensearch.org/docs/latest/clients/python-low-level/#connecting-to-amazon-opensearch-serverless\n",
    "\n",
    "service = \"aoss\"\n",
    "credentials = boto3.Session(\n",
    "    aws_access_key_id=AWS_ACCESS_KEY_ID,\n",
    "    aws_secret_access_key=AWS_SECRET_ACCESS_KEY,\n",
    "    aws_session_token=AWS_SESSION_TOKEN,\n",
    "    region_name=AWS_REGION,\n",
    ").get_credentials()\n",
    "auth = AWSV4SignerAuth(credentials, AWS_REGION, service)\n",
    "\n",
    "os_client = OpenSearch(\n",
    "    hosts=[{\"host\": OPENSEARCH_ENDPOINT, \"port\": 443}],\n",
    "    http_auth=auth,\n",
    "    use_ssl=True,\n",
    "    verify_certs=True,\n",
    "    connection_class=RequestsHttpConnection,\n",
    "    pool_maxsize=20,\n",
    ")\n",
    "\n",
    "os_client"
   ]
  },
  {
   "cell_type": "markdown",
   "id": "cda68058",
   "metadata": {},
   "source": [
    "### Option #2: OpenSearch Client Running in Docker\n",
    "\n",
    "Recommended for local development and debugging purposes only as an alternative to Amazon OpenSearch Serverless.\n"
   ]
  },
  {
   "cell_type": "code",
   "execution_count": null,
   "id": "331c5396",
   "metadata": {},
   "outputs": [],
   "source": [
    "import warnings\n",
    "\n",
    "# Suppress security warnings related to unverified HTTPS requests and SSL connections\n",
    "warnings.filterwarnings(\"ignore\", message=\"Unverified HTTPS request\")\n",
    "warnings.filterwarnings(\n",
    "    \"ignore\", message=\"Connecting to https://localhost:9200 using SSL\"\n",
    ")\n",
    "\n",
    "os_client = OpenSearch(\n",
    "    hosts=[{\"host\": OPENSEARCH_ENDPOINT, \"port\": 9200}],\n",
    "    http_auth=(\"admin\", \"OpenSearch123\"),\n",
    "    use_ssl=True,\n",
    "    verify_certs=False,\n",
    ")\n",
    "\n",
    "os_client"
   ]
  },
  {
   "cell_type": "markdown",
   "id": "b041a8e4",
   "metadata": {},
   "source": [
    "### Create New OpenSearch Vector Index\n"
   ]
  },
  {
   "cell_type": "markdown",
   "id": "0ee1186c",
   "metadata": {},
   "source": [
    "#### Optionally: Delete Existing Index\n"
   ]
  },
  {
   "cell_type": "code",
   "execution_count": null,
   "id": "62faa230",
   "metadata": {},
   "outputs": [],
   "source": [
    "def delete_index(os_client, os_index: str) -> None:\n",
    "    \"\"\"Delete an index in OpenSearch.\n",
    "\n",
    "    Args:\n",
    "        os_client (OpenSearch): The OpenSearch client instance.\n",
    "        os_index (str): The name of the index to delete.\n",
    "\n",
    "    Returns:\n",
    "        None\n",
    "    \"\"\"\n",
    "    if not os_client.indices.exists(index=os_index):\n",
    "        print(f\"Index '{os_index}' does not exist.\")\n",
    "    else:\n",
    "        os_client.indices.delete(index=os_index)\n",
    "        print(f\"Index '{os_index}' deleted successfully.\")\n",
    "\n",
    "\n",
    "# Delete the OpenSearch index for video embeddings\n",
    "delete_index(os_client, INDEX_NAME)"
   ]
  },
  {
   "cell_type": "markdown",
   "id": "e9841fc9",
   "metadata": {},
   "source": [
    "#### Create New Index\n"
   ]
  },
  {
   "cell_type": "code",
   "execution_count": null,
   "id": "fc7a8043",
   "metadata": {},
   "outputs": [],
   "source": [
    "# https://docs.opensearch.org/docs/latest/vector-search/specialized-operations/nested-search-knn/\n",
    "\n",
    "\n",
    "def create_index(os_client, os_index: str) -> None:\n",
    "    \"\"\"Create an index in OpenSearch with specified settings and mappings.\n",
    "\n",
    "    Args:\n",
    "        os_client (OpenSearch): The OpenSearch client instance.\n",
    "        os_index (str): The name of the index to create.\n",
    "\n",
    "    Returns:\n",
    "        None\n",
    "    \"\"\"\n",
    "    if os_client.indices.exists(index=os_index):\n",
    "        print(f\"Index '{os_index}' already exists.\")\n",
    "        return\n",
    "\n",
    "    index_body = {\n",
    "        \"settings\": {\n",
    "            \"index\": {\n",
    "                \"knn\": True,\n",
    "                \"number_of_shards\": 2,\n",
    "            }\n",
    "        },\n",
    "        \"mappings\": {\n",
    "            \"properties\": {\n",
    "                \"segments\": {\n",
    "                    \"type\": \"nested\",\n",
    "                    \"properties\": {\n",
    "                        \"segment_embedding\": {\n",
    "                            \"type\": \"knn_vector\",\n",
    "                            \"dimension\": 1024,\n",
    "                            \"method\": {\n",
    "                                \"engine\": \"faiss\",\n",
    "                                \"name\": \"hnsw\",\n",
    "                                \"space_type\": \"cosinesimil\",  # Use l2 for Amazon OpenSearch Serverless\n",
    "                            },\n",
    "                        }\n",
    "                    },\n",
    "                }\n",
    "            }\n",
    "        },\n",
    "    }\n",
    "\n",
    "    # Check if the index already exists\n",
    "    if os_client.indices.exists(index=os_index):\n",
    "        print(f\"Index '{os_index}' already exists.\")\n",
    "    else:\n",
    "        os_client.indices.create(index=os_index, body=index_body)\n",
    "        print(f\"Index '{os_index}' created successfully.\")\n",
    "\n",
    "\n",
    "# Create the OpenSearch index for video embeddings\n",
    "create_index(os_client, INDEX_NAME)"
   ]
  },
  {
   "cell_type": "markdown",
   "id": "780b360e",
   "metadata": {},
   "source": [
    "#### Retrieve Information About OpenSearch Index\n"
   ]
  },
  {
   "cell_type": "code",
   "execution_count": null,
   "id": "6cef4663",
   "metadata": {},
   "outputs": [],
   "source": [
    "try:\n",
    "    response = os_client.indices.get(index=INDEX_NAME)\n",
    "    print(json.dumps(response, indent=4))\n",
    "except NotFoundError as ex:\n",
    "    print(f\"Index not found: {ex}\")\n",
    "except Exception as ex:\n",
    "    print(ex.error)"
   ]
  },
  {
   "cell_type": "markdown",
   "id": "4ad06a2f",
   "metadata": {},
   "source": [
    "### Bulk Index OpenSearch Documents\n"
   ]
  },
  {
   "cell_type": "code",
   "execution_count": null,
   "id": "a10219d0",
   "metadata": {},
   "outputs": [],
   "source": [
    "def load_and_index_documents(os_index: str, document_path: str) -> None:\n",
    "    \"\"\"Load documents from JSON files in the specified directory and index them in OpenSearch.\n",
    "\n",
    "    Args:\n",
    "        os_index (str): The name of the OpenSearch index to create or use.\n",
    "        document_path (str): Directory containing the document JSON files\n",
    "\n",
    "    Returns:\n",
    "        None\n",
    "    \"\"\"\n",
    "    payload = \"\"\n",
    "    put_command = f'{{ \"create\": {{ \"_index\": \"{os_index}\" }} }}\\n'\n",
    "\n",
    "    for file in os.listdir(document_path):\n",
    "        if file.endswith(\"_document.json\"):\n",
    "            with open(os.path.join(document_path, file), \"r\") as f:\n",
    "                tmp = json.load(f)\n",
    "                payload += f\"{put_command}{json.dumps(tmp)}\\n\"\n",
    "    try:\n",
    "        response = os_client.bulk(\n",
    "            index=os_index,\n",
    "            body=payload,\n",
    "        )\n",
    "        print(json.dumps(response, indent=4))\n",
    "        row_count = int(len(payload.splitlines()) / 2)\n",
    "        return row_count\n",
    "    except Exception as ex:\n",
    "        print(f\"Error indexing documents: {ex}\")\n",
    "        return 0\n",
    "\n",
    "\n",
    "if not os.path.exists(DOCUMENT_DIRECTORY):\n",
    "    print(\n",
    "        f\"Document directory '{DOCUMENT_DIRECTORY}' does not exist, skipping indexing.\"\n",
    "    )\n",
    "else:\n",
    "    row_count = load_and_index_documents(INDEX_NAME, DOCUMENT_DIRECTORY)\n",
    "    print(f\"Total rows to index: {row_count}\")"
   ]
  },
  {
   "cell_type": "code",
   "execution_count": null,
   "id": "5df0e5b3",
   "metadata": {},
   "outputs": [],
   "source": [
    "from time import sleep\n",
    "\n",
    "# Wait for Amazon OpenSearch Serverless indexing to complete and refresh (~60s)\n",
    "response = os_client.count(index=INDEX_NAME)\n",
    "while response[\"count\"] != row_count:\n",
    "    response = os_client.count(index=INDEX_NAME)\n",
    "    print(f\"Current indexed documents: {response['count']}\")\n",
    "    sleep(10)\n",
    "print(f\"Indexing completed. Total indexed documents: {response['count']}\")"
   ]
  },
  {
   "cell_type": "markdown",
   "id": "80085f1c",
   "metadata": {},
   "source": [
    "## Query the Amazon OpenSearch Index\n"
   ]
  },
  {
   "cell_type": "markdown",
   "id": "b9ee0925",
   "metadata": {},
   "source": [
    "### Convert User Text Query to Embedding\n"
   ]
  },
  {
   "cell_type": "code",
   "execution_count": null,
   "id": "5fd6be6c",
   "metadata": {},
   "outputs": [],
   "source": [
    "def get_text_embedding_from_query(query: str) -> list:\n",
    "    \"\"\"Convert a text query to an embedding using TwelveLabs.\n",
    "\n",
    "    Args:\n",
    "        query (str): The text query to convert.\n",
    "\n",
    "    Returns:\n",
    "        list: The embedding vector.\n",
    "    \"\"\"\n",
    "    respose = tl_client.embed.create(\n",
    "        model_name=\"Marengo-retrieval-2.7\",\n",
    "        text_truncate=\"start\",\n",
    "        text=query,\n",
    "    )\n",
    "    # print(respose)\n",
    "    if (\n",
    "        respose.text_embedding is not None\n",
    "        and respose.text_embedding.segments is not None\n",
    "    ):\n",
    "        return respose.text_embedding.segments[0].embeddings_float\n",
    "    else:\n",
    "        raise ValueError(\"Failed to retrieve embedding from the response.\")\n",
    "\n",
    "\n",
    "query = \"elderly drivers\"  # \"who charges me less but gives me more\"  # \"boom boom boom to the baseline\" # \"switch to a turbo tax live expert\"\n",
    "text_embedding = get_text_embedding_from_query(query)\n",
    "print(f\"Embedding: {text_embedding[:5]}...\")  # Print first 5 elements for brevity\n",
    "\n",
    "# Optionally save the text embedding to a JSON file for later use\n",
    "with open(\"text_embedding.json\", \"w\") as f:\n",
    "    json.dump(text_embedding, f, indent=4)"
   ]
  },
  {
   "cell_type": "markdown",
   "id": "d1753c2f",
   "metadata": {},
   "source": [
    "### Convert Sample Image to Embedding\n"
   ]
  },
  {
   "cell_type": "code",
   "execution_count": null,
   "id": "9c066aed",
   "metadata": {},
   "outputs": [],
   "source": [
    "def get_image_embedding_from_query(image_file: str) -> list:\n",
    "    \"\"\"Convert an image file to an embedding using TwelveLabs.\n",
    "\n",
    "    Args:\n",
    "        query (str): The text query to convert.\n",
    "\n",
    "    Returns:\n",
    "        list: The embedding vector.\n",
    "    \"\"\"\n",
    "    respose = tl_client.embed.create(\n",
    "        model_name=\"Marengo-retrieval-2.7\",\n",
    "        image_file=image_file,\n",
    "    )\n",
    "    print(respose)\n",
    "    if (\n",
    "        respose.image_embedding is not None\n",
    "        and respose.image_embedding.segments is not None\n",
    "    ):\n",
    "        return respose.image_embedding.segments[0].embeddings_float\n",
    "    else:\n",
    "        raise ValueError(\"Failed to retrieve embedding from the response.\")\n",
    "\n",
    "\n",
    "image_embedding = get_image_embedding_from_query(\n",
    "    \"sample_images/nike_dream_crazier_clip.png\"\n",
    ")\n",
    "print(f\"Embedding: {image_embedding[:5]}...\")  # Print first 5 elements for brevity\n",
    "\n",
    "# Optionally save the image embedding to a JSON file for later use\n",
    "with open(\"image_embedding.json\", \"w\") as f:\n",
    "    json.dump(image_embedding, f, indent=4)"
   ]
  },
  {
   "cell_type": "code",
   "execution_count": null,
   "id": "29ea3fb4",
   "metadata": {},
   "outputs": [],
   "source": [
    "# Optional: Reload the embeddings from JSON files instead of calling the API repeatedly.\n",
    "# This can be useful for offline use or debugging and testing purposes.\n",
    "\n",
    "text_embedding = json.load(open(\"text_embedding.json\", \"r\"))\n",
    "image_embedding = json.load(open(\"image_embedding.json\", \"r\"))"
   ]
  },
  {
   "cell_type": "markdown",
   "id": "4601932b",
   "metadata": {},
   "source": [
    "### Nested k-NN Semantic Search (Approximate k-NN Search (ANN))\n"
   ]
  },
  {
   "cell_type": "code",
   "execution_count": null,
   "id": "24d698c6",
   "metadata": {},
   "outputs": [],
   "source": [
    "# Reference: https://docs.opensearch.org/docs/latest/vector-search/vector-search-techniques/approximate-knn/#get-started-with-approximate-k-nn\n",
    "\n",
    "\n",
    "def semantic_search(os_index: str, embedding: list) -> dict:\n",
    "    \"\"\"Query the OpenSearch index using a text embedding.\n",
    "\n",
    "    Args:\n",
    "        os_index (str): The ID of the Amazon OpenSearch index.\n",
    "        embedding (list): The embedding vector to use for the query.\n",
    "\n",
    "    Returns:\n",
    "        dict: The search response from OpenSearch.\n",
    "    \"\"\"\n",
    "    query = {\n",
    "        \"query\": {\n",
    "            \"nested\": {\n",
    "                \"path\": \"segments\",\n",
    "                \"query\": {\n",
    "                    \"knn\": {\n",
    "                        \"segments.segment_embedding\": {\n",
    "                            \"vector\": embedding,\n",
    "                            \"k\": 6,\n",
    "                        }\n",
    "                    }\n",
    "                },\n",
    "            }\n",
    "        },\n",
    "        \"size\": 6,\n",
    "        \"_source\": {\"excludes\": [\"segments.segment_embedding\"]},\n",
    "    }\n",
    "\n",
    "    try:\n",
    "        search_results = os_client.search(body=query, index=os_index)\n",
    "        return search_results\n",
    "    except Exception as ex:\n",
    "        print(f\"Error querying index: {ex}\")\n",
    "        return {}\n",
    "\n",
    "\n",
    "# Query the index with the embedding\n",
    "search_results_1 = semantic_search(INDEX_NAME, text_embedding)\n",
    "\n",
    "for hit in search_results_1[\"hits\"][\"hits\"]:\n",
    "    print(f\"Video ID: {hit['_source']['video_id']}\")\n",
    "    print(f\"Title: {hit['_source']['gist']['title']}\")\n",
    "    print(f\"Score: {hit['_score']}\")\n",
    "    print(f\"Duration: {hit['_source']['system_metadata']['duration']:.2f} seconds\")\n",
    "    print(\"\\r\")"
   ]
  },
  {
   "cell_type": "markdown",
   "id": "9e2598e3",
   "metadata": {},
   "source": [
    "### Nested k-NN Semantic Search with Filters\n"
   ]
  },
  {
   "cell_type": "code",
   "execution_count": null,
   "id": "d08bf6f2",
   "metadata": {},
   "outputs": [],
   "source": [
    "# Reference: https://docs.opensearch.org/docs/latest/vector-search/filter-search-knn/efficient-knn-filtering/\n",
    "\n",
    "\n",
    "def semantic_search_with_filter(os_index: str, embedding: list) -> dict:\n",
    "    \"\"\"Query the OpenSearch index using a text embedding with a filter on segment duration.\n",
    "\n",
    "    Args:\n",
    "        os_index (str): The ID of the Amazon OpenSearch index.\n",
    "        embedding (list): The embedding vector to use for the query.\n",
    "\n",
    "    Returns:\n",
    "        dict: The search response from OpenSearch.\n",
    "    \"\"\"\n",
    "    query = {\n",
    "        \"query\": {\n",
    "            \"nested\": {\n",
    "                \"path\": \"segments\",\n",
    "                \"query\": {\n",
    "                    \"knn\": {\n",
    "                        \"segments.segment_embedding\": {\n",
    "                            \"vector\": embedding,\n",
    "                            \"k\": 6,\n",
    "                            \"filter\": {\n",
    "                                \"bool\": {\n",
    "                                    \"must\": [\n",
    "                                        {\n",
    "                                            \"range\": {\n",
    "                                                \"system_metadata.duration\": {\n",
    "                                                    \"gte\": 20,\n",
    "                                                    \"lte\": 60,\n",
    "                                                }\n",
    "                                            }\n",
    "                                        },\n",
    "                                    ]\n",
    "                                }\n",
    "                            },\n",
    "                        }\n",
    "                    }\n",
    "                },\n",
    "            }\n",
    "        },\n",
    "        \"size\": 6,\n",
    "        \"_source\": {\"excludes\": [\"segments.segment_embedding\"]},\n",
    "    }\n",
    "\n",
    "    try:\n",
    "        search_results = os_client.search(body=query, index=os_index)\n",
    "        return search_results\n",
    "    except Exception as ex:\n",
    "        print(f\"Error querying index: {ex}\")\n",
    "        return {}\n",
    "\n",
    "\n",
    "# Query the index with the embedding\n",
    "search_results_2 = semantic_search_with_filter(INDEX_NAME, text_embedding)\n",
    "\n",
    "for hit in search_results_2[\"hits\"][\"hits\"]:\n",
    "    print(f\"Video ID: {hit['_source']['video_id']}\")\n",
    "    print(f\"Title: {hit['_source']['gist']['title']}\")\n",
    "    print(f\"Score: {hit['_score']}\")\n",
    "    print(f\"Duration: {hit['_source']['system_metadata']['duration']:.2f} seconds\")\n",
    "    print(\"\\r\")"
   ]
  },
  {
   "cell_type": "markdown",
   "id": "eb548f93",
   "metadata": {},
   "source": [
    "### Nested k-NN Semantic Search with Inner Hits\n",
    "\n",
    "Include information about the matching nested fields in the response.\n"
   ]
  },
  {
   "cell_type": "code",
   "execution_count": null,
   "id": "3ee98102",
   "metadata": {},
   "outputs": [],
   "source": [
    "# Reference: https://docs.opensearch.org/docs/latest/vector-search/specialized-operations/nested-search-knn/#inner-hits\n",
    "\n",
    "\n",
    "def semantic_search_inner_hits(os_index: str, embedding: list) -> dict:\n",
    "    \"\"\"Query the OpenSearch index using a text embedding with inner hits to retrieve nested segments.\n",
    "\n",
    "    Args:\n",
    "        os_index (str): The ID of the Amazon OpenSearch index.\n",
    "        embedding (list): The embedding vector to use for the query.\n",
    "\n",
    "    Returns:\n",
    "        dict: The search response from OpenSearch.\n",
    "    \"\"\"\n",
    "    query = {\n",
    "        \"query\": {\n",
    "            \"nested\": {\n",
    "                \"path\": \"segments\",\n",
    "                \"query\": {\n",
    "                    \"knn\": {\n",
    "                        \"segments.segment_embedding\": {\n",
    "                            \"vector\": embedding,\n",
    "                            \"k\": 6,\n",
    "                        }\n",
    "                    }\n",
    "                },\n",
    "                \"inner_hits\": {\n",
    "                    \"_source\": False,\n",
    "                    \"fields\": [\n",
    "                        \"segments.start_offset_sec\",\n",
    "                        \"segments.end_offset_sec\",\n",
    "                        \"segments.embedding_option\",\n",
    "                    ],\n",
    "                },\n",
    "            }\n",
    "        },\n",
    "        \"size\": 6,\n",
    "        \"_source\": {\"excludes\": [\"segments.segment_embedding\"]},\n",
    "    }\n",
    "\n",
    "    try:\n",
    "        search_results = os_client.search(body=query, index=os_index)\n",
    "        return search_results\n",
    "    except Exception as ex:\n",
    "        print(f\"Error querying index: {ex}\")\n",
    "        return {}\n",
    "\n",
    "\n",
    "# Query the index with the embedding\n",
    "search_results_3 = semantic_search_inner_hits(INDEX_NAME, text_embedding)\n",
    "\n",
    "for hit in search_results_3[\"hits\"][\"hits\"]:\n",
    "    print(f\"Video ID: {hit['_source']['video_id']}\")\n",
    "    print(f\"Title: {hit['_source']['gist']['title']}\")\n",
    "    print(f\"Score: {hit['_score']}\")\n",
    "    print(f\"Duration: {hit['_source']['system_metadata']['duration']:.2f} seconds\")\n",
    "    print(\"Matching Segment:\")\n",
    "    for segment in hit[\"inner_hits\"][\"segments\"][\"hits\"][\"hits\"]:\n",
    "        print(f\"  Segment: {segment['_nested']['offset']}\")\n",
    "        print(f\"    Score: {segment['_score']}\")\n",
    "        print(\n",
    "            f\"    Embedding type: {segment['fields']['segments.embedding_option'][0]}\"\n",
    "        )\n",
    "        print(f\"    Start: {segment['fields']['segments.start_offset_sec'][0]} seconds\")\n",
    "        print(f\"    End: {segment['fields']['segments.end_offset_sec'][0]} seconds\")\n",
    "    print(\"\\r\")"
   ]
  },
  {
   "cell_type": "markdown",
   "id": "de6dd1e6",
   "metadata": {},
   "source": [
    "### Nested k-NN Semantic Search with all Nested Hits\n",
    "\n",
    "To retrieve the scores for all nested field documents within each parent document. By default, only the highest-scoring nested document is considered when you query nested fields.\n",
    "\n",
    "_Note that as of 2025-06-28, although Amazon OpenSearch Serverless claims that it supports version 2.19, the `expand_nested_docs` is not available (error: `Error querying index: RequestError(400, 'x_content_parse_exception', '[1:12885] [knn] unknown field [expand_nested_docs]')`). The below search was performed in OpenSearch using Docker._\n"
   ]
  },
  {
   "cell_type": "code",
   "execution_count": null,
   "id": "b82983df",
   "metadata": {},
   "outputs": [],
   "source": [
    "# Reference: https://docs.opensearch.org/docs/latest/vector-search/specialized-operations/nested-search-knn/#retrieving-all-nested-hits\n",
    "\n",
    "\n",
    "def semantic_search_all_inner_hits(os_index: str, embedding: list) -> dict:\n",
    "    \"\"\"Query the OpenSearch index using a text embedding with inner hits to retrieve all matching nested segments.\n",
    "\n",
    "    Args:\n",
    "        os_index (str): The ID of the Amazon OpenSearch index.\n",
    "        embedding (list): The embedding vector to use for the query.\n",
    "\n",
    "    Returns:\n",
    "        dict: The search response from OpenSearch.\n",
    "    \"\"\"\n",
    "    query = {\n",
    "        \"query\": {\n",
    "            \"nested\": {\n",
    "                \"path\": \"segments\",\n",
    "                \"query\": {\n",
    "                    \"knn\": {\n",
    "                        \"segments.segment_embedding\": {\n",
    "                            \"vector\": embedding,\n",
    "                            \"k\": 6,\n",
    "                            \"expand_nested_docs\": True,\n",
    "                            \"rescore\": True,\n",
    "                        }\n",
    "                    }\n",
    "                },\n",
    "                \"inner_hits\": {\n",
    "                    \"_source\": False,\n",
    "                    \"fields\": [\n",
    "                        \"segments.start_offset_sec\",\n",
    "                        \"segments.end_offset_sec\",\n",
    "                        \"segments.embedding_option\",\n",
    "                        \"segments.segment_embedding\",\n",
    "                    ],\n",
    "                    \"size\": 3,\n",
    "                },\n",
    "                \"score_mode\": \"max\",\n",
    "            }\n",
    "        },\n",
    "        \"size\": 6,\n",
    "        \"_source\": {\"excludes\": [\"segments.segment_embedding\"]},\n",
    "    }\n",
    "\n",
    "    try:\n",
    "        search_results = os_client.search(body=query, index=os_index)\n",
    "        return search_results\n",
    "    except Exception as ex:\n",
    "        print(f\"Error querying index: {ex}\")\n",
    "        return {}\n",
    "\n",
    "\n",
    "# Query the index with the embedding\n",
    "search_results_4 = semantic_search_all_inner_hits(INDEX_NAME, text_embedding)\n",
    "for hit in search_results_4[\"hits\"][\"hits\"]:\n",
    "    print(f\"Video ID: {hit['_source']['video_id']}\")\n",
    "    print(f\"Title: {hit['_source']['gist']['title']}\")\n",
    "    print(f\"Score: {hit['_score']}\")\n",
    "    print(f\"Duration: {hit['_source']['system_metadata']['duration']:.2f} seconds\")\n",
    "    print(\"Matching Segment(s):\")\n",
    "    for segment in hit[\"inner_hits\"][\"segments\"][\"hits\"][\"hits\"]:\n",
    "        print(f\"  Segment: {segment['_nested']['offset']}\")\n",
    "        print(f\"    Score: {segment['_score']}\")\n",
    "        print(\n",
    "            f\"    Embedding type: {segment['fields']['segments.embedding_option'][0]}\"\n",
    "        )\n",
    "        print(f\"    Start: {segment['fields']['segments.start_offset_sec'][0]} seconds\")\n",
    "        print(f\"    End: {segment['fields']['segments.end_offset_sec'][0]} seconds\")\n",
    "    print(\"\\r\")"
   ]
  },
  {
   "cell_type": "markdown",
   "id": "407054ef",
   "metadata": {},
   "source": [
    "### Nested k-NN Semantic Search with all Nested Hits, with Filtering on Nested Fields\n"
   ]
  },
  {
   "cell_type": "code",
   "execution_count": null,
   "id": "39a62aa7",
   "metadata": {},
   "outputs": [],
   "source": [
    "# Reference: https://docs.opensearch.org/docs/latest/vector-search/specialized-operations/nested-search-knn/#retrieving-all-nested-hits\n",
    "\n",
    "\n",
    "def semantic_search_all_inner_hits(os_index: str, embedding: list) -> dict:\n",
    "    \"\"\"Query the OpenSearch index using a text embedding with inner hits to retrieve all matching nested segments.\n",
    "\n",
    "    Args:\n",
    "        os_index (str): The ID of the Amazon OpenSearch index.\n",
    "        embedding (list): The embedding vector to use for the query.\n",
    "\n",
    "    Returns:\n",
    "        dict: The search response from OpenSearch.\n",
    "    \"\"\"\n",
    "    query = {\n",
    "        \"query\": {\n",
    "            \"nested\": {\n",
    "                \"path\": \"segments\",\n",
    "                \"query\": {\n",
    "                    \"knn\": {\n",
    "                        \"segments.segment_embedding\": {\n",
    "                            \"vector\": embedding,\n",
    "                            \"k\": 3,\n",
    "                            \"expand_nested_docs\": True,\n",
    "                            \"filter\": {\"term\": {\"segments.embedding_option\": \"audio\"}},\n",
    "                            \"rescore\": True,\n",
    "                        }\n",
    "                    }\n",
    "                },\n",
    "                \"inner_hits\": {\n",
    "                    \"_source\": False,\n",
    "                    \"fields\": [\n",
    "                        \"segments.start_offset_sec\",\n",
    "                        \"segments.end_offset_sec\",\n",
    "                        \"segments.embedding_option\",\n",
    "                    ],\n",
    "                },\n",
    "                \"score_mode\": \"max\",\n",
    "            }\n",
    "        },\n",
    "        \"size\": 3,\n",
    "        \"_source\": {\"excludes\": [\"segments.segment_embedding\"]},\n",
    "    }\n",
    "\n",
    "    try:\n",
    "        search_results = os_client.search(body=query, index=os_index)\n",
    "        return search_results\n",
    "    except Exception as ex:\n",
    "        print(f\"Error querying index: {ex}\")\n",
    "        return {}\n",
    "\n",
    "\n",
    "# Query the index with the embedding\n",
    "search_results_5 = semantic_search_all_inner_hits(INDEX_NAME, text_embedding)\n",
    "for hit in search_results_5[\"hits\"][\"hits\"]:\n",
    "    print(f\"Video ID: {hit['_source']['video_id']}\")\n",
    "    print(f\"Title: {hit['_source']['gist']['title']}\")\n",
    "    print(f\"Score: {hit['_score']}\")\n",
    "    print(f\"Duration: {hit['_source']['system_metadata']['duration']:.2f} seconds\")\n",
    "    print(\"Matching Segment(s):\")\n",
    "    for segment in hit[\"inner_hits\"][\"segments\"][\"hits\"][\"hits\"]:\n",
    "        print(f\"  Segment: {segment['_nested']['offset']}\")\n",
    "        print(f\"    Score: {segment['_score']}\")\n",
    "        print(\n",
    "            f\"    Embedding type: {segment['fields']['segments.embedding_option'][0]}\"\n",
    "        )\n",
    "        print(f\"    Start: {segment['fields']['segments.start_offset_sec'][0]} seconds\")\n",
    "        print(f\"    End: {segment['fields']['segments.end_offset_sec'][0]} seconds\")\n",
    "    print(\"\\r\")"
   ]
  },
  {
   "cell_type": "markdown",
   "id": "8862b659",
   "metadata": {},
   "source": [
    "### Radial Search\n",
    "\n",
    "Search all points within a vector space that reside within a specified maximum distance or minimum score threshold from a query point (squared Euclidean distance).\n"
   ]
  },
  {
   "cell_type": "code",
   "execution_count": null,
   "id": "dfae3af9",
   "metadata": {},
   "outputs": [],
   "source": [
    "# Reference: https://docs.opensearch.org/docs/latest/vector-search/specialized-operations/radial-search-knn/\n",
    "\n",
    "\n",
    "def radial_search(os_index: str, embedding: list) -> dict:\n",
    "    \"\"\"Query the OpenSearch index using a text embedding with radial search to find segments within a certain distance.\n",
    "\n",
    "    Args:\n",
    "        os_index (str): The ID of the Amazon OpenSearch index.\n",
    "        embedding (list): The embedding vector to use for the query.\n",
    "\n",
    "    Returns:\n",
    "        dict: The search response from OpenSearch.\n",
    "    \"\"\"\n",
    "    query = {\n",
    "        \"query\": {\n",
    "            \"nested\": {\n",
    "                \"path\": \"segments\",\n",
    "                \"query\": {\n",
    "                    \"knn\": {\n",
    "                        \"segments.segment_embedding\": {\n",
    "                            \"vector\": embedding,\n",
    "                            \"max_distance\": 1,\n",
    "                        }\n",
    "                    }\n",
    "                },\n",
    "            }\n",
    "        },\n",
    "        \"size\": 6,\n",
    "        \"_source\": {\"excludes\": [\"segments.segment_embedding\"]},\n",
    "    }\n",
    "\n",
    "    try:\n",
    "        search_results = os_client.search(body=query, index=os_index)\n",
    "        return search_results\n",
    "    except Exception as ex:\n",
    "        print(f\"Error querying index: {ex}\")\n",
    "        return {}\n",
    "\n",
    "\n",
    "# Query the index with the embedding\n",
    "search_results_6 = semantic_search(INDEX_NAME, text_embedding)\n",
    "\n",
    "for hit in search_results_6[\"hits\"][\"hits\"]:\n",
    "    print(f\"Video ID: {hit['_source']['video_id']}\")\n",
    "    print(f\"Title: {hit['_source']['gist']['title']}\")\n",
    "    print(f\"Score: {hit['_score']}\")\n",
    "    print(f\"Duration: {hit['_source']['system_metadata']['duration']:.2f} seconds\")\n",
    "    print(\"\\r\")"
   ]
  },
  {
   "cell_type": "markdown",
   "id": "86b2103e",
   "metadata": {},
   "source": [
    "## Displaying Previews of Search Results\n"
   ]
  },
  {
   "cell_type": "markdown",
   "id": "26e98dd5",
   "metadata": {},
   "source": [
    "### Visual Grid of Results\n"
   ]
  },
  {
   "cell_type": "code",
   "execution_count": null,
   "id": "7934d032",
   "metadata": {},
   "outputs": [],
   "source": [
    "from matplotlib import pyplot as plt\n",
    "from PIL import Image\n",
    "from urllib import request\n",
    "import io\n",
    "\n",
    "\n",
    "def load_image_from_url(url: str) -> Image.Image:\n",
    "    \"\"\"Load an image from a URL.\n",
    "\n",
    "    Args:\n",
    "        url (str): The URL of the image to load.\n",
    "\n",
    "    Returns:\n",
    "        PIL.Image.Image: The loaded image.\n",
    "    \"\"\"\n",
    "    try:\n",
    "        with request.urlopen(url) as response:\n",
    "            image_data = response.read()\n",
    "            image = Image.open(io.BytesIO(image_data))\n",
    "            return image\n",
    "    except Exception as e:\n",
    "        print(f\"Error loading video thumbnail from URL: {e}\")\n",
    "        return None\n",
    "\n",
    "\n",
    "index = 1\n",
    "rows = 3\n",
    "columns = 3\n",
    "\n",
    "fig = plt.figure(figsize=(10, 7))\n",
    "\n",
    "for hit in search_results_1[\"hits\"][\"hits\"]:\n",
    "    fig.set_dpi(300)\n",
    "    fig.add_subplot(rows, columns, index)\n",
    "    image_url = hit[\"_source\"][\"hls\"][\"thumbnail_urls\"][0]\n",
    "    image = load_image_from_url(image_url)\n",
    "    plt.axis(\"off\")\n",
    "    plt.imshow(image)\n",
    "    plt.title(\n",
    "        f'Video: {hit[\"_source\"][\"system_metadata\"][\"filename\"][0:40]}\\nScore: {hit[\"_score\"]}',\n",
    "        fontdict=dict(family=\"Arial\", size=8),\n",
    "        color=\"black\",\n",
    "    )\n",
    "    index += 1"
   ]
  },
  {
   "cell_type": "markdown",
   "id": "250733bf",
   "metadata": {},
   "source": [
    "### 2D/3D Visualizations Using PCA\n",
    "\n",
    "Principal Component Analysis (PCA) is a dimensionality reduction technique used to simplify complex datasets by transforming the original variables into a new set of uncorrelated variables called principal components.\n"
   ]
  },
  {
   "cell_type": "code",
   "execution_count": null,
   "id": "aa4eba70",
   "metadata": {},
   "outputs": [],
   "source": [
    "def semantic_search_pca(os_index: str, embedding: list) -> dict:\n",
    "    \"\"\"Query the OpenSearch index using a text embedding.\n",
    "\n",
    "    Args:\n",
    "        os_index (str): The ID of the Amazon OpenSearch index.\n",
    "        embedding (list): The embedding vector to use for the query.\n",
    "\n",
    "    Returns:\n",
    "        dict: The search response from OpenSearch including embeddings.\n",
    "    \"\"\"\n",
    "    query = {\n",
    "        \"query\": {\n",
    "            \"nested\": {\n",
    "                \"path\": \"segments\",\n",
    "                \"query\": {\n",
    "                    \"knn\": {\n",
    "                        \"segments.segment_embedding\": {\n",
    "                            \"vector\": embedding,\n",
    "                            \"k\": 6,\n",
    "                        }\n",
    "                    }\n",
    "                },\n",
    "            }\n",
    "        },\n",
    "        \"size\": 6,\n",
    "    }\n",
    "\n",
    "    try:\n",
    "        search_results = os_client.search(body=query, index=os_index)\n",
    "        return search_results\n",
    "    except Exception as ex:\n",
    "        print(f\"Error querying index: {ex}\")\n",
    "        return {}\n",
    "\n",
    "\n",
    "# Query the index with the embedding\n",
    "search_results_7 = semantic_search_pca(INDEX_NAME, text_embedding)\n",
    "\n",
    "embeddings = []\n",
    "video_names = []\n",
    "\n",
    "for hit in search_results_7[\"hits\"][\"hits\"]:\n",
    "    embeddings.append(hit[\"_source\"][\"segments\"][0][\"segment_embedding\"])\n",
    "    video_names.append(hit[\"_source\"][\"system_metadata\"][\"filename\"])\n",
    "embeddings.append(text_embedding)\n",
    "video_names.append(\"User query\")"
   ]
  },
  {
   "cell_type": "markdown",
   "id": "6c9e165b",
   "metadata": {},
   "source": [
    "#### 2D Visualization Using PCA\n"
   ]
  },
  {
   "cell_type": "code",
   "execution_count": null,
   "id": "46de7dae",
   "metadata": {},
   "outputs": [],
   "source": [
    "from sklearn.decomposition import PCA\n",
    "\n",
    "# Reduce the dense vector embedding's dimensions from 1,024 to 2 using PCA for visualization\n",
    "pca = PCA(n_components=2)\n",
    "vis_dims_2d = pca.fit_transform(embeddings)\n",
    "print(f\"Reduced dimensions shape (2d): {vis_dims_2d.shape}\")"
   ]
  },
  {
   "cell_type": "code",
   "execution_count": null,
   "id": "8061da9d",
   "metadata": {},
   "outputs": [],
   "source": [
    "import plotly.graph_objs as go\n",
    "import numpy as np\n",
    "\n",
    "fig = go.Figure()\n",
    "\n",
    "# Search results\n",
    "for i, video_name in enumerate(video_names[0:-1]):\n",
    "    x = np.array([vis_dims_2d[i, 0]])\n",
    "    y = np.array([vis_dims_2d[i, 1]])\n",
    "\n",
    "    fig.add_trace(\n",
    "        go.Scatter(\n",
    "            x=x,\n",
    "            y=y,\n",
    "            mode=\"markers\",\n",
    "            marker=dict(\n",
    "                size=15,\n",
    "                colorscale=\"Viridis\",\n",
    "                opacity=1.0,\n",
    "                symbol=\"circle\",\n",
    "            ),\n",
    "            name=video_names[i][0:25],  # Truncate long names for better visibility\n",
    "        )\n",
    "    )\n",
    "\n",
    "# User query\n",
    "x = np.array([vis_dims_2d[-1, 0]])\n",
    "y = np.array([vis_dims_2d[-1, 1]])\n",
    "\n",
    "fig.add_trace(\n",
    "    go.Scatter(\n",
    "        x=x,\n",
    "        y=y,\n",
    "        mode=\"text+markers\",\n",
    "        marker=dict(\n",
    "            size=15,\n",
    "            color=\"black\",\n",
    "            colorscale=\"Viridis\",\n",
    "            opacity=1.0,\n",
    "            symbol=\"square\",\n",
    "        ),\n",
    "        name=video_names[-1][0:25],  # Truncate long names for better visibility\n",
    "        text=video_names[-1],\n",
    "        textposition=\"bottom left\",\n",
    "        showlegend=False,\n",
    "    )\n",
    ")\n",
    "\n",
    "fig.update_layout(\n",
    "    autosize=True,\n",
    "    # width=900,\n",
    "    # height=600,\n",
    "    font=dict(size=12, color=\"black\", family=\"Arial, sans-serif\"),\n",
    "    title=\"2D Scatter Plot of Search Results using PCA\",\n",
    "    margin=dict(l=30, r=30, b=30, t=60, pad=10),\n",
    "    xaxis=dict(title=\"x\"),\n",
    "    yaxis=dict(title=\"y\"),\n",
    "    legend=dict(title=\"   Search Results\"),\n",
    ")\n",
    "fig.show()"
   ]
  },
  {
   "cell_type": "markdown",
   "id": "5160c095",
   "metadata": {},
   "source": [
    "#### 3D Visualization Using PCA\n"
   ]
  },
  {
   "cell_type": "code",
   "execution_count": null,
   "id": "179e59a6",
   "metadata": {},
   "outputs": [],
   "source": [
    "# Reduce the dense vector embedding's dimensions from 1,024 to 3 using PCA for visualization\n",
    "pca = PCA(n_components=3)\n",
    "vis_dims_3d = pca.fit_transform(embeddings)\n",
    "\n",
    "print(f\"Reduced dimensions shape (3d): {vis_dims_3d.shape}\")"
   ]
  },
  {
   "cell_type": "code",
   "execution_count": null,
   "id": "8bf7066e",
   "metadata": {},
   "outputs": [],
   "source": [
    "fig = go.Figure()\n",
    "\n",
    "# Results\n",
    "for i, video_name in enumerate(video_names[0:-1]):\n",
    "    x = np.array([vis_dims_3d[i, 0]])\n",
    "    y = np.array([vis_dims_3d[i, 1]])\n",
    "    z = np.array([vis_dims_3d[i, 2]])\n",
    "\n",
    "    fig.add_trace(\n",
    "        go.Scatter3d(\n",
    "            x=x,\n",
    "            y=y,\n",
    "            z=z,\n",
    "            mode=\"markers\",\n",
    "            marker=dict(size=7, colorscale=\"Viridis\", opacity=1.0, symbol=\"circle\"),\n",
    "            name=video_name[0:25],  # Truncate long names for better visibility\n",
    "            text=video_name[0:25],  # Truncate long names for better visibility\n",
    "            textposition=\"top center\",\n",
    "        )\n",
    "    )\n",
    "\n",
    "# User query\n",
    "x = np.array([vis_dims_3d[-1, 0]])\n",
    "y = np.array([vis_dims_3d[-1, 1]])\n",
    "z = np.array([vis_dims_3d[-1, 2]])\n",
    "\n",
    "fig.add_trace(\n",
    "    go.Scatter3d(\n",
    "        x=x,\n",
    "        y=y,\n",
    "        z=z,\n",
    "        mode=\"markers\",\n",
    "        marker=dict(\n",
    "            size=7, color=\"black\", colorscale=\"Viridis\", opacity=1.0, symbol=\"square\"\n",
    "        ),\n",
    "        name=video_names[-1],\n",
    "        text=video_names[-1],\n",
    "        textposition=\"bottom left\",\n",
    "        showlegend=False,\n",
    "    )\n",
    ")\n",
    "\n",
    "fig.update_layout(\n",
    "    autosize=True,\n",
    "    # width=900,\n",
    "    font=dict(size=12, color=\"black\", family=\"Arial, sans-serif\"),\n",
    "    title=\"3D Scatter Plot of Search Results using PCA\",\n",
    "    margin=dict(l=30, r=30, b=20, t=50, pad=10),\n",
    "    scene=dict(\n",
    "        xaxis=dict(title=\"z\"),\n",
    "        yaxis=dict(title=\"x\"),\n",
    "        zaxis=dict(title=\"y\"),\n",
    "    ),\n",
    "    legend=dict(\n",
    "        title=\"   Search Results\",\n",
    "    ),\n",
    ")\n",
    "fig.show()"
   ]
  },
  {
   "cell_type": "markdown",
   "id": "cdab5f30",
   "metadata": {},
   "source": [
    "#### Animate the 3D Visualization\n"
   ]
  },
  {
   "cell_type": "code",
   "execution_count": null,
   "id": "95902df7",
   "metadata": {},
   "outputs": [],
   "source": [
    "fig = go.Figure()\n",
    "\n",
    "# Results\n",
    "for i, video_name in enumerate(video_names[0:-1]):\n",
    "    x = np.array([vis_dims_3d[i, 0]])\n",
    "    y = np.array([vis_dims_3d[i, 1]])\n",
    "    z = np.array([vis_dims_3d[i, 2]])\n",
    "\n",
    "    fig.add_trace(\n",
    "        go.Scatter3d(\n",
    "            x=x,\n",
    "            y=y,\n",
    "            z=z,\n",
    "            mode=\"markers\",\n",
    "            marker=dict(size=7, colorscale=\"Viridis\", opacity=1.0, symbol=\"circle\"),\n",
    "            name=video_name[0:25],  # Truncate long names for better visibility\n",
    "            text=video_name[0:25],  # Truncate long names for better visibility\n",
    "            textposition=\"top center\",\n",
    "        )\n",
    "    )\n",
    "\n",
    "# User query\n",
    "x = np.array([vis_dims_3d[-1, 0]])\n",
    "y = np.array([vis_dims_3d[-1, 1]])\n",
    "z = np.array([vis_dims_3d[-1, 2]])\n",
    "\n",
    "fig.add_trace(\n",
    "    go.Scatter3d(\n",
    "        x=x,\n",
    "        y=y,\n",
    "        z=z,\n",
    "        mode=\"markers\",\n",
    "        marker=dict(\n",
    "            size=7, color=\"black\", colorscale=\"Viridis\", opacity=1.0, symbol=\"square\"\n",
    "        ),\n",
    "        name=video_names[-1],\n",
    "        text=video_names[-1],\n",
    "        textposition=\"top center\",\n",
    "        showlegend=False,\n",
    "    )\n",
    ")\n",
    "\n",
    "x_eye = -1.25\n",
    "y_eye = 1.5\n",
    "z_eye = 0.5\n",
    "\n",
    "fig.update_layout(\n",
    "    autosize=True,\n",
    "    # width=900,\n",
    "    font=dict(size=12, color=\"black\", family=\"Arial, sans-serif\"),\n",
    "    title=\"3D Scatter Plot of Search Results using PCA\",\n",
    "    margin=dict(l=30, r=30, b=30, t=40, pad=10),\n",
    "    scene=dict(\n",
    "        xaxis=dict(title=\"z\"),\n",
    "        yaxis=dict(title=\"x\"),\n",
    "        zaxis=dict(title=\"y\"),\n",
    "    ),\n",
    "    scene_camera_eye=dict(x=x_eye, y=y_eye, z=z_eye),\n",
    "    updatemenus=[\n",
    "        dict(\n",
    "            type=\"buttons\",\n",
    "            showactive=True,\n",
    "            y=0.9,\n",
    "            x=0.9,\n",
    "            xanchor=\"left\",\n",
    "            yanchor=\"bottom\",\n",
    "            pad=dict(t=45, r=10),\n",
    "            buttons=[\n",
    "                dict(\n",
    "                    label=\"Play\",\n",
    "                    method=\"animate\",\n",
    "                    args=[\n",
    "                        None,\n",
    "                        dict(\n",
    "                            frame=dict(duration=15, redraw=True),\n",
    "                            transition=dict(duration=1),\n",
    "                            fromcurrent=True,\n",
    "                            mode=\"immediate\",\n",
    "                        ),\n",
    "                    ],\n",
    "                )\n",
    "            ],\n",
    "        )\n",
    "    ],\n",
    "    legend=dict(\n",
    "        title=\"   Search Results\",\n",
    "    ),\n",
    ")\n",
    "\n",
    "\n",
    "def rotate_z(x, y, z, theta):\n",
    "    w = x + 1j * y\n",
    "    return np.real(np.exp(1j * theta) * w), np.imag(np.exp(1j * theta) * w), z\n",
    "\n",
    "\n",
    "frames = []\n",
    "for t in np.arange(0, 10, 0.01):\n",
    "    xe, ye, ze = rotate_z(x_eye, y_eye, z_eye, -t)\n",
    "    frames.append(go.Frame(layout=dict(scene_camera_eye=dict(x=xe, y=ye, z=ze))))\n",
    "fig.frames = frames\n",
    "\n",
    "fig.show()"
   ]
  },
  {
   "cell_type": "markdown",
   "id": "a15a34ab",
   "metadata": {},
   "source": [
    "### Extracting a List of Segments from Video Search Results\n",
    "\n",
    "Reorder the search results as a list of segments as opposed to a list of videos.\n"
   ]
  },
  {
   "cell_type": "code",
   "execution_count": null,
   "id": "c8da1bf0",
   "metadata": {},
   "outputs": [],
   "source": [
    "# Reference: https://docs.opensearch.org/docs/latest/vector-search/specialized-operations/nested-search-knn/#retrieving-all-nested-hits\n",
    "\n",
    "\n",
    "def semantic_search_all_inner_hits(os_index: str, embedding: list) -> dict:\n",
    "    \"\"\"Query the OpenSearch index using a text embedding with inner hits to retrieve all matching nested segments.\n",
    "\n",
    "    Args:\n",
    "        os_index (str): The ID of the Amazon OpenSearch index.\n",
    "        embedding (list): The embedding vector to use for the query.\n",
    "\n",
    "    Returns:\n",
    "        dict: The search response from OpenSearch.\n",
    "    \"\"\"\n",
    "    query = {\n",
    "        \"query\": {\n",
    "            \"nested\": {\n",
    "                \"path\": \"segments\",\n",
    "                \"query\": {\n",
    "                    \"knn\": {\n",
    "                        \"segments.segment_embedding\": {\n",
    "                            \"vector\": embedding,\n",
    "                            \"k\": 50,\n",
    "                            \"expand_nested_docs\": True,\n",
    "                            \"rescore\": True,\n",
    "                        }\n",
    "                    }\n",
    "                },\n",
    "                \"inner_hits\": {\n",
    "                    \"_source\": False,\n",
    "                    \"fields\": [\n",
    "                        \"segments.start_offset_sec\",\n",
    "                        \"segments.end_offset_sec\",\n",
    "                        \"segments.embedding_option\",\n",
    "                        \"segments.segment_embedding\",\n",
    "                    ],\n",
    "                    \"size\": 50,\n",
    "                },\n",
    "                \"score_mode\": \"max\",\n",
    "            }\n",
    "        },\n",
    "        \"size\": 50,\n",
    "        # \"_source\": {\"excludes\": [\"segments.segment_embedding\"]},\n",
    "    }\n",
    "\n",
    "    try:\n",
    "        search_results = os_client.search(body=query, index=os_index)\n",
    "        return search_results\n",
    "    except Exception as ex:\n",
    "        print(f\"Error querying index: {ex}\")\n",
    "        return {}\n",
    "\n",
    "\n",
    "# Query the index with the embedding\n",
    "search_results_7 = semantic_search_all_inner_hits(INDEX_NAME, text_embedding)\n",
    "\n",
    "for hit in search_results_7[\"hits\"][\"hits\"]:\n",
    "    print(f\"Video ID: {hit['_source']['video_id']}\")\n",
    "    print(f\"Title: {hit['_source']['gist']['title']}\")\n",
    "    print(f\"Score: {hit['_score']}\")\n",
    "    print(f\"Duration: {hit['_source']['system_metadata']['duration']:.2f} seconds\")\n",
    "    print(\"Matching Segment(s):\")\n",
    "    for segment in hit[\"inner_hits\"][\"segments\"][\"hits\"][\"hits\"]:\n",
    "        print(f\"  Segment: {segment['_nested']['offset']}\")\n",
    "        print(f\"    Score: {segment['_score']}\")\n",
    "        print(\n",
    "            f\"    Embedding type: {segment['fields']['segments.embedding_option'][0]}\"\n",
    "        )\n",
    "        print(f\"    Start: {segment['fields']['segments.start_offset_sec'][0]} seconds\")\n",
    "        print(f\"    End: {segment['fields']['segments.end_offset_sec'][0]} seconds\")\n",
    "    print(\"\\r\")"
   ]
  },
  {
   "cell_type": "code",
   "execution_count": null,
   "id": "ef2fd5cd",
   "metadata": {},
   "outputs": [],
   "source": [
    "def extract_segments_sorted_by_score(results: dict) -> list:\n",
    "    \"\"\"Extract segments from search results and sort them by score.\n",
    "\n",
    "    Args:\n",
    "        results (dict): The search results from the OpenSearch query.\n",
    "\n",
    "    Returns:\n",
    "        list: A list of segments sorted by their score in descending order.\n",
    "    \"\"\"\n",
    "    segments = []\n",
    "\n",
    "    for hit in results[\"hits\"][\"hits\"]:\n",
    "        for segment in hit[\"inner_hits\"][\"segments\"][\"hits\"][\"hits\"]:\n",
    "            segment_score = {}\n",
    "            segment_score[\"title\"] = hit[\"_source\"][\"gist\"][\"title\"]\n",
    "            segment_score[\"filename\"] = hit[\"_source\"][\"system_metadata\"][\"filename\"]\n",
    "            segment_score[\"offset\"] = segment[\"_nested\"][\"offset\"]\n",
    "            segment_score[\"_score\"] = segment[\"_score\"]\n",
    "            segment_score[\"embedding_option\"] = segment[\"fields\"][\n",
    "                \"segments.embedding_option\"\n",
    "            ][0]\n",
    "            segment_score[\"start_offset_sec\"] = round(\n",
    "                segment[\"fields\"][\"segments.start_offset_sec\"][0], 2\n",
    "            )\n",
    "            segment_score[\"end_offset_sec\"] = round(\n",
    "                segment[\"fields\"][\"segments.end_offset_sec\"][0], 2\n",
    "            )\n",
    "            segment_score[\"embedding\"] = segment[\"fields\"][\"segments.segment_embedding\"]\n",
    "            segments.append(segment_score)\n",
    "\n",
    "    segments = sorted(segments, key=lambda x: x[\"_score\"], reverse=True)\n",
    "    # print(json.dumps(segments[:3], indent=4))\n",
    "    return segments\n",
    "\n",
    "\n",
    "segments = extract_segments_sorted_by_score(search_results_7)"
   ]
  },
  {
   "cell_type": "markdown",
   "id": "3dbc6910",
   "metadata": {},
   "source": [
    "#### Display Top Video Segment from Search Results\n"
   ]
  },
  {
   "cell_type": "code",
   "execution_count": null,
   "id": "0b695412",
   "metadata": {},
   "outputs": [],
   "source": [
    "from IPython.display import HTML\n",
    "\n",
    "video_file = f\"{segments[0]['filename']}\"\n",
    "segment_start = segments[0][\"start_offset_sec\"]\n",
    "segment_end = segments[0][\"end_offset_sec\"]\n",
    "\n",
    "HTML(\n",
    "    f\"\"\"\n",
    "    <h2>Segment Details</h2>\n",
    "    <p>Filename: {video_file}</p>\n",
    "    <p>Segment start: {segment_start} seconds</p>\n",
    "    <p>Segment end: {segment_end} seconds</p>\n",
    "    <video width=\"600\" height=\"auto\" controls>\n",
    "        <source src=\"videos//commercials//{video_file}#t={segment_start},{segment_end}\" type=\"video/mp4\">\n",
    "    </video>    \n",
    "\"\"\"\n",
    ")"
   ]
  },
  {
   "cell_type": "code",
   "execution_count": null,
   "id": "ba0374d6",
   "metadata": {},
   "outputs": [
    {
     "name": "stdout",
     "output_type": "stream",
     "text": [
      "Reduced dimensions shape (2d): (508, 2)\n"
     ]
    },
    {
     "data": {
      "application/vnd.plotly.v1+json": {
       "config": {
        "plotlyServerURL": "https://plot.ly"
       },
       "data": [
        {
         "hovertemplate": "Video: bring_back_the_energy_volkswagen.mp4<br>Segment: 0</br>Embedding type: visual-text",
         "marker": {
          "color": "blue",
          "opacity": 0.5,
          "size": 8,
          "symbol": "circle"
         },
         "mode": "markers",
         "name": "",
         "type": "scatter",
         "x": {
          "bdata": "GMvIuki35L8=",
          "dtype": "f8"
         },
         "y": {
          "bdata": "3nfNv58DdD8=",
          "dtype": "f8"
         }
        },
        {
         "hovertemplate": "Video: weathertech_big_game_commercial_2025_whatever_comes_your_way_60_seconds.mp4<br>Segment: 2</br>Embedding type: visual-text",
         "marker": {
          "color": "blue",
          "opacity": 0.5,
          "size": 8,
          "symbol": "circle"
         },
         "mode": "markers",
         "name": "",
         "type": "scatter",
         "x": {
          "bdata": "JAnXzUp/578=",
          "dtype": "f8"
         },
         "y": {
          "bdata": "l+lbeud0oz8=",
          "dtype": "f8"
         }
        },
        {
         "hovertemplate": "Video: bring_back_the_energy_volkswagen.mp4<br>Segment: 9</br>Embedding type: visual-text",
         "marker": {
          "color": "blue",
          "opacity": 0.5,
          "size": 8,
          "symbol": "circle"
         },
         "mode": "markers",
         "name": "",
         "type": "scatter",
         "x": {
          "bdata": "oThZOigC5L8=",
          "dtype": "f8"
         },
         "y": {
          "bdata": "EuEWUyjPwz8=",
          "dtype": "f8"
         }
        },
        {
         "hovertemplate": "Video: bring_back_the_energy_volkswagen.mp4<br>Segment: 7</br>Embedding type: visual-text",
         "marker": {
          "color": "blue",
          "opacity": 0.5,
          "size": 8,
          "symbol": "circle"
         },
         "mode": "markers",
         "name": "",
         "type": "scatter",
         "x": {
          "bdata": "XrxLq7rI5L8=",
          "dtype": "f8"
         },
         "y": {
          "bdata": "UB3Ot1qUwT8=",
          "dtype": "f8"
         }
        },
        {
         "hovertemplate": "Video: weathertech_big_game_commercial_2025_whatever_comes_your_way_60_seconds.mp4<br>Segment: 3</br>Embedding type: visual-text",
         "marker": {
          "color": "blue",
          "opacity": 0.5,
          "size": 8,
          "symbol": "circle"
         },
         "mode": "markers",
         "name": "",
         "type": "scatter",
         "x": {
          "bdata": "8jQ71C5s5r8=",
          "dtype": "f8"
         },
         "y": {
          "bdata": "M3+N+x+JwT8=",
          "dtype": "f8"
         }
        },
        {
         "hovertemplate": "Video: bring_back_the_energy_volkswagen.mp4<br>Segment: 1</br>Embedding type: visual-text",
         "marker": {
          "color": "blue",
          "opacity": 0.5,
          "size": 8,
          "symbol": "circle"
         },
         "mode": "markers",
         "name": "",
         "type": "scatter",
         "x": {
          "bdata": "Hn4vUnAl5b8=",
          "dtype": "f8"
         },
         "y": {
          "bdata": "mI2fwU/SsL8=",
          "dtype": "f8"
         }
        },
        {
         "hovertemplate": "Video: weathertech_big_game_commercial_2025_whatever_comes_your_way_60_seconds.mp4<br>Segment: 1</br>Embedding type: visual-text",
         "marker": {
          "color": "blue",
          "opacity": 0.5,
          "size": 8,
          "symbol": "circle"
         },
         "mode": "markers",
         "name": "",
         "type": "scatter",
         "x": {
          "bdata": "z7CnzUFp578=",
          "dtype": "f8"
         },
         "y": {
          "bdata": "tE1nvzCJqz8=",
          "dtype": "f8"
         }
        },
        {
         "hovertemplate": "Video: weathertech_big_game_commercial_2025_whatever_comes_your_way_60_seconds.mp4<br>Segment: 5</br>Embedding type: visual-text",
         "marker": {
          "color": "blue",
          "opacity": 0.5,
          "size": 8,
          "symbol": "circle"
         },
         "mode": "markers",
         "name": "",
         "type": "scatter",
         "x": {
          "bdata": "Q2N966VH578=",
          "dtype": "f8"
         },
         "y": {
          "bdata": "mVNIDyZsqD8=",
          "dtype": "f8"
         }
        },
        {
         "hovertemplate": "Video: weathertech_big_game_commercial_2025_whatever_comes_your_way_60_seconds.mp4<br>Segment: 6</br>Embedding type: visual-text",
         "marker": {
          "color": "blue",
          "opacity": 0.5,
          "size": 8,
          "symbol": "circle"
         },
         "mode": "markers",
         "name": "",
         "type": "scatter",
         "x": {
          "bdata": "UPT6BhWR5b8=",
          "dtype": "f8"
         },
         "y": {
          "bdata": "R+PaxOlVyj8=",
          "dtype": "f8"
         }
        },
        {
         "hovertemplate": "Video: weathertech_big_game_commercial_2025_whatever_comes_your_way_60_seconds.mp4<br>Segment: 0</br>Embedding type: visual-text",
         "marker": {
          "color": "blue",
          "opacity": 0.5,
          "size": 8,
          "symbol": "circle"
         },
         "mode": "markers",
         "name": "",
         "type": "scatter",
         "x": {
          "bdata": "vRV9Br/65b8=",
          "dtype": "f8"
         },
         "y": {
          "bdata": "waJF26GuuD8=",
          "dtype": "f8"
         }
        },
        {
         "hovertemplate": "Video: weathertech_big_game_commercial_2025_whatever_comes_your_way_60_seconds.mp4<br>Segment: 7</br>Embedding type: visual-text",
         "marker": {
          "color": "blue",
          "opacity": 0.5,
          "size": 8,
          "symbol": "circle"
         },
         "mode": "markers",
         "name": "",
         "type": "scatter",
         "x": {
          "bdata": "mNtTASgM5r8=",
          "dtype": "f8"
         },
         "y": {
          "bdata": "KDUIjMq8uD8=",
          "dtype": "f8"
         }
        },
        {
         "hovertemplate": "Video: sling_baby_doritos_commercial_superbowl_commercials.mp4<br>Segment: 1</br>Embedding type: visual-text",
         "marker": {
          "color": "blue",
          "opacity": 0.5,
          "size": 8,
          "symbol": "circle"
         },
         "mode": "markers",
         "name": "",
         "type": "scatter",
         "x": {
          "bdata": "8wPPy+PN5L8=",
          "dtype": "f8"
         },
         "y": {
          "bdata": "Hn1G38Lcrz8=",
          "dtype": "f8"
         }
        },
        {
         "hovertemplate": "Video: bring_back_the_energy_volkswagen.mp4<br>Segment: 10</br>Embedding type: visual-text",
         "marker": {
          "color": "blue",
          "opacity": 0.5,
          "size": 8,
          "symbol": "circle"
         },
         "mode": "markers",
         "name": "",
         "type": "scatter",
         "x": {
          "bdata": "Zywf1dZ05b8=",
          "dtype": "f8"
         },
         "y": {
          "bdata": "ik8H0SmDxj8=",
          "dtype": "f8"
         }
        },
        {
         "hovertemplate": "Video: weathertech_big_game_commercial_2025_whatever_comes_your_way_60_seconds.mp4<br>Segment: 4</br>Embedding type: visual-text",
         "marker": {
          "color": "blue",
          "opacity": 0.5,
          "size": 8,
          "symbol": "circle"
         },
         "mode": "markers",
         "name": "",
         "type": "scatter",
         "x": {
          "bdata": "6iIM5ZLB5r8=",
          "dtype": "f8"
         },
         "y": {
          "bdata": "duIdjuJFoT8=",
          "dtype": "f8"
         }
        },
        {
         "hovertemplate": "Video: bring_back_the_energy_volkswagen.mp4<br>Segment: 8</br>Embedding type: visual-text",
         "marker": {
          "color": "blue",
          "opacity": 0.5,
          "size": 8,
          "symbol": "circle"
         },
         "mode": "markers",
         "name": "",
         "type": "scatter",
         "x": {
          "bdata": "wBNA+GOO5L8=",
          "dtype": "f8"
         },
         "y": {
          "bdata": "3XMnnrawyj8=",
          "dtype": "f8"
         }
        },
        {
         "hovertemplate": "Video: bring_back_the_energy_volkswagen.mp4<br>Segment: 6</br>Embedding type: visual-text",
         "marker": {
          "color": "blue",
          "opacity": 0.5,
          "size": 8,
          "symbol": "circle"
         },
         "mode": "markers",
         "name": "",
         "type": "scatter",
         "x": {
          "bdata": "U5utiv2c5L8=",
          "dtype": "f8"
         },
         "y": {
          "bdata": "ed8DOoForj8=",
          "dtype": "f8"
         }
        },
        {
         "hovertemplate": "Video: bring_back_the_energy_volkswagen.mp4<br>Segment: 4</br>Embedding type: visual-text",
         "marker": {
          "color": "blue",
          "opacity": 0.5,
          "size": 8,
          "symbol": "circle"
         },
         "mode": "markers",
         "name": "",
         "type": "scatter",
         "x": {
          "bdata": "Xa+iy8Zi5r8=",
          "dtype": "f8"
         },
         "y": {
          "bdata": "I4Xj+520wr8=",
          "dtype": "f8"
         }
        },
        {
         "hovertemplate": "Video: weathertech_big_game_commercial_2025_whatever_comes_your_way_60_seconds.mp4<br>Segment: 8</br>Embedding type: visual-text",
         "marker": {
          "color": "blue",
          "opacity": 0.5,
          "size": 8,
          "symbol": "circle"
         },
         "mode": "markers",
         "name": "",
         "type": "scatter",
         "x": {
          "bdata": "wgkoC/2n5r8=",
          "dtype": "f8"
         },
         "y": {
          "bdata": "+MS5bAnyrD8=",
          "dtype": "f8"
         }
        },
        {
         "hovertemplate": "Video: soda_thoughts_i_poppi_super_bowl_lix_2025_commercial.mp4<br>Segment: 2</br>Embedding type: visual-text",
         "marker": {
          "color": "blue",
          "opacity": 0.5,
          "size": 8,
          "symbol": "circle"
         },
         "mode": "markers",
         "name": "",
         "type": "scatter",
         "x": {
          "bdata": "qgFhFSxz578=",
          "dtype": "f8"
         },
         "y": {
          "bdata": "CZXvCRVBsL8=",
          "dtype": "f8"
         }
        },
        {
         "hovertemplate": "Video: taco_bell_2025_big_game_teaser_photobomb_feat_doja_cat.mp4<br>Segment: 0</br>Embedding type: visual-text",
         "marker": {
          "color": "blue",
          "opacity": 0.5,
          "size": 8,
          "symbol": "circle"
         },
         "mode": "markers",
         "name": "",
         "type": "scatter",
         "x": {
          "bdata": "xdxID1lG578=",
          "dtype": "f8"
         },
         "y": {
          "bdata": "octtzeigsD8=",
          "dtype": "f8"
         }
        },
        {
         "hovertemplate": "Video: golf_limu_emu_doug_liberty_mutual_insurance_commercial.mp4<br>Segment: 0</br>Embedding type: visual-text",
         "marker": {
          "color": "blue",
          "opacity": 0.5,
          "size": 8,
          "symbol": "circle"
         },
         "mode": "markers",
         "name": "",
         "type": "scatter",
         "x": {
          "bdata": "tSnnKJgZ5L8=",
          "dtype": "f8"
         },
         "y": {
          "bdata": "CtN1maPitj8=",
          "dtype": "f8"
         }
        },
        {
         "hovertemplate": "Video: anti_smoking_commercial_french.mp4<br>Segment: 1</br>Embedding type: visual-text",
         "marker": {
          "color": "blue",
          "opacity": 0.5,
          "size": 8,
          "symbol": "circle"
         },
         "mode": "markers",
         "name": "",
         "type": "scatter",
         "x": {
          "bdata": "6SGlIx8x5r8=",
          "dtype": "f8"
         },
         "y": {
          "bdata": "4bsc3Ig2xL8=",
          "dtype": "f8"
         }
        },
        {
         "hovertemplate": "Video: taco_bell_2025_big_game_teaser_photobomb_feat_doja_cat.mp4<br>Segment: 1</br>Embedding type: visual-text",
         "marker": {
          "color": "blue",
          "opacity": 0.5,
          "size": 8,
          "symbol": "circle"
         },
         "mode": "markers",
         "name": "",
         "type": "scatter",
         "x": {
          "bdata": "pIaUPQRC578=",
          "dtype": "f8"
         },
         "y": {
          "bdata": "40Rps8oGqb8=",
          "dtype": "f8"
         }
        },
        {
         "hovertemplate": "Video: bring_back_the_energy_volkswagen.mp4<br>Segment: 2</br>Embedding type: visual-text",
         "marker": {
          "color": "blue",
          "opacity": 0.5,
          "size": 8,
          "symbol": "circle"
         },
         "mode": "markers",
         "name": "",
         "type": "scatter",
         "x": {
          "bdata": "D1DYTUqi4r8=",
          "dtype": "f8"
         },
         "y": {
          "bdata": "yvhOE+XDsD8=",
          "dtype": "f8"
         }
        },
        {
         "hovertemplate": "Video: anti_smoking_commercial_french.mp4<br>Segment: 4</br>Embedding type: visual-text",
         "marker": {
          "color": "blue",
          "opacity": 0.5,
          "size": 8,
          "symbol": "circle"
         },
         "mode": "markers",
         "name": "",
         "type": "scatter",
         "x": {
          "bdata": "vUP/5jNF578=",
          "dtype": "f8"
         },
         "y": {
          "bdata": "PQsy5e7RyL8=",
          "dtype": "f8"
         }
        },
        {
         "hovertemplate": "Video: bring_back_the_energy_volkswagen.mp4<br>Segment: 3</br>Embedding type: visual-text",
         "marker": {
          "color": "blue",
          "opacity": 0.5,
          "size": 8,
          "symbol": "circle"
         },
         "mode": "markers",
         "name": "",
         "type": "scatter",
         "x": {
          "bdata": "9ldkycwJ5r8=",
          "dtype": "f8"
         },
         "y": {
          "bdata": "bzC6wfv1vb8=",
          "dtype": "f8"
         }
        },
        {
         "hovertemplate": "Video: anti_smoking_commercial_french.mp4<br>Segment: 2</br>Embedding type: visual-text",
         "marker": {
          "color": "blue",
          "opacity": 0.5,
          "size": 8,
          "symbol": "circle"
         },
         "mode": "markers",
         "name": "",
         "type": "scatter",
         "x": {
          "bdata": "U22OuaWm5r8=",
          "dtype": "f8"
         },
         "y": {
          "bdata": "++rCeD1qxb8=",
          "dtype": "f8"
         }
        },
        {
         "hovertemplate": "Video: bring_back_the_energy_volkswagen.mp4<br>Segment: 5</br>Embedding type: visual-text",
         "marker": {
          "color": "blue",
          "opacity": 0.5,
          "size": 8,
          "symbol": "circle"
         },
         "mode": "markers",
         "name": "",
         "type": "scatter",
         "x": {
          "bdata": "+qcokRZ65b8=",
          "dtype": "f8"
         },
         "y": {
          "bdata": "bpL4DoDCwr8=",
          "dtype": "f8"
         }
        },
        {
         "hovertemplate": "Video: anti_smoking_commercial_french.mp4<br>Segment: 11</br>Embedding type: visual-text",
         "marker": {
          "color": "blue",
          "opacity": 0.5,
          "size": 8,
          "symbol": "circle"
         },
         "mode": "markers",
         "name": "",
         "type": "scatter",
         "x": {
          "bdata": "bXV8Esvg5r8=",
          "dtype": "f8"
         },
         "y": {
          "bdata": "A8G5xZsocz8=",
          "dtype": "f8"
         }
        },
        {
         "hovertemplate": "Video: little_caesars_best_thing_since_sliced_bread_2020_super_bowl_commercial.mp4<br>Segment: 9</br>Embedding type: visual-text",
         "marker": {
          "color": "blue",
          "opacity": 0.5,
          "size": 8,
          "symbol": "circle"
         },
         "mode": "markers",
         "name": "",
         "type": "scatter",
         "x": {
          "bdata": "UyWN2Qyp5b8=",
          "dtype": "f8"
         },
         "y": {
          "bdata": "SsRaSHkpsD8=",
          "dtype": "f8"
         }
        },
        {
         "hovertemplate": "Video: anti_smoking_commercial_french.mp4<br>Segment: 0</br>Embedding type: visual-text",
         "marker": {
          "color": "blue",
          "opacity": 0.5,
          "size": 8,
          "symbol": "circle"
         },
         "mode": "markers",
         "name": "",
         "type": "scatter",
         "x": {
          "bdata": "e4XeVVeG5r8=",
          "dtype": "f8"
         },
         "y": {
          "bdata": "QFxN8Q1Ivb8=",
          "dtype": "f8"
         }
        },
        {
         "hovertemplate": "Video: golf_limu_emu_doug_liberty_mutual_insurance_commercial.mp4<br>Segment: 2</br>Embedding type: visual-text",
         "marker": {
          "color": "blue",
          "opacity": 0.5,
          "size": 8,
          "symbol": "circle"
         },
         "mode": "markers",
         "name": "",
         "type": "scatter",
         "x": {
          "bdata": "+jqtWbEH5b8=",
          "dtype": "f8"
         },
         "y": {
          "bdata": "2/z9WnGDkz8=",
          "dtype": "f8"
         }
        },
        {
         "hovertemplate": "Video: the_new_kid_doritos_commercial.mp4<br>Segment: 3</br>Embedding type: visual-text",
         "marker": {
          "color": "blue",
          "opacity": 0.5,
          "size": 8,
          "symbol": "circle"
         },
         "mode": "markers",
         "name": "",
         "type": "scatter",
         "x": {
          "bdata": "Tv9VNcCO5L8=",
          "dtype": "f8"
         },
         "y": {
          "bdata": "CyfLjS4LgD8=",
          "dtype": "f8"
         }
        },
        {
         "hovertemplate": "Video: anti_smoking_commercial_french.mp4<br>Segment: 7</br>Embedding type: visual-text",
         "marker": {
          "color": "blue",
          "opacity": 0.5,
          "size": 8,
          "symbol": "circle"
         },
         "mode": "markers",
         "name": "",
         "type": "scatter",
         "x": {
          "bdata": "vV5rsZbY5b8=",
          "dtype": "f8"
         },
         "y": {
          "bdata": "I884ct7Ax78=",
          "dtype": "f8"
         }
        },
        {
         "hovertemplate": "Video: reacher_breaks_the_bullies_reacher_s03e03_amazon_prime_videos.mp4<br>Segment: 1</br>Embedding type: visual-text",
         "marker": {
          "color": "blue",
          "opacity": 0.5,
          "size": 8,
          "symbol": "circle"
         },
         "mode": "markers",
         "name": "",
         "type": "scatter",
         "x": {
          "bdata": "prLxfxop578=",
          "dtype": "f8"
         },
         "y": {
          "bdata": "tOlndJ7lr78=",
          "dtype": "f8"
         }
        },
        {
         "hovertemplate": "Video: reacher_breaks_the_bullies_reacher_s03e03_amazon_prime_videos.mp4<br>Segment: 0</br>Embedding type: visual-text",
         "marker": {
          "color": "blue",
          "opacity": 0.5,
          "size": 8,
          "symbol": "circle"
         },
         "mode": "markers",
         "name": "",
         "type": "scatter",
         "x": {
          "bdata": "dzqt5tfZ5b8=",
          "dtype": "f8"
         },
         "y": {
          "bdata": "mogTEZXikD8=",
          "dtype": "f8"
         }
        },
        {
         "hovertemplate": "Video: taco_bell_2025_big_game_teaser_photobomb_feat_doja_cat.mp4<br>Segment: 2</br>Embedding type: visual-text",
         "marker": {
          "color": "blue",
          "opacity": 0.5,
          "size": 8,
          "symbol": "circle"
         },
         "mode": "markers",
         "name": "",
         "type": "scatter",
         "x": {
          "bdata": "0WRDHeV+578=",
          "dtype": "f8"
         },
         "y": {
          "bdata": "nit8uo3QsL8=",
          "dtype": "f8"
         }
        },
        {
         "hovertemplate": "Video: reacher_breaks_the_bullies_reacher_s03e03_amazon_prime_videos.mp4<br>Segment: 15</br>Embedding type: visual-text",
         "marker": {
          "color": "blue",
          "opacity": 0.5,
          "size": 8,
          "symbol": "circle"
         },
         "mode": "markers",
         "name": "",
         "type": "scatter",
         "x": {
          "bdata": "hS3VBEbw5b8=",
          "dtype": "f8"
         },
         "y": {
          "bdata": "aSjc+KSQgz8=",
          "dtype": "f8"
         }
        },
        {
         "hovertemplate": "Video: golf_limu_emu_doug_liberty_mutual_insurance_commercial.mp4<br>Segment: 1</br>Embedding type: visual-text",
         "marker": {
          "color": "blue",
          "opacity": 0.5,
          "size": 8,
          "symbol": "circle"
         },
         "mode": "markers",
         "name": "",
         "type": "scatter",
         "x": {
          "bdata": "qciR3ouS5L8=",
          "dtype": "f8"
         },
         "y": {
          "bdata": "P8j5SQOGgj8=",
          "dtype": "f8"
         }
        },
        {
         "hovertemplate": "Video: 2025_bud_light_super_bowl_commercial_big_men_on_cul_de_sac_easy_to_drink_easy_to_enjoy_60.mp4<br>Segment: 0</br>Embedding type: visual-text",
         "marker": {
          "color": "blue",
          "opacity": 0.5,
          "size": 8,
          "symbol": "circle"
         },
         "mode": "markers",
         "name": "",
         "type": "scatter",
         "x": {
          "bdata": "ZPQrlifo578=",
          "dtype": "f8"
         },
         "y": {
          "bdata": "MD/wFJdZtj8=",
          "dtype": "f8"
         }
        },
        {
         "hovertemplate": "Video: reacher_breaks_the_bullies_reacher_s03e03_amazon_prime_videos.mp4<br>Segment: 5</br>Embedding type: visual-text",
         "marker": {
          "color": "blue",
          "opacity": 0.5,
          "size": 8,
          "symbol": "circle"
         },
         "mode": "markers",
         "name": "",
         "type": "scatter",
         "x": {
          "bdata": "4rLTMfHF5r8=",
          "dtype": "f8"
         },
         "y": {
          "bdata": "4axswmqFZT8=",
          "dtype": "f8"
         }
        },
        {
         "hovertemplate": "Video: sling_baby_doritos_commercial_superbowl_commercials.mp4<br>Segment: 2</br>Embedding type: visual-text",
         "marker": {
          "color": "blue",
          "opacity": 0.5,
          "size": 8,
          "symbol": "circle"
         },
         "mode": "markers",
         "name": "",
         "type": "scatter",
         "x": {
          "bdata": "1/u84wXv5L8=",
          "dtype": "f8"
         },
         "y": {
          "bdata": "bgzZpVfNtz8=",
          "dtype": "f8"
         }
        },
        {
         "hovertemplate": "Video: sling_baby_doritos_commercial_superbowl_commercials.mp4<br>Segment: 0</br>Embedding type: visual-text",
         "marker": {
          "color": "blue",
          "opacity": 0.5,
          "size": 8,
          "symbol": "circle"
         },
         "mode": "markers",
         "name": "",
         "type": "scatter",
         "x": {
          "bdata": "sIuoEiL85L8=",
          "dtype": "f8"
         },
         "y": {
          "bdata": "kSYzeJzSoD8=",
          "dtype": "f8"
         }
        },
        {
         "hovertemplate": "Video: hyundai_commercial_conquer_the_weekend_vikings_the_all_new_2024_santa_fe_best_commercials.mp4<br>Segment: 0</br>Embedding type: visual-text",
         "marker": {
          "color": "blue",
          "opacity": 0.5,
          "size": 8,
          "symbol": "circle"
         },
         "mode": "markers",
         "name": "",
         "type": "scatter",
         "x": {
          "bdata": "WiXxjTk65L8=",
          "dtype": "f8"
         },
         "y": {
          "bdata": "C+0QbwkHwD8=",
          "dtype": "f8"
         }
        },
        {
         "hovertemplate": "Video: taco_bell_2025_big_game_teaser_photobomb_feat_doja_cat.mp4<br>Segment: 3</br>Embedding type: visual-text",
         "marker": {
          "color": "blue",
          "opacity": 0.5,
          "size": 8,
          "symbol": "circle"
         },
         "mode": "markers",
         "name": "",
         "type": "scatter",
         "x": {
          "bdata": "G0GRwZyE578=",
          "dtype": "f8"
         },
         "y": {
          "bdata": "Gka0fxZGlb8=",
          "dtype": "f8"
         }
        },
        {
         "hovertemplate": "Video: anti_smoking_commercial_french.mp4<br>Segment: 3</br>Embedding type: visual-text",
         "marker": {
          "color": "blue",
          "opacity": 0.5,
          "size": 8,
          "symbol": "circle"
         },
         "mode": "markers",
         "name": "",
         "type": "scatter",
         "x": {
          "bdata": "8qQEKPHP5r8=",
          "dtype": "f8"
         },
         "y": {
          "bdata": "Ivah6/C/zr8=",
          "dtype": "f8"
         }
        },
        {
         "hovertemplate": "Video: anti_smoking_commercial_french.mp4<br>Segment: 10</br>Embedding type: visual-text",
         "marker": {
          "color": "blue",
          "opacity": 0.5,
          "size": 8,
          "symbol": "circle"
         },
         "mode": "markers",
         "name": "",
         "type": "scatter",
         "x": {
          "bdata": "McXDAj5f5L8=",
          "dtype": "f8"
         },
         "y": {
          "bdata": "NYzKOeNDvj8=",
          "dtype": "f8"
         }
        },
        {
         "hovertemplate": "Video: anti_smoking_commercial_french.mp4<br>Segment: 8</br>Embedding type: visual-text",
         "marker": {
          "color": "blue",
          "opacity": 0.5,
          "size": 8,
          "symbol": "circle"
         },
         "mode": "markers",
         "name": "",
         "type": "scatter",
         "x": {
          "bdata": "MEK0Y3Qw5b8=",
          "dtype": "f8"
         },
         "y": {
          "bdata": "trwfKOcyxb8=",
          "dtype": "f8"
         }
        },
        {
         "hovertemplate": "Video: turbotax_2024_beat_your_price_commercial_tax_break_up_official_tv_ad_30.mp4<br>Segment: 4</br>Embedding type: visual-text",
         "marker": {
          "color": "blue",
          "opacity": 0.5,
          "size": 8,
          "symbol": "circle"
         },
         "mode": "markers",
         "name": "",
         "type": "scatter",
         "x": {
          "bdata": "izfw8CJ/5b8=",
          "dtype": "f8"
         },
         "y": {
          "bdata": "gF521GsYyD8=",
          "dtype": "f8"
         }
        },
        {
         "hovertemplate": "Video: soda_thoughts_i_poppi_super_bowl_lix_2025_commercial.mp4<br>Segment: 0</br>Embedding type: visual-text",
         "marker": {
          "color": "blue",
          "opacity": 0.5,
          "size": 8,
          "symbol": "circle"
         },
         "mode": "markers",
         "name": "",
         "type": "scatter",
         "x": {
          "bdata": "4RJh2M0w5r8=",
          "dtype": "f8"
         },
         "y": {
          "bdata": "Uqre0gaJy78=",
          "dtype": "f8"
         }
        },
        {
         "hovertemplate": "Video: little_caesars_best_thing_since_sliced_bread_2020_super_bowl_commercial.mp4<br>Segment: 6</br>Embedding type: visual-text",
         "marker": {
          "color": "blue",
          "opacity": 0.5,
          "size": 8,
          "symbol": "circle"
         },
         "mode": "markers",
         "name": "",
         "type": "scatter",
         "x": {
          "bdata": "zAvYMpa/5r8=",
          "dtype": "f8"
         },
         "y": {
          "bdata": "wcn9y1movD8=",
          "dtype": "f8"
         }
        },
        {
         "hovertemplate": "Video: hyundai_commercial_conquer_the_weekend_vikings_the_all_new_2024_santa_fe_best_commercials.mp4<br>Segment: 2</br>Embedding type: visual-text",
         "marker": {
          "color": "blue",
          "opacity": 0.5,
          "size": 8,
          "symbol": "circle"
         },
         "mode": "markers",
         "name": "",
         "type": "scatter",
         "x": {
          "bdata": "c0u0BOmQ5L8=",
          "dtype": "f8"
         },
         "y": {
          "bdata": "On0yjXO/0T8=",
          "dtype": "f8"
         }
        },
        {
         "hovertemplate": "Video: anti_smoking_commercial_french.mp4<br>Segment: 9</br>Embedding type: visual-text",
         "marker": {
          "color": "blue",
          "opacity": 0.5,
          "size": 8,
          "symbol": "circle"
         },
         "mode": "markers",
         "name": "",
         "type": "scatter",
         "x": {
          "bdata": "mZPA8I8Z578=",
          "dtype": "f8"
         },
         "y": {
          "bdata": "a90GOwzKwr8=",
          "dtype": "f8"
         }
        },
        {
         "hovertemplate": "Video: hyundai_commercial_conquer_the_weekend_vikings_the_all_new_2024_santa_fe_best_commercials.mp4<br>Segment: 5</br>Embedding type: visual-text",
         "marker": {
          "color": "blue",
          "opacity": 0.5,
          "size": 8,
          "symbol": "circle"
         },
         "mode": "markers",
         "name": "",
         "type": "scatter",
         "x": {
          "bdata": "OXYBU3Rj5b8=",
          "dtype": "f8"
         },
         "y": {
          "bdata": "gHGsbJfQrD8=",
          "dtype": "f8"
         }
        },
        {
         "hovertemplate": "Video: when_sally_met_hellmann_s_30_super_bowl_commercial_2025.mp4<br>Segment: 3</br>Embedding type: visual-text",
         "marker": {
          "color": "blue",
          "opacity": 0.5,
          "size": 8,
          "symbol": "circle"
         },
         "mode": "markers",
         "name": "",
         "type": "scatter",
         "x": {
          "bdata": "1IlltkaP578=",
          "dtype": "f8"
         },
         "y": {
          "bdata": "b21vWg5bxb8=",
          "dtype": "f8"
         }
        },
        {
         "hovertemplate": "Video: soda_thoughts_i_poppi_super_bowl_lix_2025_commercial.mp4<br>Segment: 6</br>Embedding type: visual-text",
         "marker": {
          "color": "blue",
          "opacity": 0.5,
          "size": 8,
          "symbol": "circle"
         },
         "mode": "markers",
         "name": "",
         "type": "scatter",
         "x": {
          "bdata": "ZVp/jerJ5r8=",
          "dtype": "f8"
         },
         "y": {
          "bdata": "tQ5T7BrDkD8=",
          "dtype": "f8"
         }
        },
        {
         "hovertemplate": "Video: 2025_bud_light_super_bowl_commercial_big_men_on_cul_de_sac_easy_to_drink_easy_to_enjoy_60.mp4<br>Segment: 8</br>Embedding type: visual-text",
         "marker": {
          "color": "blue",
          "opacity": 0.5,
          "size": 8,
          "symbol": "circle"
         },
         "mode": "markers",
         "name": "",
         "type": "scatter",
         "x": {
          "bdata": "dLR53sRe578=",
          "dtype": "f8"
         },
         "y": {
          "bdata": "rop53xC9tT8=",
          "dtype": "f8"
         }
        },
        {
         "hovertemplate": "Video: reacher_breaks_the_bullies_reacher_s03e03_amazon_prime_videos.mp4<br>Segment: 2</br>Embedding type: visual-text",
         "marker": {
          "color": "blue",
          "opacity": 0.5,
          "size": 8,
          "symbol": "circle"
         },
         "mode": "markers",
         "name": "",
         "type": "scatter",
         "x": {
          "bdata": "R2g8hB0P6L8=",
          "dtype": "f8"
         },
         "y": {
          "bdata": "MN9caF8dsL8=",
          "dtype": "f8"
         }
        },
        {
         "hovertemplate": "Video: coca_cola_1971_hilltop_i_d_like_to_buy_the_world_a_coke.mp4<br>Segment: 1</br>Embedding type: visual-text",
         "marker": {
          "color": "blue",
          "opacity": 0.5,
          "size": 8,
          "symbol": "circle"
         },
         "mode": "markers",
         "name": "",
         "type": "scatter",
         "x": {
          "bdata": "l4IYfNnw5r8=",
          "dtype": "f8"
         },
         "y": {
          "bdata": "aoZlZiSBxr8=",
          "dtype": "f8"
         }
        },
        {
         "hovertemplate": "Video: anti_smoking_commercial_french.mp4<br>Segment: 5</br>Embedding type: visual-text",
         "marker": {
          "color": "blue",
          "opacity": 0.5,
          "size": 8,
          "symbol": "circle"
         },
         "mode": "markers",
         "name": "",
         "type": "scatter",
         "x": {
          "bdata": "ePzxrKnY5r8=",
          "dtype": "f8"
         },
         "y": {
          "bdata": "oQcfxs9qwL8=",
          "dtype": "f8"
         }
        },
        {
         "hovertemplate": "Video: coca_cola_1971_hilltop_i_d_like_to_buy_the_world_a_coke.mp4<br>Segment: 0</br>Embedding type: visual-text",
         "marker": {
          "color": "blue",
          "opacity": 0.5,
          "size": 8,
          "symbol": "circle"
         },
         "mode": "markers",
         "name": "",
         "type": "scatter",
         "x": {
          "bdata": "tz9Df2Fg5r8=",
          "dtype": "f8"
         },
         "y": {
          "bdata": "iPoIMW03x78=",
          "dtype": "f8"
         }
        },
        {
         "hovertemplate": "Video: 2025_bud_light_super_bowl_commercial_big_men_on_cul_de_sac_easy_to_drink_easy_to_enjoy_60.mp4<br>Segment: 4</br>Embedding type: visual-text",
         "marker": {
          "color": "blue",
          "opacity": 0.5,
          "size": 8,
          "symbol": "circle"
         },
         "mode": "markers",
         "name": "",
         "type": "scatter",
         "x": {
          "bdata": "rKRVdqq65b8=",
          "dtype": "f8"
         },
         "y": {
          "bdata": "g0HZQF2b0T8=",
          "dtype": "f8"
         }
        },
        {
         "hovertemplate": "Video: soda_thoughts_i_poppi_super_bowl_lix_2025_commercial.mp4<br>Segment: 5</br>Embedding type: visual-text",
         "marker": {
          "color": "blue",
          "opacity": 0.5,
          "size": 8,
          "symbol": "circle"
         },
         "mode": "markers",
         "name": "",
         "type": "scatter",
         "x": {
          "bdata": "hbyPxaVp578=",
          "dtype": "f8"
         },
         "y": {
          "bdata": "V+LmwwKrqr8=",
          "dtype": "f8"
         }
        },
        {
         "hovertemplate": "Video: state_farm_commercial_arnold_schwarzenegger_super_bowl_commercial_2024_best_commercials.mp4<br>Segment: 11</br>Embedding type: visual-text",
         "marker": {
          "color": "blue",
          "opacity": 0.5,
          "size": 8,
          "symbol": "circle"
         },
         "mode": "markers",
         "name": "",
         "type": "scatter",
         "x": {
          "bdata": "nuiPSEZX578=",
          "dtype": "f8"
         },
         "y": {
          "bdata": "Gsm8tavPoT8=",
          "dtype": "f8"
         }
        },
        {
         "hovertemplate": "Video: state_farm_commercial_arnold_schwarzenegger_super_bowl_commercial_2024_best_commercials.mp4<br>Segment: 13</br>Embedding type: visual-text",
         "marker": {
          "color": "blue",
          "opacity": 0.5,
          "size": 8,
          "symbol": "circle"
         },
         "mode": "markers",
         "name": "",
         "type": "scatter",
         "x": {
          "bdata": "F2gsmEQn5r8=",
          "dtype": "f8"
         },
         "y": {
          "bdata": "xLOkdb+mtD8=",
          "dtype": "f8"
         }
        },
        {
         "hovertemplate": "Video: when_sally_met_hellmann_s_30_super_bowl_commercial_2025.mp4<br>Segment: 1</br>Embedding type: visual-text",
         "marker": {
          "color": "blue",
          "opacity": 0.5,
          "size": 8,
          "symbol": "circle"
         },
         "mode": "markers",
         "name": "",
         "type": "scatter",
         "x": {
          "bdata": "Kb+SeiQC578=",
          "dtype": "f8"
         },
         "y": {
          "bdata": "wvGprTS4w78=",
          "dtype": "f8"
         }
        },
        {
         "hovertemplate": "Video: soda_thoughts_i_poppi_super_bowl_lix_2025_commercial.mp4<br>Segment: 4</br>Embedding type: visual-text",
         "marker": {
          "color": "blue",
          "opacity": 0.5,
          "size": 8,
          "symbol": "circle"
         },
         "mode": "markers",
         "name": "",
         "type": "scatter",
         "x": {
          "bdata": "KD2eRohj578=",
          "dtype": "f8"
         },
         "y": {
          "bdata": "4GYbmNcCwr8=",
          "dtype": "f8"
         }
        },
        {
         "hovertemplate": "Video: ed_s_heinz_ad.mp4<br>Segment: 9</br>Embedding type: visual-text",
         "marker": {
          "color": "blue",
          "opacity": 0.5,
          "size": 8,
          "symbol": "circle"
         },
         "mode": "markers",
         "name": "",
         "type": "scatter",
         "x": {
          "bdata": "IGGHczlC5L8=",
          "dtype": "f8"
         },
         "y": {
          "bdata": "i9wzaTP8xb8=",
          "dtype": "f8"
         }
        },
        {
         "hovertemplate": "Video: golf_limu_emu_doug_liberty_mutual_insurance_commercial.mp4<br>Segment: 3</br>Embedding type: visual-text",
         "marker": {
          "color": "blue",
          "opacity": 0.5,
          "size": 8,
          "symbol": "circle"
         },
         "mode": "markers",
         "name": "",
         "type": "scatter",
         "x": {
          "bdata": "T8rtSj8g5L8=",
          "dtype": "f8"
         },
         "y": {
          "bdata": "aXYKD/bnhj8=",
          "dtype": "f8"
         }
        },
        {
         "hovertemplate": "Video: hyundai_commercial_conquer_the_weekend_vikings_the_all_new_2024_santa_fe_best_commercials.mp4<br>Segment: 1</br>Embedding type: visual-text",
         "marker": {
          "color": "blue",
          "opacity": 0.5,
          "size": 8,
          "symbol": "circle"
         },
         "mode": "markers",
         "name": "",
         "type": "scatter",
         "x": {
          "bdata": "EuLm+4Eg5L8=",
          "dtype": "f8"
         },
         "y": {
          "bdata": "PEBex1v+wD8=",
          "dtype": "f8"
         }
        },
        {
         "hovertemplate": "Video: reacher_breaks_the_bullies_reacher_s03e03_amazon_prime_videos.mp4<br>Segment: 3</br>Embedding type: visual-text",
         "marker": {
          "color": "blue",
          "opacity": 0.5,
          "size": 8,
          "symbol": "circle"
         },
         "mode": "markers",
         "name": "",
         "type": "scatter",
         "x": {
          "bdata": "K77K3eLw578=",
          "dtype": "f8"
         },
         "y": {
          "bdata": "DDcXUz2lv78=",
          "dtype": "f8"
         }
        },
        {
         "hovertemplate": "Video: anti_smoking_commercial_french.mp4<br>Segment: 6</br>Embedding type: visual-text",
         "marker": {
          "color": "blue",
          "opacity": 0.5,
          "size": 8,
          "symbol": "circle"
         },
         "mode": "markers",
         "name": "",
         "type": "scatter",
         "x": {
          "bdata": "s02Z/F05578=",
          "dtype": "f8"
         },
         "y": {
          "bdata": "Lxjsl5nNzb8=",
          "dtype": "f8"
         }
        },
        {
         "hovertemplate": "Video: 2025_bud_light_super_bowl_commercial_big_men_on_cul_de_sac_easy_to_drink_easy_to_enjoy_60.mp4<br>Segment: 5</br>Embedding type: visual-text",
         "marker": {
          "color": "blue",
          "opacity": 0.5,
          "size": 8,
          "symbol": "circle"
         },
         "mode": "markers",
         "name": "",
         "type": "scatter",
         "x": {
          "bdata": "iRf8JM5T5r8=",
          "dtype": "f8"
         },
         "y": {
          "bdata": "BPerijOZyT8=",
          "dtype": "f8"
         }
        },
        {
         "hovertemplate": "Video: hyundai_commercial_conquer_the_weekend_vikings_the_all_new_2024_santa_fe_best_commercials.mp4<br>Segment: 4</br>Embedding type: visual-text",
         "marker": {
          "color": "blue",
          "opacity": 0.5,
          "size": 8,
          "symbol": "circle"
         },
         "mode": "markers",
         "name": "",
         "type": "scatter",
         "x": {
          "bdata": "MvrYKv6g5L8=",
          "dtype": "f8"
         },
         "y": {
          "bdata": "GjncDS/trT8=",
          "dtype": "f8"
         }
        },
        {
         "hovertemplate": "Video: in_e_l_f_we_trust_e_l_f_cosmetics_game_day_commercial_202.mp4<br>Segment: 2</br>Embedding type: visual-text",
         "marker": {
          "color": "blue",
          "opacity": 0.5,
          "size": 8,
          "symbol": "circle"
         },
         "mode": "markers",
         "name": "",
         "type": "scatter",
         "x": {
          "bdata": "8UuIk7lO578=",
          "dtype": "f8"
         },
         "y": {
          "bdata": "2aHnagAfyb8=",
          "dtype": "f8"
         }
        },
        {
         "hovertemplate": "Video: state_farm_commercial_arnold_schwarzenegger_super_bowl_commercial_2024_best_commercials.mp4<br>Segment: 9</br>Embedding type: visual-text",
         "marker": {
          "color": "blue",
          "opacity": 0.5,
          "size": 8,
          "symbol": "circle"
         },
         "mode": "markers",
         "name": "",
         "type": "scatter",
         "x": {
          "bdata": "wPjHlciF578=",
          "dtype": "f8"
         },
         "y": {
          "bdata": "Q7gytQxGcr8=",
          "dtype": "f8"
         }
        },
        {
         "hovertemplate": "Video: the_new_kid_doritos_commercial.mp4<br>Segment: 1</br>Embedding type: visual-text",
         "marker": {
          "color": "blue",
          "opacity": 0.5,
          "size": 8,
          "symbol": "circle"
         },
         "mode": "markers",
         "name": "",
         "type": "scatter",
         "x": {
          "bdata": "/rYNoKPD478=",
          "dtype": "f8"
         },
         "y": {
          "bdata": "h2mJK6Hhs78=",
          "dtype": "f8"
         }
        },
        {
         "hovertemplate": "Video: 2025_bud_light_super_bowl_commercial_big_men_on_cul_de_sac_easy_to_drink_easy_to_enjoy_60.mp4<br>Segment: 6</br>Embedding type: visual-text",
         "marker": {
          "color": "blue",
          "opacity": 0.5,
          "size": 8,
          "symbol": "circle"
         },
         "mode": "markers",
         "name": "",
         "type": "scatter",
         "x": {
          "bdata": "gE5LJjbY5r8=",
          "dtype": "f8"
         },
         "y": {
          "bdata": "MtlxszhmxD8=",
          "dtype": "f8"
         }
        },
        {
         "hovertemplate": "Video: hyundai_commercial_conquer_the_weekend_vikings_the_all_new_2024_santa_fe_best_commercials.mp4<br>Segment: 3</br>Embedding type: visual-text",
         "marker": {
          "color": "blue",
          "opacity": 0.5,
          "size": 8,
          "symbol": "circle"
         },
         "mode": "markers",
         "name": "",
         "type": "scatter",
         "x": {
          "bdata": "PFzjUnY/5L8=",
          "dtype": "f8"
         },
         "y": {
          "bdata": "p3FbrVDHvD8=",
          "dtype": "f8"
         }
        },
        {
         "hovertemplate": "Video: state_farm_commercial_arnold_schwarzenegger_super_bowl_commercial_2024_best_commercials.mp4<br>Segment: 3</br>Embedding type: visual-text",
         "marker": {
          "color": "blue",
          "opacity": 0.5,
          "size": 8,
          "symbol": "circle"
         },
         "mode": "markers",
         "name": "",
         "type": "scatter",
         "x": {
          "bdata": "eW2mvT6j578=",
          "dtype": "f8"
         },
         "y": {
          "bdata": "aHigUQKEgT8=",
          "dtype": "f8"
         }
        },
        {
         "hovertemplate": "Video: reacher_breaks_the_bullies_reacher_s03e03_amazon_prime_videos.mp4<br>Segment: 14</br>Embedding type: visual-text",
         "marker": {
          "color": "blue",
          "opacity": 0.5,
          "size": 8,
          "symbol": "circle"
         },
         "mode": "markers",
         "name": "",
         "type": "scatter",
         "x": {
          "bdata": "aCI7s9kb578=",
          "dtype": "f8"
         },
         "y": {
          "bdata": "uWKc23DAlj8=",
          "dtype": "f8"
         }
        },
        {
         "hovertemplate": "Video: state_farm_commercial_arnold_schwarzenegger_super_bowl_commercial_2024_best_commercials.mp4<br>Segment: 4</br>Embedding type: visual-text",
         "marker": {
          "color": "blue",
          "opacity": 0.5,
          "size": 8,
          "symbol": "circle"
         },
         "mode": "markers",
         "name": "",
         "type": "scatter",
         "x": {
          "bdata": "C4uPdjlk578=",
          "dtype": "f8"
         },
         "y": {
          "bdata": "cFT5+/DOtD8=",
          "dtype": "f8"
         }
        },
        {
         "hovertemplate": "Video: reacher_breaks_the_bullies_reacher_s03e03_amazon_prime_videos.mp4<br>Segment: 8</br>Embedding type: visual-text",
         "marker": {
          "color": "blue",
          "opacity": 0.5,
          "size": 8,
          "symbol": "circle"
         },
         "mode": "markers",
         "name": "",
         "type": "scatter",
         "x": {
          "bdata": "b5JPIMqs578=",
          "dtype": "f8"
         },
         "y": {
          "bdata": "qxfJaW7Lwr8=",
          "dtype": "f8"
         }
        },
        {
         "hovertemplate": "Video: nike_dream_crazier_justdoit.mp4<br>Segment: 0</br>Embedding type: visual-text",
         "marker": {
          "color": "blue",
          "opacity": 0.5,
          "size": 8,
          "symbol": "circle"
         },
         "mode": "markers",
         "name": "",
         "type": "scatter",
         "x": {
          "bdata": "+SppX7Tv4r8=",
          "dtype": "f8"
         },
         "y": {
          "bdata": "AH+WwPP3vr8=",
          "dtype": "f8"
         }
        },
        {
         "hovertemplate": "Video: reacher_breaks_the_bullies_reacher_s03e03_amazon_prime_videos.mp4<br>Segment: 9</br>Embedding type: visual-text",
         "marker": {
          "color": "blue",
          "opacity": 0.5,
          "size": 8,
          "symbol": "circle"
         },
         "mode": "markers",
         "name": "",
         "type": "scatter",
         "x": {
          "bdata": "jkR5F0K5578=",
          "dtype": "f8"
         },
         "y": {
          "bdata": "NX0UmXnsvb8=",
          "dtype": "f8"
         }
        },
        {
         "hovertemplate": "Video: coca_cola_1971_hilltop_i_d_like_to_buy_the_world_a_coke.mp4<br>Segment: 3</br>Embedding type: visual-text",
         "marker": {
          "color": "blue",
          "opacity": 0.5,
          "size": 8,
          "symbol": "circle"
         },
         "mode": "markers",
         "name": "",
         "type": "scatter",
         "x": {
          "bdata": "SnziEnTW5b8=",
          "dtype": "f8"
         },
         "y": {
          "bdata": "5dmkzV8Cu78=",
          "dtype": "f8"
         }
        },
        {
         "hovertemplate": "Video: 2025_bud_light_super_bowl_commercial_big_men_on_cul_de_sac_easy_to_drink_easy_to_enjoy_60.mp4<br>Segment: 1</br>Embedding type: visual-text",
         "marker": {
          "color": "blue",
          "opacity": 0.5,
          "size": 8,
          "symbol": "circle"
         },
         "mode": "markers",
         "name": "",
         "type": "scatter",
         "x": {
          "bdata": "ZbxG3Ng25r8=",
          "dtype": "f8"
         },
         "y": {
          "bdata": "RlLmo6I50D8=",
          "dtype": "f8"
         }
        },
        {
         "hovertemplate": "Video: ed_s_heinz_ad.mp4<br>Segment: 5</br>Embedding type: visual-text",
         "marker": {
          "color": "blue",
          "opacity": 0.5,
          "size": 8,
          "symbol": "circle"
         },
         "mode": "markers",
         "name": "",
         "type": "scatter",
         "x": {
          "bdata": "yXx0eKv35b8=",
          "dtype": "f8"
         },
         "y": {
          "bdata": "KMY+IIQOs78=",
          "dtype": "f8"
         }
        },
        {
         "hovertemplate": "Video: little_caesars_best_thing_since_sliced_bread_2020_super_bowl_commercial.mp4<br>Segment: 0</br>Embedding type: visual-text",
         "marker": {
          "color": "blue",
          "opacity": 0.5,
          "size": 8,
          "symbol": "circle"
         },
         "mode": "markers",
         "name": "",
         "type": "scatter",
         "x": {
          "bdata": "+ORE+jUN5r8=",
          "dtype": "f8"
         },
         "y": {
          "bdata": "HeBs34Xmoz8=",
          "dtype": "f8"
         }
        },
        {
         "hovertemplate": "Video: coca_cola_1971_hilltop_i_d_like_to_buy_the_world_a_coke.mp4<br>Segment: 2</br>Embedding type: visual-text",
         "marker": {
          "color": "blue",
          "opacity": 0.5,
          "size": 8,
          "symbol": "circle"
         },
         "mode": "markers",
         "name": "",
         "type": "scatter",
         "x": {
          "bdata": "RjBRDst+5b8=",
          "dtype": "f8"
         },
         "y": {
          "bdata": "Nvs3fH+Mur8=",
          "dtype": "f8"
         }
        },
        {
         "hovertemplate": "Video: when_sally_met_hellmann_s_30_super_bowl_commercial_2025.mp4<br>Segment: 2</br>Embedding type: visual-text",
         "marker": {
          "color": "blue",
          "opacity": 0.5,
          "size": 8,
          "symbol": "circle"
         },
         "mode": "markers",
         "name": "",
         "type": "scatter",
         "x": {
          "bdata": "Gx4u6r7r5r8=",
          "dtype": "f8"
         },
         "y": {
          "bdata": "REEqNJbQxb8=",
          "dtype": "f8"
         }
        },
        {
         "hovertemplate": "Video: little_caesars_best_thing_since_sliced_bread_2020_super_bowl_commercial.mp4<br>Segment: 1</br>Embedding type: visual-text",
         "marker": {
          "color": "blue",
          "opacity": 0.5,
          "size": 8,
          "symbol": "circle"
         },
         "mode": "markers",
         "name": "",
         "type": "scatter",
         "x": {
          "bdata": "c3BPJCEF578=",
          "dtype": "f8"
         },
         "y": {
          "bdata": "0F5OTqGCpj8=",
          "dtype": "f8"
         }
        },
        {
         "hovertemplate": "Video: reacher_breaks_the_bullies_reacher_s03e03_amazon_prime_videos.mp4<br>Segment: 16</br>Embedding type: visual-text",
         "marker": {
          "color": "blue",
          "opacity": 0.5,
          "size": 8,
          "symbol": "circle"
         },
         "mode": "markers",
         "name": "",
         "type": "scatter",
         "x": {
          "bdata": "/v8j0jNS578=",
          "dtype": "f8"
         },
         "y": {
          "bdata": "FyWkORNql78=",
          "dtype": "f8"
         }
        },
        {
         "hovertemplate": "Video: turbotax_2024_beat_your_price_commercial_tax_break_up_official_tv_ad_30.mp4<br>Segment: 0</br>Embedding type: visual-text",
         "marker": {
          "color": "blue",
          "opacity": 0.5,
          "size": 8,
          "symbol": "circle"
         },
         "mode": "markers",
         "name": "",
         "type": "scatter",
         "x": {
          "bdata": "GBkuHi1o578=",
          "dtype": "f8"
         },
         "y": {
          "bdata": "r4N9YaQXqL8=",
          "dtype": "f8"
         }
        },
        {
         "hovertemplate": "Video: 2025_bud_light_super_bowl_commercial_big_men_on_cul_de_sac_easy_to_drink_easy_to_enjoy_60.mp4<br>Segment: 7</br>Embedding type: visual-text",
         "marker": {
          "color": "blue",
          "opacity": 0.5,
          "size": 8,
          "symbol": "circle"
         },
         "mode": "markers",
         "name": "",
         "type": "scatter",
         "x": {
          "bdata": "3SV7JbBV5r8=",
          "dtype": "f8"
         },
         "y": {
          "bdata": "LFKGJpmYzj8=",
          "dtype": "f8"
         }
        },
        {
         "hovertemplate": "Video: nike_dream_crazier_justdoit.mp4<br>Segment: 13</br>Embedding type: visual-text",
         "marker": {
          "color": "blue",
          "opacity": 0.5,
          "size": 8,
          "symbol": "circle"
         },
         "mode": "markers",
         "name": "",
         "type": "scatter",
         "x": {
          "bdata": "iJyIWa3K5b8=",
          "dtype": "f8"
         },
         "y": {
          "bdata": "Dzm5QzbAnz8=",
          "dtype": "f8"
         }
        },
        {
         "hovertemplate": "Video: reacher_breaks_the_bullies_reacher_s03e03_amazon_prime_videos.mp4<br>Segment: 13</br>Embedding type: visual-text",
         "marker": {
          "color": "blue",
          "opacity": 0.5,
          "size": 8,
          "symbol": "circle"
         },
         "mode": "markers",
         "name": "",
         "type": "scatter",
         "x": {
          "bdata": "SCYGRCX/5r8=",
          "dtype": "f8"
         },
         "y": {
          "bdata": "+/TcjQ5qdb8=",
          "dtype": "f8"
         }
        },
        {
         "hovertemplate": "Video: state_farm_commercial_arnold_schwarzenegger_super_bowl_commercial_2024_best_commercials.mp4<br>Segment: 12</br>Embedding type: visual-text",
         "marker": {
          "color": "blue",
          "opacity": 0.5,
          "size": 8,
          "symbol": "circle"
         },
         "mode": "markers",
         "name": "",
         "type": "scatter",
         "x": {
          "bdata": "ttsyjudu5b8=",
          "dtype": "f8"
         },
         "y": {
          "bdata": "Nefb3GOztT8=",
          "dtype": "f8"
         }
        },
        {
         "hovertemplate": "Video: coca_cola_1971_hilltop_i_d_like_to_buy_the_world_a_coke.mp4<br>Segment: 6</br>Embedding type: visual-text",
         "marker": {
          "color": "blue",
          "opacity": 0.5,
          "size": 8,
          "symbol": "circle"
         },
         "mode": "markers",
         "name": "",
         "type": "scatter",
         "x": {
          "bdata": "XTmciuiR478=",
          "dtype": "f8"
         },
         "y": {
          "bdata": "YxsXfTN7bD8=",
          "dtype": "f8"
         }
        },
        {
         "hovertemplate": "Video: fevicol_jija_saala_ad_no_chindichori_hindi.mp4<br>Segment: 2</br>Embedding type: visual-text",
         "marker": {
          "color": "blue",
          "opacity": 0.5,
          "size": 8,
          "symbol": "circle"
         },
         "mode": "markers",
         "name": "",
         "type": "scatter",
         "x": {
          "bdata": "/w30o+np578=",
          "dtype": "f8"
         },
         "y": {
          "bdata": "SFDTVEEHxL8=",
          "dtype": "f8"
         }
        },
        {
         "hovertemplate": "Video: reacher_breaks_the_bullies_reacher_s03e03_amazon_prime_videos.mp4<br>Segment: 6</br>Embedding type: visual-text",
         "marker": {
          "color": "blue",
          "opacity": 0.5,
          "size": 8,
          "symbol": "circle"
         },
         "mode": "markers",
         "name": "",
         "type": "scatter",
         "x": {
          "bdata": "Uha84C1H5r8=",
          "dtype": "f8"
         },
         "y": {
          "bdata": "AxJekg0ikb8=",
          "dtype": "f8"
         }
        },
        {
         "hovertemplate": "Video: little_caesars_best_thing_since_sliced_bread_2020_super_bowl_commercial.mp4<br>Segment: 5</br>Embedding type: visual-text",
         "marker": {
          "color": "blue",
          "opacity": 0.5,
          "size": 8,
          "symbol": "circle"
         },
         "mode": "markers",
         "name": "",
         "type": "scatter",
         "x": {
          "bdata": "PSAHW3UY578=",
          "dtype": "f8"
         },
         "y": {
          "bdata": "wtsAEvFanj8=",
          "dtype": "f8"
         }
        },
        {
         "hovertemplate": "Video: fevicol_jija_saala_ad_no_chindichori_hindi.mp4<br>Segment: 0</br>Embedding type: visual-text",
         "marker": {
          "color": "blue",
          "opacity": 0.5,
          "size": 8,
          "symbol": "circle"
         },
         "mode": "markers",
         "name": "",
         "type": "scatter",
         "x": {
          "bdata": "7KcwRdX85r8=",
          "dtype": "f8"
         },
         "y": {
          "bdata": "3SeFCAyTwL8=",
          "dtype": "f8"
         }
        },
        {
         "hovertemplate": "Video: fevicol_jija_saala_ad_no_chindichori_hindi.mp4<br>Segment: 4</br>Embedding type: visual-text",
         "marker": {
          "color": "blue",
          "opacity": 0.5,
          "size": 8,
          "symbol": "circle"
         },
         "mode": "markers",
         "name": "",
         "type": "scatter",
         "x": {
          "bdata": "tX/e1vsa5r8=",
          "dtype": "f8"
         },
         "y": {
          "bdata": "7b7qp8LBw78=",
          "dtype": "f8"
         }
        },
        {
         "hovertemplate": "Video: reacher_breaks_the_bullies_reacher_s03e03_amazon_prime_videos.mp4<br>Segment: 7</br>Embedding type: visual-text",
         "marker": {
          "color": "blue",
          "opacity": 0.5,
          "size": 8,
          "symbol": "circle"
         },
         "mode": "markers",
         "name": "",
         "type": "scatter",
         "x": {
          "bdata": "vzl5LUpL5b8=",
          "dtype": "f8"
         },
         "y": {
          "bdata": "s2lEEntgwr8=",
          "dtype": "f8"
         }
        },
        {
         "hovertemplate": "Video: in_e_l_f_we_trust_e_l_f_cosmetics_game_day_commercial_202.mp4<br>Segment: 9</br>Embedding type: visual-text",
         "marker": {
          "color": "blue",
          "opacity": 0.5,
          "size": 8,
          "symbol": "circle"
         },
         "mode": "markers",
         "name": "",
         "type": "scatter",
         "x": {
          "bdata": "zubEK/zP5b8=",
          "dtype": "f8"
         },
         "y": {
          "bdata": "TKmo8zO4tb8=",
          "dtype": "f8"
         }
        },
        {
         "hovertemplate": "Video: nike_dream_crazier_justdoit.mp4<br>Segment: 6</br>Embedding type: visual-text",
         "marker": {
          "color": "blue",
          "opacity": 0.5,
          "size": 8,
          "symbol": "circle"
         },
         "mode": "markers",
         "name": "",
         "type": "scatter",
         "x": {
          "bdata": "UsLyWzRl478=",
          "dtype": "f8"
         },
         "y": {
          "bdata": "hoGlTmSJwb8=",
          "dtype": "f8"
         }
        },
        {
         "hovertemplate": "Video: 2025_bud_light_super_bowl_commercial_big_men_on_cul_de_sac_easy_to_drink_easy_to_enjoy_60.mp4<br>Segment: 2</br>Embedding type: visual-text",
         "marker": {
          "color": "blue",
          "opacity": 0.5,
          "size": 8,
          "symbol": "circle"
         },
         "mode": "markers",
         "name": "",
         "type": "scatter",
         "x": {
          "bdata": "cvJsYDEm5b8=",
          "dtype": "f8"
         },
         "y": {
          "bdata": "JsxPnWGpzj8=",
          "dtype": "f8"
         }
        },
        {
         "hovertemplate": "Video: coca_cola_1971_hilltop_i_d_like_to_buy_the_world_a_coke.mp4<br>Segment: 4</br>Embedding type: visual-text",
         "marker": {
          "color": "blue",
          "opacity": 0.5,
          "size": 8,
          "symbol": "circle"
         },
         "mode": "markers",
         "name": "",
         "type": "scatter",
         "x": {
          "bdata": "a9aI2N+H5b8=",
          "dtype": "f8"
         },
         "y": {
          "bdata": "0X3Uh8xXxb8=",
          "dtype": "f8"
         }
        },
        {
         "hovertemplate": "Video: ed_s_heinz_ad.mp4<br>Segment: 7</br>Embedding type: visual-text",
         "marker": {
          "color": "blue",
          "opacity": 0.5,
          "size": 8,
          "symbol": "circle"
         },
         "mode": "markers",
         "name": "",
         "type": "scatter",
         "x": {
          "bdata": "dGeO0T7j5b8=",
          "dtype": "f8"
         },
         "y": {
          "bdata": "HvIW1TqQyL8=",
          "dtype": "f8"
         }
        },
        {
         "hovertemplate": "Video: 2025_bud_light_super_bowl_commercial_big_men_on_cul_de_sac_easy_to_drink_easy_to_enjoy_60.mp4<br>Segment: 3</br>Embedding type: visual-text",
         "marker": {
          "color": "blue",
          "opacity": 0.5,
          "size": 8,
          "symbol": "circle"
         },
         "mode": "markers",
         "name": "",
         "type": "scatter",
         "x": {
          "bdata": "leEZjm6f5r8=",
          "dtype": "f8"
         },
         "y": {
          "bdata": "6CLBfWuCzD8=",
          "dtype": "f8"
         }
        },
        {
         "hovertemplate": "Video: fevicol_jija_saala_ad_no_chindichori_hindi.mp4<br>Segment: 3</br>Embedding type: visual-text",
         "marker": {
          "color": "blue",
          "opacity": 0.5,
          "size": 8,
          "symbol": "circle"
         },
         "mode": "markers",
         "name": "",
         "type": "scatter",
         "x": {
          "bdata": "HNca4hId578=",
          "dtype": "f8"
         },
         "y": {
          "bdata": "O4TkVJFVrb8=",
          "dtype": "f8"
         }
        },
        {
         "hovertemplate": "Video: temu_s_big_game_ad_encore_tv_commercial_202.mp4<br>Segment: 2</br>Embedding type: visual-text",
         "marker": {
          "color": "blue",
          "opacity": 0.5,
          "size": 8,
          "symbol": "circle"
         },
         "mode": "markers",
         "name": "",
         "type": "scatter",
         "x": {
          "bdata": "4gHEk7MM5L8=",
          "dtype": "f8"
         },
         "y": {
          "bdata": "B625znGgrj8=",
          "dtype": "f8"
         }
        },
        {
         "hovertemplate": "Video: doritos_time_machine_crash_the_super_bowl_2014_winner_official.mp4<br>Segment: 3</br>Embedding type: visual-text",
         "marker": {
          "color": "blue",
          "opacity": 0.5,
          "size": 8,
          "symbol": "circle"
         },
         "mode": "markers",
         "name": "",
         "type": "scatter",
         "x": {
          "bdata": "HIwqwJZo5b8=",
          "dtype": "f8"
         },
         "y": {
          "bdata": "lsalTw2CvD8=",
          "dtype": "f8"
         }
        },
        {
         "hovertemplate": "Video: 2025_bud_light_super_bowl_commercial_big_men_on_cul_de_sac_easy_to_drink_easy_to_enjoy_60.mp4<br>Segment: 9</br>Embedding type: visual-text",
         "marker": {
          "color": "blue",
          "opacity": 0.5,
          "size": 8,
          "symbol": "circle"
         },
         "mode": "markers",
         "name": "",
         "type": "scatter",
         "x": {
          "bdata": "pI56guEL5b8=",
          "dtype": "f8"
         },
         "y": {
          "bdata": "k8kP6OzBzT8=",
          "dtype": "f8"
         }
        },
        {
         "hovertemplate": "Video: temu_s_big_game_ad_encore_tv_commercial_202.mp4<br>Segment: 3</br>Embedding type: visual-text",
         "marker": {
          "color": "blue",
          "opacity": 0.5,
          "size": 8,
          "symbol": "circle"
         },
         "mode": "markers",
         "name": "",
         "type": "scatter",
         "x": {
          "bdata": "B4/HSVpr5L8=",
          "dtype": "f8"
         },
         "y": {
          "bdata": "2LZ9KtykgL8=",
          "dtype": "f8"
         }
        },
        {
         "hovertemplate": "Video: coca_cola_super_bowl_50_commercial_hulk_vs_ant_man_vs_coke_mini.mp4<br>Segment: 4</br>Embedding type: visual-text",
         "marker": {
          "color": "blue",
          "opacity": 0.5,
          "size": 8,
          "symbol": "circle"
         },
         "mode": "markers",
         "name": "",
         "type": "scatter",
         "x": {
          "bdata": "Vzv1wUgh5b8=",
          "dtype": "f8"
         },
         "y": {
          "bdata": "3y0IwKNBwD8=",
          "dtype": "f8"
         }
        },
        {
         "hovertemplate": "Video: coca_cola_super_bowl_50_commercial_hulk_vs_ant_man_vs_coke_mini.mp4<br>Segment: 10</br>Embedding type: visual-text",
         "marker": {
          "color": "blue",
          "opacity": 0.5,
          "size": 8,
          "symbol": "circle"
         },
         "mode": "markers",
         "name": "",
         "type": "scatter",
         "x": {
          "bdata": "KZbSwGwN5b8=",
          "dtype": "f8"
         },
         "y": {
          "bdata": "JU6ZmcPklj8=",
          "dtype": "f8"
         }
        },
        {
         "hovertemplate": "Video: hyundai_commercial_conquer_the_weekend_vikings_the_all_new_2024_santa_fe_best_commercials.mp4<br>Segment: 9</br>Embedding type: visual-text",
         "marker": {
          "color": "blue",
          "opacity": 0.5,
          "size": 8,
          "symbol": "circle"
         },
         "mode": "markers",
         "name": "",
         "type": "scatter",
         "x": {
          "bdata": "O49Orot15L8=",
          "dtype": "f8"
         },
         "y": {
          "bdata": "4ggx7mFUwD8=",
          "dtype": "f8"
         }
        },
        {
         "hovertemplate": "Video: soda_thoughts_i_poppi_super_bowl_lix_2025_commercial.mp4<br>Segment: 9</br>Embedding type: visual-text",
         "marker": {
          "color": "blue",
          "opacity": 0.5,
          "size": 8,
          "symbol": "circle"
         },
         "mode": "markers",
         "name": "",
         "type": "scatter",
         "x": {
          "bdata": "Yi9TxQyN5b8=",
          "dtype": "f8"
         },
         "y": {
          "bdata": "rEKEIWSwgj8=",
          "dtype": "f8"
         }
        },
        {
         "hovertemplate": "Video: when_sally_met_hellmann_s_30_super_bowl_commercial_2025.mp4<br>Segment: 4</br>Embedding type: visual-text",
         "marker": {
          "color": "blue",
          "opacity": 0.5,
          "size": 8,
          "symbol": "circle"
         },
         "mode": "markers",
         "name": "",
         "type": "scatter",
         "x": {
          "bdata": "64Mhi/PU5b8=",
          "dtype": "f8"
         },
         "y": {
          "bdata": "g/mUJTocyr8=",
          "dtype": "f8"
         }
        },
        {
         "hovertemplate": "Video: the_new_kid_doritos_commercial.mp4<br>Segment: 2</br>Embedding type: visual-text",
         "marker": {
          "color": "blue",
          "opacity": 0.5,
          "size": 8,
          "symbol": "circle"
         },
         "mode": "markers",
         "name": "",
         "type": "scatter",
         "x": {
          "bdata": "Qz/krJEi5L8=",
          "dtype": "f8"
         },
         "y": {
          "bdata": "IyQFRRe8q78=",
          "dtype": "f8"
         }
        },
        {
         "hovertemplate": "Video: reacher_breaks_the_bullies_reacher_s03e03_amazon_prime_videos.mp4<br>Segment: 11</br>Embedding type: visual-text",
         "marker": {
          "color": "blue",
          "opacity": 0.5,
          "size": 8,
          "symbol": "circle"
         },
         "mode": "markers",
         "name": "",
         "type": "scatter",
         "x": {
          "bdata": "ywjrYpSN578=",
          "dtype": "f8"
         },
         "y": {
          "bdata": "/uS71xrKnb8=",
          "dtype": "f8"
         }
        },
        {
         "hovertemplate": "Video: little_caesars_best_thing_since_sliced_bread_2020_super_bowl_commercial.mp4<br>Segment: 3</br>Embedding type: visual-text",
         "marker": {
          "color": "blue",
          "opacity": 0.5,
          "size": 8,
          "symbol": "circle"
         },
         "mode": "markers",
         "name": "",
         "type": "scatter",
         "x": {
          "bdata": "MTSZrVUS5r8=",
          "dtype": "f8"
         },
         "y": {
          "bdata": "JLDaOv3jqD8=",
          "dtype": "f8"
         }
        },
        {
         "hovertemplate": "Video: reacher_breaks_the_bullies_reacher_s03e03_amazon_prime_videos.mp4<br>Segment: 4</br>Embedding type: visual-text",
         "marker": {
          "color": "blue",
          "opacity": 0.5,
          "size": 8,
          "symbol": "circle"
         },
         "mode": "markers",
         "name": "",
         "type": "scatter",
         "x": {
          "bdata": "BEppQ+8v578=",
          "dtype": "f8"
         },
         "y": {
          "bdata": "bZvwAOtvxL8=",
          "dtype": "f8"
         }
        },
        {
         "hovertemplate": "Video: when_sally_met_hellmann_s_30_super_bowl_commercial_2025.mp4<br>Segment: 0</br>Embedding type: visual-text",
         "marker": {
          "color": "blue",
          "opacity": 0.5,
          "size": 8,
          "symbol": "circle"
         },
         "mode": "markers",
         "name": "",
         "type": "scatter",
         "x": {
          "bdata": "zf3W9FPe5b8=",
          "dtype": "f8"
         },
         "y": {
          "bdata": "yognQxkfu78=",
          "dtype": "f8"
         }
        },
        {
         "hovertemplate": "Video: state_farm_commercial_arnold_schwarzenegger_super_bowl_commercial_2024_best_commercials.mp4<br>Segment: 1</br>Embedding type: visual-text",
         "marker": {
          "color": "blue",
          "opacity": 0.5,
          "size": 8,
          "symbol": "circle"
         },
         "mode": "markers",
         "name": "",
         "type": "scatter",
         "x": {
          "bdata": "7RQ1wrm55r8=",
          "dtype": "f8"
         },
         "y": {
          "bdata": "daQaBsrxrD8=",
          "dtype": "f8"
         }
        },
        {
         "hovertemplate": "Video: fevicol_jija_saala_ad_no_chindichori_hindi.mp4<br>Segment: 1</br>Embedding type: visual-text",
         "marker": {
          "color": "blue",
          "opacity": 0.5,
          "size": 8,
          "symbol": "circle"
         },
         "mode": "markers",
         "name": "",
         "type": "scatter",
         "x": {
          "bdata": "OaXLhkFe578=",
          "dtype": "f8"
         },
         "y": {
          "bdata": "Ln6O5I7Hwb8=",
          "dtype": "f8"
         }
        },
        {
         "hovertemplate": "Video: state_farm_commercial_arnold_schwarzenegger_super_bowl_commercial_2024_best_commercials.mp4<br>Segment: 8</br>Embedding type: visual-text",
         "marker": {
          "color": "blue",
          "opacity": 0.5,
          "size": 8,
          "symbol": "circle"
         },
         "mode": "markers",
         "name": "",
         "type": "scatter",
         "x": {
          "bdata": "WyOQqGdH578=",
          "dtype": "f8"
         },
         "y": {
          "bdata": "+KzpRezYmL8=",
          "dtype": "f8"
         }
        },
        {
         "hovertemplate": "Video: reacher_breaks_the_bullies_reacher_s03e03_amazon_prime_videos.mp4<br>Segment: 12</br>Embedding type: visual-text",
         "marker": {
          "color": "blue",
          "opacity": 0.5,
          "size": 8,
          "symbol": "circle"
         },
         "mode": "markers",
         "name": "",
         "type": "scatter",
         "x": {
          "bdata": "cij3xeTF5r8=",
          "dtype": "f8"
         },
         "y": {
          "bdata": "hPS6EjJ6ir8=",
          "dtype": "f8"
         }
        },
        {
         "hovertemplate": "Video: state_farm_commercial_arnold_schwarzenegger_super_bowl_commercial_2024_best_commercials.mp4<br>Segment: 7</br>Embedding type: visual-text",
         "marker": {
          "color": "blue",
          "opacity": 0.5,
          "size": 8,
          "symbol": "circle"
         },
         "mode": "markers",
         "name": "",
         "type": "scatter",
         "x": {
          "bdata": "CbcPDmZM5r8=",
          "dtype": "f8"
         },
         "y": {
          "bdata": "m6tNaorvhz8=",
          "dtype": "f8"
         }
        },
        {
         "hovertemplate": "Video: the_new_kid_doritos_commercial.mp4<br>Segment: 0</br>Embedding type: visual-text",
         "marker": {
          "color": "blue",
          "opacity": 0.5,
          "size": 8,
          "symbol": "circle"
         },
         "mode": "markers",
         "name": "",
         "type": "scatter",
         "x": {
          "bdata": "LvGfQpXb478=",
          "dtype": "f8"
         },
         "y": {
          "bdata": "6meLHRdLqL8=",
          "dtype": "f8"
         }
        },
        {
         "hovertemplate": "Video: state_farm_commercial_arnold_schwarzenegger_super_bowl_commercial_2024_best_commercials.mp4<br>Segment: 2</br>Embedding type: visual-text",
         "marker": {
          "color": "blue",
          "opacity": 0.5,
          "size": 8,
          "symbol": "circle"
         },
         "mode": "markers",
         "name": "",
         "type": "scatter",
         "x": {
          "bdata": "hZP4/vH4578=",
          "dtype": "f8"
         },
         "y": {
          "bdata": "riYyuOVtcj8=",
          "dtype": "f8"
         }
        },
        {
         "hovertemplate": "Video: william_levy_m_m_s_commercial_in_spanish_with_english_subtitles.mp4<br>Segment: 0</br>Embedding type: visual-text",
         "marker": {
          "color": "blue",
          "opacity": 0.5,
          "size": 8,
          "symbol": "circle"
         },
         "mode": "markers",
         "name": "",
         "type": "scatter",
         "x": {
          "bdata": "BXdgzMA/5b8=",
          "dtype": "f8"
         },
         "y": {
          "bdata": "/ZP2icPHwr8=",
          "dtype": "f8"
         }
        },
        {
         "hovertemplate": "Video: doritos_super_bowl_commercial_2024_jenna_ortega_encounter_ad.mp4<br>Segment: 0</br>Embedding type: visual-text",
         "marker": {
          "color": "blue",
          "opacity": 0.5,
          "size": 8,
          "symbol": "circle"
         },
         "mode": "markers",
         "name": "",
         "type": "scatter",
         "x": {
          "bdata": "1O1+uMgp5r8=",
          "dtype": "f8"
         },
         "y": {
          "bdata": "ZP5sGCDyxL8=",
          "dtype": "f8"
         }
        },
        {
         "hovertemplate": "Video: reacher_breaks_the_bullies_reacher_s03e03_amazon_prime_videos.mp4<br>Segment: 10</br>Embedding type: visual-text",
         "marker": {
          "color": "blue",
          "opacity": 0.5,
          "size": 8,
          "symbol": "circle"
         },
         "mode": "markers",
         "name": "",
         "type": "scatter",
         "x": {
          "bdata": "QUelgT6p5r8=",
          "dtype": "f8"
         },
         "y": {
          "bdata": "YK1vveXwur8=",
          "dtype": "f8"
         }
        },
        {
         "hovertemplate": "Video: flex_tape_commercial_2017_phil_swift.mp4<br>Segment: 15</br>Embedding type: visual-text",
         "marker": {
          "color": "blue",
          "opacity": 0.5,
          "size": 8,
          "symbol": "circle"
         },
         "mode": "markers",
         "name": "",
         "type": "scatter",
         "x": {
          "bdata": "ksQ1rGnJ5L8=",
          "dtype": "f8"
         },
         "y": {
          "bdata": "E2YAQIEW3z8=",
          "dtype": "f8"
         }
        },
        {
         "hovertemplate": "Video: in_e_l_f_we_trust_e_l_f_cosmetics_game_day_commercial_202.mp4<br>Segment: 3</br>Embedding type: visual-text",
         "marker": {
          "color": "blue",
          "opacity": 0.5,
          "size": 8,
          "symbol": "circle"
         },
         "mode": "markers",
         "name": "",
         "type": "scatter",
         "x": {
          "bdata": "zTDQks3W5b8=",
          "dtype": "f8"
         },
         "y": {
          "bdata": "Z7QsV6RLxb8=",
          "dtype": "f8"
         }
        },
        {
         "hovertemplate": "Video: state_farm_commercial_arnold_schwarzenegger_super_bowl_commercial_2024_best_commercials.mp4<br>Segment: 5</br>Embedding type: visual-text",
         "marker": {
          "color": "blue",
          "opacity": 0.5,
          "size": 8,
          "symbol": "circle"
         },
         "mode": "markers",
         "name": "",
         "type": "scatter",
         "x": {
          "bdata": "BOsuYURB578=",
          "dtype": "f8"
         },
         "y": {
          "bdata": "78s6+qgNjb8=",
          "dtype": "f8"
         }
        },
        {
         "hovertemplate": "Video: coca_cola_1971_hilltop_i_d_like_to_buy_the_world_a_coke.mp4<br>Segment: 5</br>Embedding type: visual-text",
         "marker": {
          "color": "blue",
          "opacity": 0.5,
          "size": 8,
          "symbol": "circle"
         },
         "mode": "markers",
         "name": "",
         "type": "scatter",
         "x": {
          "bdata": "IhoK+TgB5b8=",
          "dtype": "f8"
         },
         "y": {
          "bdata": "TZa4jtlzwL8=",
          "dtype": "f8"
         }
        },
        {
         "hovertemplate": "Video: nike_dream_crazier_justdoit.mp4<br>Segment: 3</br>Embedding type: visual-text",
         "marker": {
          "color": "blue",
          "opacity": 0.5,
          "size": 8,
          "symbol": "circle"
         },
         "mode": "markers",
         "name": "",
         "type": "scatter",
         "x": {
          "bdata": "gOFyrVIu478=",
          "dtype": "f8"
         },
         "y": {
          "bdata": "17EXbKxM078=",
          "dtype": "f8"
         }
        },
        {
         "hovertemplate": "Video: fevicol_jija_saala_ad_no_chindichori_hindi.mp4<br>Segment: 5</br>Embedding type: visual-text",
         "marker": {
          "color": "blue",
          "opacity": 0.5,
          "size": 8,
          "symbol": "circle"
         },
         "mode": "markers",
         "name": "",
         "type": "scatter",
         "x": {
          "bdata": "lb4FULQS5r8=",
          "dtype": "f8"
         },
         "y": {
          "bdata": "YJiKyNsjuD8=",
          "dtype": "f8"
         }
        },
        {
         "hovertemplate": "Video: in_e_l_f_we_trust_e_l_f_cosmetics_game_day_commercial_202.mp4<br>Segment: 4</br>Embedding type: visual-text",
         "marker": {
          "color": "blue",
          "opacity": 0.5,
          "size": 8,
          "symbol": "circle"
         },
         "mode": "markers",
         "name": "",
         "type": "scatter",
         "x": {
          "bdata": "ZOSiRWJA5r8=",
          "dtype": "f8"
         },
         "y": {
          "bdata": "nurW0kNO0b8=",
          "dtype": "f8"
         }
        },
        {
         "hovertemplate": "Video: ihop_commercial_spanish.mp4<br>Segment: 0</br>Embedding type: visual-text",
         "marker": {
          "color": "blue",
          "opacity": 0.5,
          "size": 8,
          "symbol": "circle"
         },
         "mode": "markers",
         "name": "",
         "type": "scatter",
         "x": {
          "bdata": "UKR1sZQz5r8=",
          "dtype": "f8"
         },
         "y": {
          "bdata": "Oj7wTNYuur8=",
          "dtype": "f8"
         }
        },
        {
         "hovertemplate": "Video: ed_s_heinz_ad.mp4<br>Segment: 3</br>Embedding type: visual-text",
         "marker": {
          "color": "blue",
          "opacity": 0.5,
          "size": 8,
          "symbol": "circle"
         },
         "mode": "markers",
         "name": "",
         "type": "scatter",
         "x": {
          "bdata": "IbxG1mEG5r8=",
          "dtype": "f8"
         },
         "y": {
          "bdata": "+6Op1T24xr8=",
          "dtype": "f8"
         }
        },
        {
         "hovertemplate": "Video: william_levy_m_m_s_commercial_in_spanish_with_english_subtitles.mp4<br>Segment: 3</br>Embedding type: visual-text",
         "marker": {
          "color": "blue",
          "opacity": 0.5,
          "size": 8,
          "symbol": "circle"
         },
         "mode": "markers",
         "name": "",
         "type": "scatter",
         "x": {
          "bdata": "efVRm3M05r8=",
          "dtype": "f8"
         },
         "y": {
          "bdata": "E/7uxjmEwr8=",
          "dtype": "f8"
         }
        },
        {
         "hovertemplate": "Video: ed_s_heinz_ad.mp4<br>Segment: 4</br>Embedding type: visual-text",
         "marker": {
          "color": "blue",
          "opacity": 0.5,
          "size": 8,
          "symbol": "circle"
         },
         "mode": "markers",
         "name": "",
         "type": "scatter",
         "x": {
          "bdata": "E1Y0JLEi5b8=",
          "dtype": "f8"
         },
         "y": {
          "bdata": "G74TLCL/wb8=",
          "dtype": "f8"
         }
        },
        {
         "hovertemplate": "Video: bring_back_the_energy_volkswagen.mp4<br>Segment: 11</br>Embedding type: visual-text",
         "marker": {
          "color": "blue",
          "opacity": 0.5,
          "size": 8,
          "symbol": "circle"
         },
         "mode": "markers",
         "name": "",
         "type": "scatter",
         "x": {
          "bdata": "CFsqaWKV5L8=",
          "dtype": "f8"
         },
         "y": {
          "bdata": "T5BYw5Tatj8=",
          "dtype": "f8"
         }
        },
        {
         "hovertemplate": "Video: turbotax_2024_beat_your_price_commercial_tax_break_up_official_tv_ad_30.mp4<br>Segment: 3</br>Embedding type: visual-text",
         "marker": {
          "color": "blue",
          "opacity": 0.5,
          "size": 8,
          "symbol": "circle"
         },
         "mode": "markers",
         "name": "",
         "type": "scatter",
         "x": {
          "bdata": "i23w+5hJ5L8=",
          "dtype": "f8"
         },
         "y": {
          "bdata": "YVHN5SRfuT8=",
          "dtype": "f8"
         }
        },
        {
         "hovertemplate": "Video: soda_thoughts_i_poppi_super_bowl_lix_2025_commercial.mp4<br>Segment: 1</br>Embedding type: visual-text",
         "marker": {
          "color": "blue",
          "opacity": 0.5,
          "size": 8,
          "symbol": "circle"
         },
         "mode": "markers",
         "name": "",
         "type": "scatter",
         "x": {
          "bdata": "bR2pbwg0578=",
          "dtype": "f8"
         },
         "y": {
          "bdata": "7R6piTI9vL8=",
          "dtype": "f8"
         }
        },
        {
         "hovertemplate": "Video: flex_tape_commercial_2017_phil_swift.mp4<br>Segment: 13</br>Embedding type: visual-text",
         "marker": {
          "color": "blue",
          "opacity": 0.5,
          "size": 8,
          "symbol": "circle"
         },
         "mode": "markers",
         "name": "",
         "type": "scatter",
         "x": {
          "bdata": "LAqNxsRb478=",
          "dtype": "f8"
         },
         "y": {
          "bdata": "GfxSwQOH3z8=",
          "dtype": "f8"
         }
        },
        {
         "hovertemplate": "Video: winning_isn_t_for_everyone_am_i_a_bad_person_nike.mp4<br>Segment: 0</br>Embedding type: visual-text",
         "marker": {
          "color": "blue",
          "opacity": 0.5,
          "size": 8,
          "symbol": "circle"
         },
         "mode": "markers",
         "name": "",
         "type": "scatter",
         "x": {
          "bdata": "YtUliDvf478=",
          "dtype": "f8"
         },
         "y": {
          "bdata": "1IAUlDFz0b8=",
          "dtype": "f8"
         }
        },
        {
         "hovertemplate": "Video: little_caesars_best_thing_since_sliced_bread_2020_super_bowl_commercial.mp4<br>Segment: 8</br>Embedding type: visual-text",
         "marker": {
          "color": "blue",
          "opacity": 0.5,
          "size": 8,
          "symbol": "circle"
         },
         "mode": "markers",
         "name": "",
         "type": "scatter",
         "x": {
          "bdata": "DC5HzbmX5L8=",
          "dtype": "f8"
         },
         "y": {
          "bdata": "+m0SAH2ysT8=",
          "dtype": "f8"
         }
        },
        {
         "hovertemplate": "Video: doritos_time_machine_crash_the_super_bowl_2014_winner_official.mp4<br>Segment: 0</br>Embedding type: visual-text",
         "marker": {
          "color": "blue",
          "opacity": 0.5,
          "size": 8,
          "symbol": "circle"
         },
         "mode": "markers",
         "name": "",
         "type": "scatter",
         "x": {
          "bdata": "yf/rWifS5L8=",
          "dtype": "f8"
         },
         "y": {
          "bdata": "IHX1SfNivz8=",
          "dtype": "f8"
         }
        },
        {
         "hovertemplate": "Video: hyundai_commercial_conquer_the_weekend_vikings_the_all_new_2024_santa_fe_best_commercials.mp4<br>Segment: 6</br>Embedding type: visual-text",
         "marker": {
          "color": "blue",
          "opacity": 0.5,
          "size": 8,
          "symbol": "circle"
         },
         "mode": "markers",
         "name": "",
         "type": "scatter",
         "x": {
          "bdata": "Fo+rh7RT5r8=",
          "dtype": "f8"
         },
         "y": {
          "bdata": "zEcEkvCZqj8=",
          "dtype": "f8"
         }
        },
        {
         "hovertemplate": "Video: little_caesars_best_thing_since_sliced_bread_2020_super_bowl_commercial.mp4<br>Segment: 7</br>Embedding type: visual-text",
         "marker": {
          "color": "blue",
          "opacity": 0.5,
          "size": 8,
          "symbol": "circle"
         },
         "mode": "markers",
         "name": "",
         "type": "scatter",
         "x": {
          "bdata": "2ejoqcij5r8=",
          "dtype": "f8"
         },
         "y": {
          "bdata": "Tf094ocbqz8=",
          "dtype": "f8"
         }
        },
        {
         "hovertemplate": "Video: in_e_l_f_we_trust_e_l_f_cosmetics_game_day_commercial_202.mp4<br>Segment: 7</br>Embedding type: visual-text",
         "marker": {
          "color": "blue",
          "opacity": 0.5,
          "size": 8,
          "symbol": "circle"
         },
         "mode": "markers",
         "name": "",
         "type": "scatter",
         "x": {
          "bdata": "b07zzkVO5b8=",
          "dtype": "f8"
         },
         "y": {
          "bdata": "jqmmWJXJsr8=",
          "dtype": "f8"
         }
        },
        {
         "hovertemplate": "Video: in_e_l_f_we_trust_e_l_f_cosmetics_game_day_commercial_202.mp4<br>Segment: 1</br>Embedding type: visual-text",
         "marker": {
          "color": "blue",
          "opacity": 0.5,
          "size": 8,
          "symbol": "circle"
         },
         "mode": "markers",
         "name": "",
         "type": "scatter",
         "x": {
          "bdata": "HIF4vyWL5r8=",
          "dtype": "f8"
         },
         "y": {
          "bdata": "R9aTdW5N0b8=",
          "dtype": "f8"
         }
        },
        {
         "hovertemplate": "Video: coca_cola_super_bowl_50_commercial_hulk_vs_ant_man_vs_coke_mini.mp4<br>Segment: 0</br>Embedding type: visual-text",
         "marker": {
          "color": "blue",
          "opacity": 0.5,
          "size": 8,
          "symbol": "circle"
         },
         "mode": "markers",
         "name": "",
         "type": "scatter",
         "x": {
          "bdata": "wphmgZu65r8=",
          "dtype": "f8"
         },
         "y": {
          "bdata": "2ehQroqLsT8=",
          "dtype": "f8"
         }
        },
        {
         "hovertemplate": "Video: ed_s_heinz_ad.mp4<br>Segment: 6</br>Embedding type: visual-text",
         "marker": {
          "color": "blue",
          "opacity": 0.5,
          "size": 8,
          "symbol": "circle"
         },
         "mode": "markers",
         "name": "",
         "type": "scatter",
         "x": {
          "bdata": "/5owZSHh5b8=",
          "dtype": "f8"
         },
         "y": {
          "bdata": "WqIOMTUuwr8=",
          "dtype": "f8"
         }
        },
        {
         "hovertemplate": "Video: in_e_l_f_we_trust_e_l_f_cosmetics_game_day_commercial_202.mp4<br>Segment: 5</br>Embedding type: visual-text",
         "marker": {
          "color": "blue",
          "opacity": 0.5,
          "size": 8,
          "symbol": "circle"
         },
         "mode": "markers",
         "name": "",
         "type": "scatter",
         "x": {
          "bdata": "jDrjmAQ85r8=",
          "dtype": "f8"
         },
         "y": {
          "bdata": "aZ2U8OZL0L8=",
          "dtype": "f8"
         }
        },
        {
         "hovertemplate": "Video: sling_baby_doritos_commercial_superbowl_commercials.mp4<br>Segment: 3</br>Embedding type: visual-text",
         "marker": {
          "color": "blue",
          "opacity": 0.5,
          "size": 8,
          "symbol": "circle"
         },
         "mode": "markers",
         "name": "",
         "type": "scatter",
         "x": {
          "bdata": "jCzMXTLH478=",
          "dtype": "f8"
         },
         "y": {
          "bdata": "R25UIsFwpj8=",
          "dtype": "f8"
         }
        },
        {
         "hovertemplate": "Video: ed_s_heinz_ad.mp4<br>Segment: 0</br>Embedding type: visual-text",
         "marker": {
          "color": "blue",
          "opacity": 0.5,
          "size": 8,
          "symbol": "circle"
         },
         "mode": "markers",
         "name": "",
         "type": "scatter",
         "x": {
          "bdata": "Mg2yYdUF5b8=",
          "dtype": "f8"
         },
         "y": {
          "bdata": "0TzwLCjzu78=",
          "dtype": "f8"
         }
        },
        {
         "hovertemplate": "Video: william_levy_m_m_s_commercial_in_spanish_with_english_subtitles.mp4<br>Segment: 2</br>Embedding type: visual-text",
         "marker": {
          "color": "blue",
          "opacity": 0.5,
          "size": 8,
          "symbol": "circle"
         },
         "mode": "markers",
         "name": "",
         "type": "scatter",
         "x": {
          "bdata": "DuD9txTF5r8=",
          "dtype": "f8"
         },
         "y": {
          "bdata": "A4Rk2xm+wr8=",
          "dtype": "f8"
         }
        },
        {
         "hovertemplate": "Video: doritos_super_bowl_commercial_2024_jenna_ortega_encounter_ad.mp4<br>Segment: 1</br>Embedding type: visual-text",
         "marker": {
          "color": "blue",
          "opacity": 0.5,
          "size": 8,
          "symbol": "circle"
         },
         "mode": "markers",
         "name": "",
         "type": "scatter",
         "x": {
          "bdata": "t5y2R2QF5b8=",
          "dtype": "f8"
         },
         "y": {
          "bdata": "Wt4J+LNzxr8=",
          "dtype": "f8"
         }
        },
        {
         "hovertemplate": "Video: state_farm_commercial_arnold_schwarzenegger_super_bowl_commercial_2024_best_commercials.mp4<br>Segment: 10</br>Embedding type: visual-text",
         "marker": {
          "color": "blue",
          "opacity": 0.5,
          "size": 8,
          "symbol": "circle"
         },
         "mode": "markers",
         "name": "",
         "type": "scatter",
         "x": {
          "bdata": "pb9Tl2eB578=",
          "dtype": "f8"
         },
         "y": {
          "bdata": "npUNryNhoT8=",
          "dtype": "f8"
         }
        },
        {
         "hovertemplate": "Video: in_e_l_f_we_trust_e_l_f_cosmetics_game_day_commercial_202.mp4<br>Segment: 6</br>Embedding type: visual-text",
         "marker": {
          "color": "blue",
          "opacity": 0.5,
          "size": 8,
          "symbol": "circle"
         },
         "mode": "markers",
         "name": "",
         "type": "scatter",
         "x": {
          "bdata": "bFMjGpbD5b8=",
          "dtype": "f8"
         },
         "y": {
          "bdata": "7078UaFr0b8=",
          "dtype": "f8"
         }
        },
        {
         "hovertemplate": "Video: turbotax_2024_beat_your_price_commercial_tax_break_up_official_tv_ad_30.mp4<br>Segment: 2</br>Embedding type: visual-text",
         "marker": {
          "color": "blue",
          "opacity": 0.5,
          "size": 8,
          "symbol": "circle"
         },
         "mode": "markers",
         "name": "",
         "type": "scatter",
         "x": {
          "bdata": "Bbq8Fq2J5b8=",
          "dtype": "f8"
         },
         "y": {
          "bdata": "DGH+1J5rgz8=",
          "dtype": "f8"
         }
        },
        {
         "hovertemplate": "Video: new_maggi_range_choose_india_s_most_loved_taste_hindi.mp4<br>Segment: 3</br>Embedding type: visual-text",
         "marker": {
          "color": "blue",
          "opacity": 0.5,
          "size": 8,
          "symbol": "circle"
         },
         "mode": "markers",
         "name": "",
         "type": "scatter",
         "x": {
          "bdata": "ewmAu5ta478=",
          "dtype": "f8"
         },
         "y": {
          "bdata": "PMnNzIudsj8=",
          "dtype": "f8"
         }
        },
        {
         "hovertemplate": "Video: little_caesars_best_thing_since_sliced_bread_2020_super_bowl_commercial.mp4<br>Segment: 4</br>Embedding type: visual-text",
         "marker": {
          "color": "blue",
          "opacity": 0.5,
          "size": 8,
          "symbol": "circle"
         },
         "mode": "markers",
         "name": "",
         "type": "scatter",
         "x": {
          "bdata": "YWqolVLD5r8=",
          "dtype": "f8"
         },
         "y": {
          "bdata": "+YbxXU1Hp78=",
          "dtype": "f8"
         }
        },
        {
         "hovertemplate": "Video: state_farm_commercial_arnold_schwarzenegger_super_bowl_commercial_2024_best_commercials.mp4<br>Segment: 0</br>Embedding type: visual-text",
         "marker": {
          "color": "blue",
          "opacity": 0.5,
          "size": 8,
          "symbol": "circle"
         },
         "mode": "markers",
         "name": "",
         "type": "scatter",
         "x": {
          "bdata": "pSmKzqDQ5b8=",
          "dtype": "f8"
         },
         "y": {
          "bdata": "xCN5mVyxmz8=",
          "dtype": "f8"
         }
        },
        {
         "hovertemplate": "Video: william_levy_m_m_s_commercial_in_spanish_with_english_subtitles.mp4<br>Segment: 1</br>Embedding type: visual-text",
         "marker": {
          "color": "blue",
          "opacity": 0.5,
          "size": 8,
          "symbol": "circle"
         },
         "mode": "markers",
         "name": "",
         "type": "scatter",
         "x": {
          "bdata": "NHEj3R6B5r8=",
          "dtype": "f8"
         },
         "y": {
          "bdata": "uJuzVbdtxb8=",
          "dtype": "f8"
         }
        },
        {
         "hovertemplate": "Video: in_e_l_f_we_trust_e_l_f_cosmetics_game_day_commercial_202.mp4<br>Segment: 0</br>Embedding type: visual-text",
         "marker": {
          "color": "blue",
          "opacity": 0.5,
          "size": 8,
          "symbol": "circle"
         },
         "mode": "markers",
         "name": "",
         "type": "scatter",
         "x": {
          "bdata": "JYEOsz3X5b8=",
          "dtype": "f8"
         },
         "y": {
          "bdata": "cfAqD2WWxr8=",
          "dtype": "f8"
         }
        },
        {
         "hovertemplate": "Video: flex_tape_commercial_2017_phil_swift.mp4<br>Segment: 7</br>Embedding type: visual-text",
         "marker": {
          "color": "blue",
          "opacity": 0.5,
          "size": 8,
          "symbol": "circle"
         },
         "mode": "markers",
         "name": "",
         "type": "scatter",
         "x": {
          "bdata": "atBEzbSN478=",
          "dtype": "f8"
         },
         "y": {
          "bdata": "Ci/LEpAL4D8=",
          "dtype": "f8"
         }
        },
        {
         "hovertemplate": "Video: ed_s_heinz_ad.mp4<br>Segment: 2</br>Embedding type: visual-text",
         "marker": {
          "color": "blue",
          "opacity": 0.5,
          "size": 8,
          "symbol": "circle"
         },
         "mode": "markers",
         "name": "",
         "type": "scatter",
         "x": {
          "bdata": "/jKcHdmI5r8=",
          "dtype": "f8"
         },
         "y": {
          "bdata": "ElY+qglmyL8=",
          "dtype": "f8"
         }
        },
        {
         "hovertemplate": "Video: in_e_l_f_we_trust_e_l_f_cosmetics_game_day_commercial_202.mp4<br>Segment: 8</br>Embedding type: visual-text",
         "marker": {
          "color": "blue",
          "opacity": 0.5,
          "size": 8,
          "symbol": "circle"
         },
         "mode": "markers",
         "name": "",
         "type": "scatter",
         "x": {
          "bdata": "CA4df14U5r8=",
          "dtype": "f8"
         },
         "y": {
          "bdata": "jzvGEwefv78=",
          "dtype": "f8"
         }
        },
        {
         "hovertemplate": "Video: doritos_time_machine_crash_the_super_bowl_2014_winner_official.mp4<br>Segment: 2</br>Embedding type: visual-text",
         "marker": {
          "color": "blue",
          "opacity": 0.5,
          "size": 8,
          "symbol": "circle"
         },
         "mode": "markers",
         "name": "",
         "type": "scatter",
         "x": {
          "bdata": "8jFpnT1P5b8=",
          "dtype": "f8"
         },
         "y": {
          "bdata": "4hXJgqlktT8=",
          "dtype": "f8"
         }
        },
        {
         "hovertemplate": "Video: soda_thoughts_i_poppi_super_bowl_lix_2025_commercial.mp4<br>Segment: 3</br>Embedding type: visual-text",
         "marker": {
          "color": "blue",
          "opacity": 0.5,
          "size": 8,
          "symbol": "circle"
         },
         "mode": "markers",
         "name": "",
         "type": "scatter",
         "x": {
          "bdata": "1ZVWy8js5r8=",
          "dtype": "f8"
         },
         "y": {
          "bdata": "3p6AXcICyb8=",
          "dtype": "f8"
         }
        },
        {
         "hovertemplate": "Video: flex_tape_commercial_2017_phil_swift.mp4<br>Segment: 14</br>Embedding type: visual-text",
         "marker": {
          "color": "blue",
          "opacity": 0.5,
          "size": 8,
          "symbol": "circle"
         },
         "mode": "markers",
         "name": "",
         "type": "scatter",
         "x": {
          "bdata": "OJ8ckhVR478=",
          "dtype": "f8"
         },
         "y": {
          "bdata": "dvbBxBTc4j8=",
          "dtype": "f8"
         }
        },
        {
         "hovertemplate": "Video: little_caesars_best_thing_since_sliced_bread_2020_super_bowl_commercial.mp4<br>Segment: 2</br>Embedding type: visual-text",
         "marker": {
          "color": "blue",
          "opacity": 0.5,
          "size": 8,
          "symbol": "circle"
         },
         "mode": "markers",
         "name": "",
         "type": "scatter",
         "x": {
          "bdata": "XyLoZ88C5r8=",
          "dtype": "f8"
         },
         "y": {
          "bdata": "xcvntzEBnT8=",
          "dtype": "f8"
         }
        },
        {
         "hovertemplate": "Video: state_farm_commercial_arnold_schwarzenegger_super_bowl_commercial_2024_best_commercials.mp4<br>Segment: 6</br>Embedding type: visual-text",
         "marker": {
          "color": "blue",
          "opacity": 0.5,
          "size": 8,
          "symbol": "circle"
         },
         "mode": "markers",
         "name": "",
         "type": "scatter",
         "x": {
          "bdata": "xHn1IGhc5r8=",
          "dtype": "f8"
         },
         "y": {
          "bdata": "AA4oWCiDmr8=",
          "dtype": "f8"
         }
        },
        {
         "hovertemplate": "Video: coca_cola_super_bowl_50_commercial_hulk_vs_ant_man_vs_coke_mini.mp4<br>Segment: 5</br>Embedding type: visual-text",
         "marker": {
          "color": "blue",
          "opacity": 0.5,
          "size": 8,
          "symbol": "circle"
         },
         "mode": "markers",
         "name": "",
         "type": "scatter",
         "x": {
          "bdata": "CS9FIm3l5L8=",
          "dtype": "f8"
         },
         "y": {
          "bdata": "CuaM6DjqxT8=",
          "dtype": "f8"
         }
        },
        {
         "hovertemplate": "Video: ihop_commercial_spanish.mp4<br>Segment: 4</br>Embedding type: visual-text",
         "marker": {
          "color": "blue",
          "opacity": 0.5,
          "size": 8,
          "symbol": "circle"
         },
         "mode": "markers",
         "name": "",
         "type": "scatter",
         "x": {
          "bdata": "Pe7FIQXq5b8=",
          "dtype": "f8"
         },
         "y": {
          "bdata": "X/gQ5MUan78=",
          "dtype": "f8"
         }
        },
        {
         "hovertemplate": "Video: turbotax_2024_beat_your_price_commercial_tax_break_up_official_tv_ad_30.mp4<br>Segment: 1</br>Embedding type: visual-text",
         "marker": {
          "color": "blue",
          "opacity": 0.5,
          "size": 8,
          "symbol": "circle"
         },
         "mode": "markers",
         "name": "",
         "type": "scatter",
         "x": {
          "bdata": "dOw/X+Lf5b8=",
          "dtype": "f8"
         },
         "y": {
          "bdata": "RFzAs7owk78=",
          "dtype": "f8"
         }
        },
        {
         "hovertemplate": "Video: winning_isn_t_for_everyone_am_i_a_bad_person_nike.mp4<br>Segment: 6</br>Embedding type: visual-text",
         "marker": {
          "color": "blue",
          "opacity": 0.5,
          "size": 8,
          "symbol": "circle"
         },
         "mode": "markers",
         "name": "",
         "type": "scatter",
         "x": {
          "bdata": "xoo3suIV478=",
          "dtype": "f8"
         },
         "y": {
          "bdata": "gqvIvAGPyr8=",
          "dtype": "f8"
         }
        },
        {
         "hovertemplate": "Video: winning_isn_t_for_everyone_am_i_a_bad_person_nike.mp4<br>Segment: 1</br>Embedding type: visual-text",
         "marker": {
          "color": "blue",
          "opacity": 0.5,
          "size": 8,
          "symbol": "circle"
         },
         "mode": "markers",
         "name": "",
         "type": "scatter",
         "x": {
          "bdata": "E4Fv3dSC478=",
          "dtype": "f8"
         },
         "y": {
          "bdata": "AXd2Pv3mx78=",
          "dtype": "f8"
         }
        },
        {
         "hovertemplate": "Video: william_levy_m_m_s_commercial_in_spanish_with_english_subtitles.mp4<br>Segment: 4</br>Embedding type: visual-text",
         "marker": {
          "color": "blue",
          "opacity": 0.5,
          "size": 8,
          "symbol": "circle"
         },
         "mode": "markers",
         "name": "",
         "type": "scatter",
         "x": {
          "bdata": "GdN/GF6+5b8=",
          "dtype": "f8"
         },
         "y": {
          "bdata": "NHXy0DiQtb8=",
          "dtype": "f8"
         }
        },
        {
         "hovertemplate": "Video: winning_isn_t_for_everyone_am_i_a_bad_person_nike.mp4<br>Segment: 14</br>Embedding type: visual-text",
         "marker": {
          "color": "blue",
          "opacity": 0.5,
          "size": 8,
          "symbol": "circle"
         },
         "mode": "markers",
         "name": "",
         "type": "scatter",
         "x": {
          "bdata": "x+pQCc7b478=",
          "dtype": "f8"
         },
         "y": {
          "bdata": "34+ftzYMxL8=",
          "dtype": "f8"
         }
        },
        {
         "hovertemplate": "Video: new_maggi_range_choose_india_s_most_loved_taste_hindi.mp4<br>Segment: 2</br>Embedding type: visual-text",
         "marker": {
          "color": "blue",
          "opacity": 0.5,
          "size": 8,
          "symbol": "circle"
         },
         "mode": "markers",
         "name": "",
         "type": "scatter",
         "x": {
          "bdata": "DKqUY07U5L8=",
          "dtype": "f8"
         },
         "y": {
          "bdata": "pTAseHHjiL8=",
          "dtype": "f8"
         }
        },
        {
         "hovertemplate": "Video: nike_dream_crazier_justdoit.mp4<br>Segment: 1</br>Embedding type: visual-text",
         "marker": {
          "color": "blue",
          "opacity": 0.5,
          "size": 8,
          "symbol": "circle"
         },
         "mode": "markers",
         "name": "",
         "type": "scatter",
         "x": {
          "bdata": "eylzbTwt4r8=",
          "dtype": "f8"
         },
         "y": {
          "bdata": "8L9w1s22zb8=",
          "dtype": "f8"
         }
        },
        {
         "hovertemplate": "Video: new_maggi_range_choose_india_s_most_loved_taste_hindi.mp4<br>Segment: 0</br>Embedding type: visual-text",
         "marker": {
          "color": "blue",
          "opacity": 0.5,
          "size": 8,
          "symbol": "circle"
         },
         "mode": "markers",
         "name": "",
         "type": "scatter",
         "x": {
          "bdata": "gzDhbYw75b8=",
          "dtype": "f8"
         },
         "y": {
          "bdata": "YTGzzcSMwL8=",
          "dtype": "f8"
         }
        },
        {
         "hovertemplate": "Video: coca_cola_super_bowl_50_commercial_hulk_vs_ant_man_vs_coke_mini.mp4<br>Segment: 3</br>Embedding type: visual-text",
         "marker": {
          "color": "blue",
          "opacity": 0.5,
          "size": 8,
          "symbol": "circle"
         },
         "mode": "markers",
         "name": "",
         "type": "scatter",
         "x": {
          "bdata": "svrZQiHV5L8=",
          "dtype": "f8"
         },
         "y": {
          "bdata": "t+qDF4T+wD8=",
          "dtype": "f8"
         }
        },
        {
         "hovertemplate": "Video: hyundai_commercial_conquer_the_weekend_vikings_the_all_new_2024_santa_fe_best_commercials.mp4<br>Segment: 8</br>Embedding type: visual-text",
         "marker": {
          "color": "blue",
          "opacity": 0.5,
          "size": 8,
          "symbol": "circle"
         },
         "mode": "markers",
         "name": "",
         "type": "scatter",
         "x": {
          "bdata": "hWcpbuKz5b8=",
          "dtype": "f8"
         },
         "y": {
          "bdata": "ZLZLc13bmL8=",
          "dtype": "f8"
         }
        },
        {
         "hovertemplate": "Video: ed_s_heinz_ad.mp4<br>Segment: 8</br>Embedding type: visual-text",
         "marker": {
          "color": "blue",
          "opacity": 0.5,
          "size": 8,
          "symbol": "circle"
         },
         "mode": "markers",
         "name": "",
         "type": "scatter",
         "x": {
          "bdata": "TVGDNkwx5b8=",
          "dtype": "f8"
         },
         "y": {
          "bdata": "48rs5AJxv78=",
          "dtype": "f8"
         }
        },
        {
         "hovertemplate": "Video: new_maggi_range_choose_india_s_most_loved_taste_hindi.mp4<br>Segment: 1</br>Embedding type: visual-text",
         "marker": {
          "color": "blue",
          "opacity": 0.5,
          "size": 8,
          "symbol": "circle"
         },
         "mode": "markers",
         "name": "",
         "type": "scatter",
         "x": {
          "bdata": "tPUTUeG25b8=",
          "dtype": "f8"
         },
         "y": {
          "bdata": "wlfJllE0xL8=",
          "dtype": "f8"
         }
        },
        {
         "hovertemplate": "Video: coca_cola_super_bowl_50_commercial_hulk_vs_ant_man_vs_coke_mini.mp4<br>Segment: 1</br>Embedding type: visual-text",
         "marker": {
          "color": "blue",
          "opacity": 0.5,
          "size": 8,
          "symbol": "circle"
         },
         "mode": "markers",
         "name": "",
         "type": "scatter",
         "x": {
          "bdata": "AcWdvChg5r8=",
          "dtype": "f8"
         },
         "y": {
          "bdata": "UOGIJV34rT8=",
          "dtype": "f8"
         }
        },
        {
         "hovertemplate": "Video: soda_thoughts_i_poppi_super_bowl_lix_2025_commercial.mp4<br>Segment: 7</br>Embedding type: visual-text",
         "marker": {
          "color": "blue",
          "opacity": 0.5,
          "size": 8,
          "symbol": "circle"
         },
         "mode": "markers",
         "name": "",
         "type": "scatter",
         "x": {
          "bdata": "SpJAGbeH5r8=",
          "dtype": "f8"
         },
         "y": {
          "bdata": "TA2REDU9tb8=",
          "dtype": "f8"
         }
        },
        {
         "hovertemplate": "Video: doritos_super_bowl_commercial_2024_jenna_ortega_encounter_ad.mp4<br>Segment: 2</br>Embedding type: visual-text",
         "marker": {
          "color": "blue",
          "opacity": 0.5,
          "size": 8,
          "symbol": "circle"
         },
         "mode": "markers",
         "name": "",
         "type": "scatter",
         "x": {
          "bdata": "GTsgpVQt5r8=",
          "dtype": "f8"
         },
         "y": {
          "bdata": "RhLE5GA9wL8=",
          "dtype": "f8"
         }
        },
        {
         "hovertemplate": "Video: hyundai_commercial_conquer_the_weekend_vikings_the_all_new_2024_santa_fe_best_commercials.mp4<br>Segment: 10</br>Embedding type: visual-text",
         "marker": {
          "color": "blue",
          "opacity": 0.5,
          "size": 8,
          "symbol": "circle"
         },
         "mode": "markers",
         "name": "",
         "type": "scatter",
         "x": {
          "bdata": "aY3ZzXv5478=",
          "dtype": "f8"
         },
         "y": {
          "bdata": "KMjGNnZdpz8=",
          "dtype": "f8"
         }
        },
        {
         "hovertemplate": "Video: all_the_best_moments_are_better_with_pepsi.mp4<br>Segment: 4</br>Embedding type: visual-text",
         "marker": {
          "color": "blue",
          "opacity": 0.5,
          "size": 8,
          "symbol": "circle"
         },
         "mode": "markers",
         "name": "",
         "type": "scatter",
         "x": {
          "bdata": "S4vuG4PE478=",
          "dtype": "f8"
         },
         "y": {
          "bdata": "mFimOlbsrT8=",
          "dtype": "f8"
         }
        },
        {
         "hovertemplate": "Video: coca_cola_super_bowl_50_commercial_hulk_vs_ant_man_vs_coke_mini.mp4<br>Segment: 2</br>Embedding type: visual-text",
         "marker": {
          "color": "blue",
          "opacity": 0.5,
          "size": 8,
          "symbol": "circle"
         },
         "mode": "markers",
         "name": "",
         "type": "scatter",
         "x": {
          "bdata": "1OvpS0RD5b8=",
          "dtype": "f8"
         },
         "y": {
          "bdata": "W/+LMPZ5wz8=",
          "dtype": "f8"
         }
        },
        {
         "hovertemplate": "Video: soda_thoughts_i_poppi_super_bowl_lix_2025_commercial.mp4<br>Segment: 8</br>Embedding type: visual-text",
         "marker": {
          "color": "blue",
          "opacity": 0.5,
          "size": 8,
          "symbol": "circle"
         },
         "mode": "markers",
         "name": "",
         "type": "scatter",
         "x": {
          "bdata": "29UAmaxq5r8=",
          "dtype": "f8"
         },
         "y": {
          "bdata": "nrQOhrHxmr8=",
          "dtype": "f8"
         }
        },
        {
         "hovertemplate": "Video: temu_s_big_game_ad_encore_tv_commercial_202.mp4<br>Segment: 1</br>Embedding type: visual-text",
         "marker": {
          "color": "blue",
          "opacity": 0.5,
          "size": 8,
          "symbol": "circle"
         },
         "mode": "markers",
         "name": "",
         "type": "scatter",
         "x": {
          "bdata": "U0hRuSU2478=",
          "dtype": "f8"
         },
         "y": {
          "bdata": "9ZE2ShjWoD8=",
          "dtype": "f8"
         }
        },
        {
         "hovertemplate": "Video: flex_tape_commercial_2017_phil_swift.mp4<br>Segment: 8</br>Embedding type: visual-text",
         "marker": {
          "color": "blue",
          "opacity": 0.5,
          "size": 8,
          "symbol": "circle"
         },
         "mode": "markers",
         "name": "",
         "type": "scatter",
         "x": {
          "bdata": "ewI9wpv4478=",
          "dtype": "f8"
         },
         "y": {
          "bdata": "os62z3St3z8=",
          "dtype": "f8"
         }
        },
        {
         "hovertemplate": "Video: doritos_time_machine_crash_the_super_bowl_2014_winner_official.mp4<br>Segment: 1</br>Embedding type: visual-text",
         "marker": {
          "color": "blue",
          "opacity": 0.5,
          "size": 8,
          "symbol": "circle"
         },
         "mode": "markers",
         "name": "",
         "type": "scatter",
         "x": {
          "bdata": "xjvcMaxd5L8=",
          "dtype": "f8"
         },
         "y": {
          "bdata": "M7FGJds2xj8=",
          "dtype": "f8"
         }
        },
        {
         "hovertemplate": "Video: all_the_best_moments_are_better_with_pepsi.mp4<br>Segment: 3</br>Embedding type: visual-text",
         "marker": {
          "color": "blue",
          "opacity": 0.5,
          "size": 8,
          "symbol": "circle"
         },
         "mode": "markers",
         "name": "",
         "type": "scatter",
         "x": {
          "bdata": "yVDueYss478=",
          "dtype": "f8"
         },
         "y": {
          "bdata": "FZ0k4w5iwz8=",
          "dtype": "f8"
         }
        },
        {
         "hovertemplate": "Video: nike_dream_crazier_justdoit.mp4<br>Segment: 5</br>Embedding type: visual-text",
         "marker": {
          "color": "blue",
          "opacity": 0.5,
          "size": 8,
          "symbol": "circle"
         },
         "mode": "markers",
         "name": "",
         "type": "scatter",
         "x": {
          "bdata": "D0hJG1yp4L8=",
          "dtype": "f8"
         },
         "y": {
          "bdata": "h4q4zGMiy78=",
          "dtype": "f8"
         }
        },
        {
         "hovertemplate": "Video: all_the_best_moments_are_better_with_pepsi.mp4<br>Segment: 0</br>Embedding type: visual-text",
         "marker": {
          "color": "blue",
          "opacity": 0.5,
          "size": 8,
          "symbol": "circle"
         },
         "mode": "markers",
         "name": "",
         "type": "scatter",
         "x": {
          "bdata": "oEQQQrII5L8=",
          "dtype": "f8"
         },
         "y": {
          "bdata": "oubcoN6fwj8=",
          "dtype": "f8"
         }
        },
        {
         "hovertemplate": "Video: winning_isn_t_for_everyone_am_i_a_bad_person_nike.mp4<br>Segment: 12</br>Embedding type: visual-text",
         "marker": {
          "color": "blue",
          "opacity": 0.5,
          "size": 8,
          "symbol": "circle"
         },
         "mode": "markers",
         "name": "",
         "type": "scatter",
         "x": {
          "bdata": "AotSvfTu4b8=",
          "dtype": "f8"
         },
         "y": {
          "bdata": "dJWMNJzIvb8=",
          "dtype": "f8"
         }
        },
        {
         "hovertemplate": "Video: coca_cola_super_bowl_50_commercial_hulk_vs_ant_man_vs_coke_mini.mp4<br>Segment: 9</br>Embedding type: visual-text",
         "marker": {
          "color": "blue",
          "opacity": 0.5,
          "size": 8,
          "symbol": "circle"
         },
         "mode": "markers",
         "name": "",
         "type": "scatter",
         "x": {
          "bdata": "2bAKkNHX5L8=",
          "dtype": "f8"
         },
         "y": {
          "bdata": "+Xd7mAaJtz8=",
          "dtype": "f8"
         }
        },
        {
         "hovertemplate": "Video: nike_dream_crazier_justdoit.mp4<br>Segment: 4</br>Embedding type: visual-text",
         "marker": {
          "color": "blue",
          "opacity": 0.5,
          "size": 8,
          "symbol": "circle"
         },
         "mode": "markers",
         "name": "",
         "type": "scatter",
         "x": {
          "bdata": "p5IIbj1G4L8=",
          "dtype": "f8"
         },
         "y": {
          "bdata": "RWnsicWCyr8=",
          "dtype": "f8"
         }
        },
        {
         "hovertemplate": "Video: nike_dream_crazier_justdoit.mp4<br>Segment: 12</br>Embedding type: visual-text",
         "marker": {
          "color": "blue",
          "opacity": 0.5,
          "size": 8,
          "symbol": "circle"
         },
         "mode": "markers",
         "name": "",
         "type": "scatter",
         "x": {
          "bdata": "9ZiCmibF4b8=",
          "dtype": "f8"
         },
         "y": {
          "bdata": "H59cv3HTzb8=",
          "dtype": "f8"
         }
        },
        {
         "hovertemplate": "Video: winning_isn_t_for_everyone_am_i_a_bad_person_nike.mp4<br>Segment: 13</br>Embedding type: visual-text",
         "marker": {
          "color": "blue",
          "opacity": 0.5,
          "size": 8,
          "symbol": "circle"
         },
         "mode": "markers",
         "name": "",
         "type": "scatter",
         "x": {
          "bdata": "9iXTU0yp4r8=",
          "dtype": "f8"
         },
         "y": {
          "bdata": "KpsR1qdqwb8=",
          "dtype": "f8"
         }
        },
        {
         "hovertemplate": "Video: winning_isn_t_for_everyone_am_i_a_bad_person_nike.mp4<br>Segment: 5</br>Embedding type: visual-text",
         "marker": {
          "color": "blue",
          "opacity": 0.5,
          "size": 8,
          "symbol": "circle"
         },
         "mode": "markers",
         "name": "",
         "type": "scatter",
         "x": {
          "bdata": "eK0IdJyb478=",
          "dtype": "f8"
         },
         "y": {
          "bdata": "UguRQsRry78=",
          "dtype": "f8"
         }
        },
        {
         "hovertemplate": "Video: flex_tape_commercial_2017_phil_swift.mp4<br>Segment: 6</br>Embedding type: visual-text",
         "marker": {
          "color": "blue",
          "opacity": 0.5,
          "size": 8,
          "symbol": "circle"
         },
         "mode": "markers",
         "name": "",
         "type": "scatter",
         "x": {
          "bdata": "i4exL9rR478=",
          "dtype": "f8"
         },
         "y": {
          "bdata": "258ADdGC4T8=",
          "dtype": "f8"
         }
        },
        {
         "hovertemplate": "Video: hyundai_commercial_conquer_the_weekend_vikings_the_all_new_2024_santa_fe_best_commercials.mp4<br>Segment: 7</br>Embedding type: visual-text",
         "marker": {
          "color": "blue",
          "opacity": 0.5,
          "size": 8,
          "symbol": "circle"
         },
         "mode": "markers",
         "name": "",
         "type": "scatter",
         "x": {
          "bdata": "d5LCbV2X5b8=",
          "dtype": "f8"
         },
         "y": {
          "bdata": "0r9rYGn5mb8=",
          "dtype": "f8"
         }
        },
        {
         "hovertemplate": "Video: doritos_super_bowl_commercial_2024_jenna_ortega_encounter_ad.mp4<br>Segment: 3</br>Embedding type: visual-text",
         "marker": {
          "color": "blue",
          "opacity": 0.5,
          "size": 8,
          "symbol": "circle"
         },
         "mode": "markers",
         "name": "",
         "type": "scatter",
         "x": {
          "bdata": "Qn3A2xV+5b8=",
          "dtype": "f8"
         },
         "y": {
          "bdata": "WND042IImD8=",
          "dtype": "f8"
         }
        },
        {
         "hovertemplate": "Video: nike_dream_crazier_justdoit.mp4<br>Segment: 10</br>Embedding type: visual-text",
         "marker": {
          "color": "blue",
          "opacity": 0.5,
          "size": 8,
          "symbol": "circle"
         },
         "mode": "markers",
         "name": "",
         "type": "scatter",
         "x": {
          "bdata": "dWPXmoGE4b8=",
          "dtype": "f8"
         },
         "y": {
          "bdata": "FRhtTAvzxr8=",
          "dtype": "f8"
         }
        },
        {
         "hovertemplate": "Video: winning_isn_t_for_everyone_am_i_a_bad_person_nike.mp4<br>Segment: 8</br>Embedding type: visual-text",
         "marker": {
          "color": "blue",
          "opacity": 0.5,
          "size": 8,
          "symbol": "circle"
         },
         "mode": "markers",
         "name": "",
         "type": "scatter",
         "x": {
          "bdata": "bII96QMz478=",
          "dtype": "f8"
         },
         "y": {
          "bdata": "5qY54c/9078=",
          "dtype": "f8"
         }
        },
        {
         "hovertemplate": "Video: ed_s_heinz_ad.mp4<br>Segment: 1</br>Embedding type: visual-text",
         "marker": {
          "color": "blue",
          "opacity": 0.5,
          "size": 8,
          "symbol": "circle"
         },
         "mode": "markers",
         "name": "",
         "type": "scatter",
         "x": {
          "bdata": "ERnOVx+l5L8=",
          "dtype": "f8"
         },
         "y": {
          "bdata": "52Q18n7Rtr8=",
          "dtype": "f8"
         }
        },
        {
         "hovertemplate": "Video: ed_s_heinz_ad.mp4<br>Segment: 10</br>Embedding type: visual-text",
         "marker": {
          "color": "blue",
          "opacity": 0.5,
          "size": 8,
          "symbol": "circle"
         },
         "mode": "markers",
         "name": "",
         "type": "scatter",
         "x": {
          "bdata": "i3HHMphZ5L8=",
          "dtype": "f8"
         },
         "y": {
          "bdata": "BeyzTpTJtL8=",
          "dtype": "f8"
         }
        },
        {
         "hovertemplate": "Video: winning_isn_t_for_everyone_am_i_a_bad_person_nike.mp4<br>Segment: 7</br>Embedding type: visual-text",
         "marker": {
          "color": "blue",
          "opacity": 0.5,
          "size": 8,
          "symbol": "circle"
         },
         "mode": "markers",
         "name": "",
         "type": "scatter",
         "x": {
          "bdata": "mw1Fg2Ni478=",
          "dtype": "f8"
         },
         "y": {
          "bdata": "1Nrojf1Szr8=",
          "dtype": "f8"
         }
        },
        {
         "hovertemplate": "Video: flex_tape_commercial_2017_phil_swift.mp4<br>Segment: 12</br>Embedding type: visual-text",
         "marker": {
          "color": "blue",
          "opacity": 0.5,
          "size": 8,
          "symbol": "circle"
         },
         "mode": "markers",
         "name": "",
         "type": "scatter",
         "x": {
          "bdata": "41qyjn3t4r8=",
          "dtype": "f8"
         },
         "y": {
          "bdata": "CVZ6PsqB4j8=",
          "dtype": "f8"
         }
        },
        {
         "hovertemplate": "Video: coca_cola_super_bowl_50_commercial_hulk_vs_ant_man_vs_coke_mini.mp4<br>Segment: 7</br>Embedding type: visual-text",
         "marker": {
          "color": "blue",
          "opacity": 0.5,
          "size": 8,
          "symbol": "circle"
         },
         "mode": "markers",
         "name": "",
         "type": "scatter",
         "x": {
          "bdata": "z1VrDSPh5L8=",
          "dtype": "f8"
         },
         "y": {
          "bdata": "Wj6jzjrTvT8=",
          "dtype": "f8"
         }
        },
        {
         "hovertemplate": "Video: temu_s_big_game_ad_encore_tv_commercial_202.mp4<br>Segment: 0</br>Embedding type: visual-text",
         "marker": {
          "color": "blue",
          "opacity": 0.5,
          "size": 8,
          "symbol": "circle"
         },
         "mode": "markers",
         "name": "",
         "type": "scatter",
         "x": {
          "bdata": "hK+K1n8G478=",
          "dtype": "f8"
         },
         "y": {
          "bdata": "XcOFGmsVgb8=",
          "dtype": "f8"
         }
        },
        {
         "hovertemplate": "Video: coca_cola_super_bowl_50_commercial_hulk_vs_ant_man_vs_coke_mini.mp4<br>Segment: 8</br>Embedding type: visual-text",
         "marker": {
          "color": "blue",
          "opacity": 0.5,
          "size": 8,
          "symbol": "circle"
         },
         "mode": "markers",
         "name": "",
         "type": "scatter",
         "x": {
          "bdata": "Csrk0vdc5b8=",
          "dtype": "f8"
         },
         "y": {
          "bdata": "Z0xCYdKRuz8=",
          "dtype": "f8"
         }
        },
        {
         "hovertemplate": "Video: winning_isn_t_for_everyone_am_i_a_bad_person_nike.mp4<br>Segment: 3</br>Embedding type: visual-text",
         "marker": {
          "color": "blue",
          "opacity": 0.5,
          "size": 8,
          "symbol": "circle"
         },
         "mode": "markers",
         "name": "",
         "type": "scatter",
         "x": {
          "bdata": "wwbBBWEL478=",
          "dtype": "f8"
         },
         "y": {
          "bdata": "z91u2Gsw0b8=",
          "dtype": "f8"
         }
        },
        {
         "hovertemplate": "Video: ihop_commercial_spanish.mp4<br>Segment: 1</br>Embedding type: visual-text",
         "marker": {
          "color": "blue",
          "opacity": 0.5,
          "size": 8,
          "symbol": "circle"
         },
         "mode": "markers",
         "name": "",
         "type": "scatter",
         "x": {
          "bdata": "RZ59FJUe5b8=",
          "dtype": "f8"
         },
         "y": {
          "bdata": "+f73j03dwr8=",
          "dtype": "f8"
         }
        },
        {
         "hovertemplate": "Video: winning_isn_t_for_everyone_am_i_a_bad_person_nike.mp4<br>Segment: 2</br>Embedding type: visual-text",
         "marker": {
          "color": "blue",
          "opacity": 0.5,
          "size": 8,
          "symbol": "circle"
         },
         "mode": "markers",
         "name": "",
         "type": "scatter",
         "x": {
          "bdata": "71ENaHpm4r8=",
          "dtype": "f8"
         },
         "y": {
          "bdata": "/sVNLvtty78=",
          "dtype": "f8"
         }
        },
        {
         "hovertemplate": "Video: flex_tape_commercial_2017_phil_swift.mp4<br>Segment: 11</br>Embedding type: visual-text",
         "marker": {
          "color": "blue",
          "opacity": 0.5,
          "size": 8,
          "symbol": "circle"
         },
         "mode": "markers",
         "name": "",
         "type": "scatter",
         "x": {
          "bdata": "Zkkscoi75L8=",
          "dtype": "f8"
         },
         "y": {
          "bdata": "9Gfcwymp3z8=",
          "dtype": "f8"
         }
        },
        {
         "hovertemplate": "Video: doritos_super_bowl_commercial_2024_jenna_ortega_encounter_ad.mp4<br>Segment: 4</br>Embedding type: visual-text",
         "marker": {
          "color": "blue",
          "opacity": 0.5,
          "size": 8,
          "symbol": "circle"
         },
         "mode": "markers",
         "name": "",
         "type": "scatter",
         "x": {
          "bdata": "H9xv/+sw5b8=",
          "dtype": "f8"
         },
         "y": {
          "bdata": "7HDySNg/db8=",
          "dtype": "f8"
         }
        },
        {
         "hovertemplate": "Video: winning_isn_t_for_everyone_am_i_a_bad_person_nike.mp4<br>Segment: 4</br>Embedding type: visual-text",
         "marker": {
          "color": "blue",
          "opacity": 0.5,
          "size": 8,
          "symbol": "circle"
         },
         "mode": "markers",
         "name": "",
         "type": "scatter",
         "x": {
          "bdata": "Z7PxGSAn478=",
          "dtype": "f8"
         },
         "y": {
          "bdata": "7EGTzM+fxr8=",
          "dtype": "f8"
         }
        },
        {
         "hovertemplate": "Video: all_the_best_moments_are_better_with_pepsi.mp4<br>Segment: 1</br>Embedding type: visual-text",
         "marker": {
          "color": "blue",
          "opacity": 0.5,
          "size": 8,
          "symbol": "circle"
         },
         "mode": "markers",
         "name": "",
         "type": "scatter",
         "x": {
          "bdata": "jndQgJNg478=",
          "dtype": "f8"
         },
         "y": {
          "bdata": "zS1hIcjixj8=",
          "dtype": "f8"
         }
        },
        {
         "hovertemplate": "Video: all_the_best_moments_are_better_with_pepsi.mp4<br>Segment: 2</br>Embedding type: visual-text",
         "marker": {
          "color": "blue",
          "opacity": 0.5,
          "size": 8,
          "symbol": "circle"
         },
         "mode": "markers",
         "name": "",
         "type": "scatter",
         "x": {
          "bdata": "PuIeDBuZ478=",
          "dtype": "f8"
         },
         "y": {
          "bdata": "JkdojLeesz8=",
          "dtype": "f8"
         }
        },
        {
         "hovertemplate": "Video: flex_tape_commercial_2017_phil_swift.mp4<br>Segment: 1</br>Embedding type: visual-text",
         "marker": {
          "color": "blue",
          "opacity": 0.5,
          "size": 8,
          "symbol": "circle"
         },
         "mode": "markers",
         "name": "",
         "type": "scatter",
         "x": {
          "bdata": "O8htmaJD5L8=",
          "dtype": "f8"
         },
         "y": {
          "bdata": "mTxpwG/B4D8=",
          "dtype": "f8"
         }
        },
        {
         "hovertemplate": "Video: flex_tape_commercial_2017_phil_swift.mp4<br>Segment: 2</br>Embedding type: visual-text",
         "marker": {
          "color": "blue",
          "opacity": 0.5,
          "size": 8,
          "symbol": "circle"
         },
         "mode": "markers",
         "name": "",
         "type": "scatter",
         "x": {
          "bdata": "c9d1eHcM5L8=",
          "dtype": "f8"
         },
         "y": {
          "bdata": "Ove/wibW4D8=",
          "dtype": "f8"
         }
        },
        {
         "hovertemplate": "Video: coca_cola_super_bowl_50_commercial_hulk_vs_ant_man_vs_coke_mini.mp4<br>Segment: 6</br>Embedding type: visual-text",
         "marker": {
          "color": "blue",
          "opacity": 0.5,
          "size": 8,
          "symbol": "circle"
         },
         "mode": "markers",
         "name": "",
         "type": "scatter",
         "x": {
          "bdata": "mpUSmqmS5b8=",
          "dtype": "f8"
         },
         "y": {
          "bdata": "uWg589I4tz8=",
          "dtype": "f8"
         }
        },
        {
         "hovertemplate": "Video: nike_dream_crazier_justdoit.mp4<br>Segment: 2</br>Embedding type: visual-text",
         "marker": {
          "color": "blue",
          "opacity": 0.5,
          "size": 8,
          "symbol": "circle"
         },
         "mode": "markers",
         "name": "",
         "type": "scatter",
         "x": {
          "bdata": "/kLyRW+Z3r8=",
          "dtype": "f8"
         },
         "y": {
          "bdata": "tAIDFTO7xL8=",
          "dtype": "f8"
         }
        },
        {
         "hovertemplate": "Video: ihop_commercial_spanish.mp4<br>Segment: 2</br>Embedding type: visual-text",
         "marker": {
          "color": "blue",
          "opacity": 0.5,
          "size": 8,
          "symbol": "circle"
         },
         "mode": "markers",
         "name": "",
         "type": "scatter",
         "x": {
          "bdata": "3m9SEH9B5L8=",
          "dtype": "f8"
         },
         "y": {
          "bdata": "2kFQVEfhvb8=",
          "dtype": "f8"
         }
        },
        {
         "hovertemplate": "Video: flex_tape_commercial_2017_phil_swift.mp4<br>Segment: 10</br>Embedding type: visual-text",
         "marker": {
          "color": "blue",
          "opacity": 0.5,
          "size": 8,
          "symbol": "circle"
         },
         "mode": "markers",
         "name": "",
         "type": "scatter",
         "x": {
          "bdata": "HJ3Qa4Vn5L8=",
          "dtype": "f8"
         },
         "y": {
          "bdata": "MvS+dokU4D8=",
          "dtype": "f8"
         }
        },
        {
         "hovertemplate": "Video: winning_isn_t_for_everyone_am_i_a_bad_person_nike.mp4<br>Segment: 9</br>Embedding type: visual-text",
         "marker": {
          "color": "blue",
          "opacity": 0.5,
          "size": 8,
          "symbol": "circle"
         },
         "mode": "markers",
         "name": "",
         "type": "scatter",
         "x": {
          "bdata": "HNNBGFYa4b8=",
          "dtype": "f8"
         },
         "y": {
          "bdata": "Wo7hHYivxL8=",
          "dtype": "f8"
         }
        },
        {
         "hovertemplate": "Video: nike_dream_crazier_justdoit.mp4<br>Segment: 7</br>Embedding type: visual-text",
         "marker": {
          "color": "blue",
          "opacity": 0.5,
          "size": 8,
          "symbol": "circle"
         },
         "mode": "markers",
         "name": "",
         "type": "scatter",
         "x": {
          "bdata": "VvcHVPzE3b8=",
          "dtype": "f8"
         },
         "y": {
          "bdata": "c5jmiIbGzL8=",
          "dtype": "f8"
         }
        },
        {
         "hovertemplate": "Video: ihop_commercial_spanish.mp4<br>Segment: 3</br>Embedding type: visual-text",
         "marker": {
          "color": "blue",
          "opacity": 0.5,
          "size": 8,
          "symbol": "circle"
         },
         "mode": "markers",
         "name": "",
         "type": "scatter",
         "x": {
          "bdata": "6bPINFle5L8=",
          "dtype": "f8"
         },
         "y": {
          "bdata": "v9izBqzApr8=",
          "dtype": "f8"
         }
        },
        {
         "hovertemplate": "Video: nike_dream_crazier_justdoit.mp4<br>Segment: 8</br>Embedding type: visual-text",
         "marker": {
          "color": "blue",
          "opacity": 0.5,
          "size": 8,
          "symbol": "circle"
         },
         "mode": "markers",
         "name": "",
         "type": "scatter",
         "x": {
          "bdata": "k3ZlmCoT4b8=",
          "dtype": "f8"
         },
         "y": {
          "bdata": "KNhNzt6ecb8=",
          "dtype": "f8"
         }
        },
        {
         "hovertemplate": "Video: flex_tape_commercial_2017_phil_swift.mp4<br>Segment: 9</br>Embedding type: visual-text",
         "marker": {
          "color": "blue",
          "opacity": 0.5,
          "size": 8,
          "symbol": "circle"
         },
         "mode": "markers",
         "name": "",
         "type": "scatter",
         "x": {
          "bdata": "Vfi6lSxv478=",
          "dtype": "f8"
         },
         "y": {
          "bdata": "MLowtwKv4D8=",
          "dtype": "f8"
         }
        },
        {
         "hovertemplate": "Video: doritos_super_bowl_commercial_2024_jenna_ortega_encounter_ad.mp4<br>Segment: 5</br>Embedding type: visual-text",
         "marker": {
          "color": "blue",
          "opacity": 0.5,
          "size": 8,
          "symbol": "circle"
         },
         "mode": "markers",
         "name": "",
         "type": "scatter",
         "x": {
          "bdata": "vPQ+tGOS5L8=",
          "dtype": "f8"
         },
         "y": {
          "bdata": "MFMCAW/Duz8=",
          "dtype": "f8"
         }
        },
        {
         "hovertemplate": "Video: winning_isn_t_for_everyone_am_i_a_bad_person_nike.mp4<br>Segment: 10</br>Embedding type: visual-text",
         "marker": {
          "color": "blue",
          "opacity": 0.5,
          "size": 8,
          "symbol": "circle"
         },
         "mode": "markers",
         "name": "",
         "type": "scatter",
         "x": {
          "bdata": "oNutl2PY4b8=",
          "dtype": "f8"
         },
         "y": {
          "bdata": "hhPabLlJyL8=",
          "dtype": "f8"
         }
        },
        {
         "hovertemplate": "Video: nike_dream_crazier_justdoit.mp4<br>Segment: 9</br>Embedding type: visual-text",
         "marker": {
          "color": "blue",
          "opacity": 0.5,
          "size": 8,
          "symbol": "circle"
         },
         "mode": "markers",
         "name": "",
         "type": "scatter",
         "x": {
          "bdata": "fTfrZIrQ4L8=",
          "dtype": "f8"
         },
         "y": {
          "bdata": "X9x2FnycwL8=",
          "dtype": "f8"
         }
        },
        {
         "hovertemplate": "Video: flex_tape_commercial_2017_phil_swift.mp4<br>Segment: 5</br>Embedding type: visual-text",
         "marker": {
          "color": "blue",
          "opacity": 0.5,
          "size": 8,
          "symbol": "circle"
         },
         "mode": "markers",
         "name": "",
         "type": "scatter",
         "x": {
          "bdata": "Br2yR5Q7478=",
          "dtype": "f8"
         },
         "y": {
          "bdata": "DI5Si6TH4j8=",
          "dtype": "f8"
         }
        },
        {
         "hovertemplate": "Video: winning_isn_t_for_everyone_am_i_a_bad_person_nike.mp4<br>Segment: 11</br>Embedding type: visual-text",
         "marker": {
          "color": "blue",
          "opacity": 0.5,
          "size": 8,
          "symbol": "circle"
         },
         "mode": "markers",
         "name": "",
         "type": "scatter",
         "x": {
          "bdata": "zoUvph+L4L8=",
          "dtype": "f8"
         },
         "y": {
          "bdata": "U5ZZlThItr8=",
          "dtype": "f8"
         }
        },
        {
         "hovertemplate": "Video: nike_dream_crazier_justdoit.mp4<br>Segment: 11</br>Embedding type: visual-text",
         "marker": {
          "color": "blue",
          "opacity": 0.5,
          "size": 8,
          "symbol": "circle"
         },
         "mode": "markers",
         "name": "",
         "type": "scatter",
         "x": {
          "bdata": "3/+HZ6Jn4b8=",
          "dtype": "f8"
         },
         "y": {
          "bdata": "Bz2xOXAlw78=",
          "dtype": "f8"
         }
        },
        {
         "hovertemplate": "Video: flex_tape_commercial_2017_phil_swift.mp4<br>Segment: 0</br>Embedding type: visual-text",
         "marker": {
          "color": "blue",
          "opacity": 0.5,
          "size": 8,
          "symbol": "circle"
         },
         "mode": "markers",
         "name": "",
         "type": "scatter",
         "x": {
          "bdata": "YLgbCAO0478=",
          "dtype": "f8"
         },
         "y": {
          "bdata": "tLe3BGO24T8=",
          "dtype": "f8"
         }
        },
        {
         "hovertemplate": "Video: flex_tape_commercial_2017_phil_swift.mp4<br>Segment: 3</br>Embedding type: visual-text",
         "marker": {
          "color": "blue",
          "opacity": 0.5,
          "size": 8,
          "symbol": "circle"
         },
         "mode": "markers",
         "name": "",
         "type": "scatter",
         "x": {
          "bdata": "E/U+Mrj64b8=",
          "dtype": "f8"
         },
         "y": {
          "bdata": "sg8lM9NM4D8=",
          "dtype": "f8"
         }
        },
        {
         "hovertemplate": "Video: flex_tape_commercial_2017_phil_swift.mp4<br>Segment: 4</br>Embedding type: visual-text",
         "marker": {
          "color": "blue",
          "opacity": 0.5,
          "size": 8,
          "symbol": "circle"
         },
         "mode": "markers",
         "name": "",
         "type": "scatter",
         "x": {
          "bdata": "I2XywUNm478=",
          "dtype": "f8"
         },
         "y": {
          "bdata": "W4ZJMrBm4D8=",
          "dtype": "f8"
         }
        },
        {
         "hovertemplate": "Video: doritos_super_bowl_commercial_2024_jenna_ortega_encounter_ad.mp4<br>Segment: 11</br>Embedding type: audio",
         "marker": {
          "color": "red",
          "opacity": 0.5,
          "size": 8,
          "symbol": "circle"
         },
         "mode": "markers",
         "name": "",
         "type": "scatter",
         "x": {
          "bdata": "pJm+ttyh5T8=",
          "dtype": "f8"
         },
         "y": {
          "bdata": "x0m6iDnnh78=",
          "dtype": "f8"
         }
        },
        {
         "hovertemplate": "Video: bring_back_the_energy_volkswagen.mp4<br>Segment: 13</br>Embedding type: audio",
         "marker": {
          "color": "red",
          "opacity": 0.5,
          "size": 8,
          "symbol": "circle"
         },
         "mode": "markers",
         "name": "",
         "type": "scatter",
         "x": {
          "bdata": "q59qi7dM5T8=",
          "dtype": "f8"
         },
         "y": {
          "bdata": "hnpoB8gnmr8=",
          "dtype": "f8"
         }
        },
        {
         "hovertemplate": "Video: bring_back_the_energy_volkswagen.mp4<br>Segment: 12</br>Embedding type: audio",
         "marker": {
          "color": "red",
          "opacity": 0.5,
          "size": 8,
          "symbol": "circle"
         },
         "mode": "markers",
         "name": "",
         "type": "scatter",
         "x": {
          "bdata": "TIG6shjV5T8=",
          "dtype": "f8"
         },
         "y": {
          "bdata": "otTvsuIdXD8=",
          "dtype": "f8"
         }
        },
        {
         "hovertemplate": "Video: hyundai_commercial_conquer_the_weekend_vikings_the_all_new_2024_santa_fe_best_commercials.mp4<br>Segment: 11</br>Embedding type: audio",
         "marker": {
          "color": "red",
          "opacity": 0.5,
          "size": 8,
          "symbol": "circle"
         },
         "mode": "markers",
         "name": "",
         "type": "scatter",
         "x": {
          "bdata": "2wp1UMhZ5j8=",
          "dtype": "f8"
         },
         "y": {
          "bdata": "+OS+k9RPrT8=",
          "dtype": "f8"
         }
        },
        {
         "hovertemplate": "Video: reacher_breaks_the_bullies_reacher_s03e03_amazon_prime_videos.mp4<br>Segment: 22</br>Embedding type: audio",
         "marker": {
          "color": "red",
          "opacity": 0.5,
          "size": 8,
          "symbol": "circle"
         },
         "mode": "markers",
         "name": "",
         "type": "scatter",
         "x": {
          "bdata": "aVhWCg5x5T8=",
          "dtype": "f8"
         },
         "y": {
          "bdata": "Am8Py5ngkT8=",
          "dtype": "f8"
         }
        },
        {
         "hovertemplate": "Video: hyundai_commercial_conquer_the_weekend_vikings_the_all_new_2024_santa_fe_best_commercials.mp4<br>Segment: 17</br>Embedding type: audio",
         "marker": {
          "color": "red",
          "opacity": 0.5,
          "size": 8,
          "symbol": "circle"
         },
         "mode": "markers",
         "name": "",
         "type": "scatter",
         "x": {
          "bdata": "/1LCvPFz5j8=",
          "dtype": "f8"
         },
         "y": {
          "bdata": "rmT1dUJSp78=",
          "dtype": "f8"
         }
        },
        {
         "hovertemplate": "Video: weathertech_big_game_commercial_2025_whatever_comes_your_way_60_seconds.mp4<br>Segment: 12</br>Embedding type: audio",
         "marker": {
          "color": "red",
          "opacity": 0.5,
          "size": 8,
          "symbol": "circle"
         },
         "mode": "markers",
         "name": "",
         "type": "scatter",
         "x": {
          "bdata": "lHFn356h5j8=",
          "dtype": "f8"
         },
         "y": {
          "bdata": "KaDzHcgdkj8=",
          "dtype": "f8"
         }
        },
        {
         "hovertemplate": "Video: weathertech_big_game_commercial_2025_whatever_comes_your_way_60_seconds.mp4<br>Segment: 9</br>Embedding type: audio",
         "marker": {
          "color": "red",
          "opacity": 0.5,
          "size": 8,
          "symbol": "circle"
         },
         "mode": "markers",
         "name": "",
         "type": "scatter",
         "x": {
          "bdata": "pUOhpzZ85j8=",
          "dtype": "f8"
         },
         "y": {
          "bdata": "FjIDjndyoD8=",
          "dtype": "f8"
         }
        },
        {
         "hovertemplate": "Video: coca_cola_super_bowl_50_commercial_hulk_vs_ant_man_vs_coke_mini.mp4<br>Segment: 21</br>Embedding type: audio",
         "marker": {
          "color": "red",
          "opacity": 0.5,
          "size": 8,
          "symbol": "circle"
         },
         "mode": "markers",
         "name": "",
         "type": "scatter",
         "x": {
          "bdata": "95QAUCas5j8=",
          "dtype": "f8"
         },
         "y": {
          "bdata": "RvNv2k1do78=",
          "dtype": "f8"
         }
        },
        {
         "hovertemplate": "Video: winning_isn_t_for_everyone_am_i_a_bad_person_nike.mp4<br>Segment: 15</br>Embedding type: audio",
         "marker": {
          "color": "red",
          "opacity": 0.5,
          "size": 8,
          "symbol": "circle"
         },
         "mode": "markers",
         "name": "",
         "type": "scatter",
         "x": {
          "bdata": "a/Fkj6C35j8=",
          "dtype": "f8"
         },
         "y": {
          "bdata": "wBEbOt8ls78=",
          "dtype": "f8"
         }
        },
        {
         "hovertemplate": "Video: coca_cola_super_bowl_50_commercial_hulk_vs_ant_man_vs_coke_mini.mp4<br>Segment: 11</br>Embedding type: audio",
         "marker": {
          "color": "red",
          "opacity": 0.5,
          "size": 8,
          "symbol": "circle"
         },
         "mode": "markers",
         "name": "",
         "type": "scatter",
         "x": {
          "bdata": "pVP6ayBI5j8=",
          "dtype": "f8"
         },
         "y": {
          "bdata": "X7/oRzC9pL8=",
          "dtype": "f8"
         }
        },
        {
         "hovertemplate": "Video: little_caesars_best_thing_since_sliced_bread_2020_super_bowl_commercial.mp4<br>Segment: 12</br>Embedding type: audio",
         "marker": {
          "color": "red",
          "opacity": 0.5,
          "size": 8,
          "symbol": "circle"
         },
         "mode": "markers",
         "name": "",
         "type": "scatter",
         "x": {
          "bdata": "+eqxyxJA4z8=",
          "dtype": "f8"
         },
         "y": {
          "bdata": "t5qIXMGWhb8=",
          "dtype": "f8"
         }
        },
        {
         "hovertemplate": "Video: sling_baby_doritos_commercial_superbowl_commercials.mp4<br>Segment: 4</br>Embedding type: audio",
         "marker": {
          "color": "red",
          "opacity": 0.5,
          "size": 8,
          "symbol": "circle"
         },
         "mode": "markers",
         "name": "",
         "type": "scatter",
         "x": {
          "bdata": "diFarRKi5j8=",
          "dtype": "f8"
         },
         "y": {
          "bdata": "j/Kfq6e8sL8=",
          "dtype": "f8"
         }
        },
        {
         "hovertemplate": "Video: golf_limu_emu_doug_liberty_mutual_insurance_commercial.mp4<br>Segment: 5</br>Embedding type: audio",
         "marker": {
          "color": "red",
          "opacity": 0.5,
          "size": 8,
          "symbol": "circle"
         },
         "mode": "markers",
         "name": "",
         "type": "scatter",
         "x": {
          "bdata": "MizaNEHy4T8=",
          "dtype": "f8"
         },
         "y": {
          "bdata": "mhpT0vSutz8=",
          "dtype": "f8"
         }
        },
        {
         "hovertemplate": "Video: bring_back_the_energy_volkswagen.mp4<br>Segment: 21</br>Embedding type: audio",
         "marker": {
          "color": "red",
          "opacity": 0.5,
          "size": 8,
          "symbol": "circle"
         },
         "mode": "markers",
         "name": "",
         "type": "scatter",
         "x": {
          "bdata": "AREd8Eab5j8=",
          "dtype": "f8"
         },
         "y": {
          "bdata": "dJ5EwyoJeb8=",
          "dtype": "f8"
         }
        },
        {
         "hovertemplate": "Video: doritos_super_bowl_commercial_2024_jenna_ortega_encounter_ad.mp4<br>Segment: 8</br>Embedding type: audio",
         "marker": {
          "color": "red",
          "opacity": 0.5,
          "size": 8,
          "symbol": "circle"
         },
         "mode": "markers",
         "name": "",
         "type": "scatter",
         "x": {
          "bdata": "3L22CFhB5z8=",
          "dtype": "f8"
         },
         "y": {
          "bdata": "f3TMl4ixtL8=",
          "dtype": "f8"
         }
        },
        {
         "hovertemplate": "Video: doritos_super_bowl_commercial_2024_jenna_ortega_encounter_ad.mp4<br>Segment: 10</br>Embedding type: audio",
         "marker": {
          "color": "red",
          "opacity": 0.5,
          "size": 8,
          "symbol": "circle"
         },
         "mode": "markers",
         "name": "",
         "type": "scatter",
         "x": {
          "bdata": "mgMQlq3W5T8=",
          "dtype": "f8"
         },
         "y": {
          "bdata": "xJ7cFAJDjr8=",
          "dtype": "f8"
         }
        },
        {
         "hovertemplate": "Video: state_farm_commercial_arnold_schwarzenegger_super_bowl_commercial_2024_best_commercials.mp4<br>Segment: 14</br>Embedding type: audio",
         "marker": {
          "color": "red",
          "opacity": 0.5,
          "size": 8,
          "symbol": "circle"
         },
         "mode": "markers",
         "name": "",
         "type": "scatter",
         "x": {
          "bdata": "VL0vQgme5T8=",
          "dtype": "f8"
         },
         "y": {
          "bdata": "yMgwe2w8i78=",
          "dtype": "f8"
         }
        },
        {
         "hovertemplate": "Video: reacher_breaks_the_bullies_reacher_s03e03_amazon_prime_videos.mp4<br>Segment: 33</br>Embedding type: audio",
         "marker": {
          "color": "red",
          "opacity": 0.5,
          "size": 8,
          "symbol": "circle"
         },
         "mode": "markers",
         "name": "",
         "type": "scatter",
         "x": {
          "bdata": "qN7jeXTP5T8=",
          "dtype": "f8"
         },
         "y": {
          "bdata": "d60PtybtvL8=",
          "dtype": "f8"
         }
        },
        {
         "hovertemplate": "Video: bring_back_the_energy_volkswagen.mp4<br>Segment: 23</br>Embedding type: audio",
         "marker": {
          "color": "red",
          "opacity": 0.5,
          "size": 8,
          "symbol": "circle"
         },
         "mode": "markers",
         "name": "",
         "type": "scatter",
         "x": {
          "bdata": "X9nW56Qs5T8=",
          "dtype": "f8"
         },
         "y": {
          "bdata": "9IdvYg18c78=",
          "dtype": "f8"
         }
        },
        {
         "hovertemplate": "Video: doritos_super_bowl_commercial_2024_jenna_ortega_encounter_ad.mp4<br>Segment: 9</br>Embedding type: audio",
         "marker": {
          "color": "red",
          "opacity": 0.5,
          "size": 8,
          "symbol": "circle"
         },
         "mode": "markers",
         "name": "",
         "type": "scatter",
         "x": {
          "bdata": "n71PaIl95j8=",
          "dtype": "f8"
         },
         "y": {
          "bdata": "pyT7eSDHqr8=",
          "dtype": "f8"
         }
        },
        {
         "hovertemplate": "Video: reacher_breaks_the_bullies_reacher_s03e03_amazon_prime_videos.mp4<br>Segment: 23</br>Embedding type: audio",
         "marker": {
          "color": "red",
          "opacity": 0.5,
          "size": 8,
          "symbol": "circle"
         },
         "mode": "markers",
         "name": "",
         "type": "scatter",
         "x": {
          "bdata": "+8NKCuaJ5T8=",
          "dtype": "f8"
         },
         "y": {
          "bdata": "1RhQaX+fYz8=",
          "dtype": "f8"
         }
        },
        {
         "hovertemplate": "Video: hyundai_commercial_conquer_the_weekend_vikings_the_all_new_2024_santa_fe_best_commercials.mp4<br>Segment: 19</br>Embedding type: audio",
         "marker": {
          "color": "red",
          "opacity": 0.5,
          "size": 8,
          "symbol": "circle"
         },
         "mode": "markers",
         "name": "",
         "type": "scatter",
         "x": {
          "bdata": "youzm60B5z8=",
          "dtype": "f8"
         },
         "y": {
          "bdata": "lYpEDXp5mb8=",
          "dtype": "f8"
         }
        },
        {
         "hovertemplate": "Video: bring_back_the_energy_volkswagen.mp4<br>Segment: 15</br>Embedding type: audio",
         "marker": {
          "color": "red",
          "opacity": 0.5,
          "size": 8,
          "symbol": "circle"
         },
         "mode": "markers",
         "name": "",
         "type": "scatter",
         "x": {
          "bdata": "UkcX9Ptw5j8=",
          "dtype": "f8"
         },
         "y": {
          "bdata": "3l0ihpzrsr8=",
          "dtype": "f8"
         }
        },
        {
         "hovertemplate": "Video: hyundai_commercial_conquer_the_weekend_vikings_the_all_new_2024_santa_fe_best_commercials.mp4<br>Segment: 12</br>Embedding type: audio",
         "marker": {
          "color": "red",
          "opacity": 0.5,
          "size": 8,
          "symbol": "circle"
         },
         "mode": "markers",
         "name": "",
         "type": "scatter",
         "x": {
          "bdata": "jMkYtNuI5j8=",
          "dtype": "f8"
         },
         "y": {
          "bdata": "CQaUhQxmqD8=",
          "dtype": "f8"
         }
        },
        {
         "hovertemplate": "Video: sling_baby_doritos_commercial_superbowl_commercials.mp4<br>Segment: 7</br>Embedding type: audio",
         "marker": {
          "color": "red",
          "opacity": 0.5,
          "size": 8,
          "symbol": "circle"
         },
         "mode": "markers",
         "name": "",
         "type": "scatter",
         "x": {
          "bdata": "dw/lGNfK5j8=",
          "dtype": "f8"
         },
         "y": {
          "bdata": "v6ND0/8idb8=",
          "dtype": "f8"
         }
        },
        {
         "hovertemplate": "Video: doritos_time_machine_crash_the_super_bowl_2014_winner_official.mp4<br>Segment: 7</br>Embedding type: audio",
         "marker": {
          "color": "red",
          "opacity": 0.5,
          "size": 8,
          "symbol": "circle"
         },
         "mode": "markers",
         "name": "",
         "type": "scatter",
         "x": {
          "bdata": "KzKN23Yy5z8=",
          "dtype": "f8"
         },
         "y": {
          "bdata": "4kh6JMvpir8=",
          "dtype": "f8"
         }
        },
        {
         "hovertemplate": "Video: reacher_breaks_the_bullies_reacher_s03e03_amazon_prime_videos.mp4<br>Segment: 27</br>Embedding type: audio",
         "marker": {
          "color": "red",
          "opacity": 0.5,
          "size": 8,
          "symbol": "circle"
         },
         "mode": "markers",
         "name": "",
         "type": "scatter",
         "x": {
          "bdata": "DTWIgXjm5j8=",
          "dtype": "f8"
         },
         "y": {
          "bdata": "7giLKPAFlr8=",
          "dtype": "f8"
         }
        },
        {
         "hovertemplate": "Video: the_new_kid_doritos_commercial.mp4<br>Segment: 7</br>Embedding type: audio",
         "marker": {
          "color": "red",
          "opacity": 0.5,
          "size": 8,
          "symbol": "circle"
         },
         "mode": "markers",
         "name": "",
         "type": "scatter",
         "x": {
          "bdata": "/mYPhY3H5z8=",
          "dtype": "f8"
         },
         "y": {
          "bdata": "IK0gwUyRcz8=",
          "dtype": "f8"
         }
        },
        {
         "hovertemplate": "Video: nike_dream_crazier_justdoit.mp4<br>Segment: 27</br>Embedding type: audio",
         "marker": {
          "color": "red",
          "opacity": 0.5,
          "size": 8,
          "symbol": "circle"
         },
         "mode": "markers",
         "name": "",
         "type": "scatter",
         "x": {
          "bdata": "jwlmfA4F5j8=",
          "dtype": "f8"
         },
         "y": {
          "bdata": "6uCjDloGoL8=",
          "dtype": "f8"
         }
        },
        {
         "hovertemplate": "Video: bring_back_the_energy_volkswagen.mp4<br>Segment: 18</br>Embedding type: audio",
         "marker": {
          "color": "red",
          "opacity": 0.5,
          "size": 8,
          "symbol": "circle"
         },
         "mode": "markers",
         "name": "",
         "type": "scatter",
         "x": {
          "bdata": "Aouew7bB5D8=",
          "dtype": "f8"
         },
         "y": {
          "bdata": "z+7UD4jXsr8=",
          "dtype": "f8"
         }
        },
        {
         "hovertemplate": "Video: 2025_bud_light_super_bowl_commercial_big_men_on_cul_de_sac_easy_to_drink_easy_to_enjoy_60.mp4<br>Segment: 11</br>Embedding type: audio",
         "marker": {
          "color": "red",
          "opacity": 0.5,
          "size": 8,
          "symbol": "circle"
         },
         "mode": "markers",
         "name": "",
         "type": "scatter",
         "x": {
          "bdata": "pvTJj6vk5j8=",
          "dtype": "f8"
         },
         "y": {
          "bdata": "LuFLojWnpD8=",
          "dtype": "f8"
         }
        },
        {
         "hovertemplate": "Video: winning_isn_t_for_everyone_am_i_a_bad_person_nike.mp4<br>Segment: 26</br>Embedding type: audio",
         "marker": {
          "color": "red",
          "opacity": 0.5,
          "size": 8,
          "symbol": "circle"
         },
         "mode": "markers",
         "name": "",
         "type": "scatter",
         "x": {
          "bdata": "lVgC7KO85j8=",
          "dtype": "f8"
         },
         "y": {
          "bdata": "KVuQEfYlsb8=",
          "dtype": "f8"
         }
        },
        {
         "hovertemplate": "Video: winning_isn_t_for_everyone_am_i_a_bad_person_nike.mp4<br>Segment: 28</br>Embedding type: audio",
         "marker": {
          "color": "red",
          "opacity": 0.5,
          "size": 8,
          "symbol": "circle"
         },
         "mode": "markers",
         "name": "",
         "type": "scatter",
         "x": {
          "bdata": "ThvExQgq5z8=",
          "dtype": "f8"
         },
         "y": {
          "bdata": "o6bYZUzoob8=",
          "dtype": "f8"
         }
        },
        {
         "hovertemplate": "Video: anti_smoking_commercial_french.mp4<br>Segment: 18</br>Embedding type: audio",
         "marker": {
          "color": "red",
          "opacity": 0.5,
          "size": 8,
          "symbol": "circle"
         },
         "mode": "markers",
         "name": "",
         "type": "scatter",
         "x": {
          "bdata": "i7p974B05j8=",
          "dtype": "f8"
         },
         "y": {
          "bdata": "qZdnrY9WsL8=",
          "dtype": "f8"
         }
        },
        {
         "hovertemplate": "Video: coca_cola_super_bowl_50_commercial_hulk_vs_ant_man_vs_coke_mini.mp4<br>Segment: 20</br>Embedding type: audio",
         "marker": {
          "color": "red",
          "opacity": 0.5,
          "size": 8,
          "symbol": "circle"
         },
         "mode": "markers",
         "name": "",
         "type": "scatter",
         "x": {
          "bdata": "SVVrt/8m5j8=",
          "dtype": "f8"
         },
         "y": {
          "bdata": "EsK+pDFaoz8=",
          "dtype": "f8"
         }
        },
        {
         "hovertemplate": "Video: nike_dream_crazier_justdoit.mp4<br>Segment: 17</br>Embedding type: audio",
         "marker": {
          "color": "red",
          "opacity": 0.5,
          "size": 8,
          "symbol": "circle"
         },
         "mode": "markers",
         "name": "",
         "type": "scatter",
         "x": {
          "bdata": "3fHu4w0J5z8=",
          "dtype": "f8"
         },
         "y": {
          "bdata": "LXy2t7H7sL8=",
          "dtype": "f8"
         }
        },
        {
         "hovertemplate": "Video: nike_dream_crazier_justdoit.mp4<br>Segment: 14</br>Embedding type: audio",
         "marker": {
          "color": "red",
          "opacity": 0.5,
          "size": 8,
          "symbol": "circle"
         },
         "mode": "markers",
         "name": "",
         "type": "scatter",
         "x": {
          "bdata": "lu5EOuqV5T8=",
          "dtype": "f8"
         },
         "y": {
          "bdata": "Y7OuLzEPsb8=",
          "dtype": "f8"
         }
        },
        {
         "hovertemplate": "Video: anti_smoking_commercial_french.mp4<br>Segment: 12</br>Embedding type: audio",
         "marker": {
          "color": "red",
          "opacity": 0.5,
          "size": 8,
          "symbol": "circle"
         },
         "mode": "markers",
         "name": "",
         "type": "scatter",
         "x": {
          "bdata": "VFGuuDhc4z8=",
          "dtype": "f8"
         },
         "y": {
          "bdata": "BsFuBF0+iL8=",
          "dtype": "f8"
         }
        },
        {
         "hovertemplate": "Video: flex_tape_commercial_2017_phil_swift.mp4<br>Segment: 16</br>Embedding type: audio",
         "marker": {
          "color": "red",
          "opacity": 0.5,
          "size": 8,
          "symbol": "circle"
         },
         "mode": "markers",
         "name": "",
         "type": "scatter",
         "x": {
          "bdata": "24TYt3Y05j8=",
          "dtype": "f8"
         },
         "y": {
          "bdata": "U+8flbM8qz8=",
          "dtype": "f8"
         }
        },
        {
         "hovertemplate": "Video: bring_back_the_energy_volkswagen.mp4<br>Segment: 16</br>Embedding type: audio",
         "marker": {
          "color": "red",
          "opacity": 0.5,
          "size": 8,
          "symbol": "circle"
         },
         "mode": "markers",
         "name": "",
         "type": "scatter",
         "x": {
          "bdata": "jKIZM9su5j8=",
          "dtype": "f8"
         },
         "y": {
          "bdata": "D3k/fTXQoL8=",
          "dtype": "f8"
         }
        },
        {
         "hovertemplate": "Video: nike_dream_crazier_justdoit.mp4<br>Segment: 24</br>Embedding type: audio",
         "marker": {
          "color": "red",
          "opacity": 0.5,
          "size": 8,
          "symbol": "circle"
         },
         "mode": "markers",
         "name": "",
         "type": "scatter",
         "x": {
          "bdata": "qDDqFUU35z8=",
          "dtype": "f8"
         },
         "y": {
          "bdata": "LBXSJUIvrL8=",
          "dtype": "f8"
         }
        },
        {
         "hovertemplate": "Video: state_farm_commercial_arnold_schwarzenegger_super_bowl_commercial_2024_best_commercials.mp4<br>Segment: 26</br>Embedding type: audio",
         "marker": {
          "color": "red",
          "opacity": 0.5,
          "size": 8,
          "symbol": "circle"
         },
         "mode": "markers",
         "name": "",
         "type": "scatter",
         "x": {
          "bdata": "/51gfEQh5j8=",
          "dtype": "f8"
         },
         "y": {
          "bdata": "Sa93jbGjob8=",
          "dtype": "f8"
         }
        },
        {
         "hovertemplate": "Video: doritos_super_bowl_commercial_2024_jenna_ortega_encounter_ad.mp4<br>Segment: 7</br>Embedding type: audio",
         "marker": {
          "color": "red",
          "opacity": 0.5,
          "size": 8,
          "symbol": "circle"
         },
         "mode": "markers",
         "name": "",
         "type": "scatter",
         "x": {
          "bdata": "9t+FLRIV5z8=",
          "dtype": "f8"
         },
         "y": {
          "bdata": "cSABmH6mtb8=",
          "dtype": "f8"
         }
        },
        {
         "hovertemplate": "Video: reacher_breaks_the_bullies_reacher_s03e03_amazon_prime_videos.mp4<br>Segment: 21</br>Embedding type: audio",
         "marker": {
          "color": "red",
          "opacity": 0.5,
          "size": 8,
          "symbol": "circle"
         },
         "mode": "markers",
         "name": "",
         "type": "scatter",
         "x": {
          "bdata": "RTQDt0CW5T8=",
          "dtype": "f8"
         },
         "y": {
          "bdata": "FlIJWtotrb8=",
          "dtype": "f8"
         }
        },
        {
         "hovertemplate": "Video: bring_back_the_energy_volkswagen.mp4<br>Segment: 22</br>Embedding type: audio",
         "marker": {
          "color": "red",
          "opacity": 0.5,
          "size": 8,
          "symbol": "circle"
         },
         "mode": "markers",
         "name": "",
         "type": "scatter",
         "x": {
          "bdata": "we3ls0x75j8=",
          "dtype": "f8"
         },
         "y": {
          "bdata": "WkRXXoC8gj8=",
          "dtype": "f8"
         }
        },
        {
         "hovertemplate": "Video: bring_back_the_energy_volkswagen.mp4<br>Segment: 19</br>Embedding type: audio",
         "marker": {
          "color": "red",
          "opacity": 0.5,
          "size": 8,
          "symbol": "circle"
         },
         "mode": "markers",
         "name": "",
         "type": "scatter",
         "x": {
          "bdata": "ZgCPCB1B5j8=",
          "dtype": "f8"
         },
         "y": {
          "bdata": "QoUNQdlAsb8=",
          "dtype": "f8"
         }
        },
        {
         "hovertemplate": "Video: state_farm_commercial_arnold_schwarzenegger_super_bowl_commercial_2024_best_commercials.mp4<br>Segment: 27</br>Embedding type: audio",
         "marker": {
          "color": "red",
          "opacity": 0.5,
          "size": 8,
          "symbol": "circle"
         },
         "mode": "markers",
         "name": "",
         "type": "scatter",
         "x": {
          "bdata": "Uuz+vdut5T8=",
          "dtype": "f8"
         },
         "y": {
          "bdata": "RtAuE0Anmb8=",
          "dtype": "f8"
         }
        },
        {
         "hovertemplate": "Video: ed_s_heinz_ad.mp4<br>Segment: 20</br>Embedding type: audio",
         "marker": {
          "color": "red",
          "opacity": 0.5,
          "size": 8,
          "symbol": "circle"
         },
         "mode": "markers",
         "name": "",
         "type": "scatter",
         "x": {
          "bdata": "L9X/QiML5z8=",
          "dtype": "f8"
         },
         "y": {
          "bdata": "aULhFFGorb8=",
          "dtype": "f8"
         }
        },
        {
         "hovertemplate": "Video: nike_dream_crazier_justdoit.mp4<br>Segment: 19</br>Embedding type: audio",
         "marker": {
          "color": "red",
          "opacity": 0.5,
          "size": 8,
          "symbol": "circle"
         },
         "mode": "markers",
         "name": "",
         "type": "scatter",
         "x": {
          "bdata": "EoM6lcCg5z8=",
          "dtype": "f8"
         },
         "y": {
          "bdata": "Mb/9vfXpsL8=",
          "dtype": "f8"
         }
        },
        {
         "hovertemplate": "Video: hyundai_commercial_conquer_the_weekend_vikings_the_all_new_2024_santa_fe_best_commercials.mp4<br>Segment: 21</br>Embedding type: audio",
         "marker": {
          "color": "red",
          "opacity": 0.5,
          "size": 8,
          "symbol": "circle"
         },
         "mode": "markers",
         "name": "",
         "type": "scatter",
         "x": {
          "bdata": "7iYdk3185j8=",
          "dtype": "f8"
         },
         "y": {
          "bdata": "2K52eDnWdb8=",
          "dtype": "f8"
         }
        },
        {
         "hovertemplate": "Video: reacher_breaks_the_bullies_reacher_s03e03_amazon_prime_videos.mp4<br>Segment: 17</br>Embedding type: audio",
         "marker": {
          "color": "red",
          "opacity": 0.5,
          "size": 8,
          "symbol": "circle"
         },
         "mode": "markers",
         "name": "",
         "type": "scatter",
         "x": {
          "bdata": "wox5Q1535T8=",
          "dtype": "f8"
         },
         "y": {
          "bdata": "Q34yeGuvZr8=",
          "dtype": "f8"
         }
        },
        {
         "hovertemplate": "Video: hyundai_commercial_conquer_the_weekend_vikings_the_all_new_2024_santa_fe_best_commercials.mp4<br>Segment: 15</br>Embedding type: audio",
         "marker": {
          "color": "red",
          "opacity": 0.5,
          "size": 8,
          "symbol": "circle"
         },
         "mode": "markers",
         "name": "",
         "type": "scatter",
         "x": {
          "bdata": "Wrn8/uCJ5j8=",
          "dtype": "f8"
         },
         "y": {
          "bdata": "uGCYGpuGgL8=",
          "dtype": "f8"
         }
        },
        {
         "hovertemplate": "Video: weathertech_big_game_commercial_2025_whatever_comes_your_way_60_seconds.mp4<br>Segment: 13</br>Embedding type: audio",
         "marker": {
          "color": "red",
          "opacity": 0.5,
          "size": 8,
          "symbol": "circle"
         },
         "mode": "markers",
         "name": "",
         "type": "scatter",
         "x": {
          "bdata": "qTjInFmD5z8=",
          "dtype": "f8"
         },
         "y": {
          "bdata": "4VESiHZojD8=",
          "dtype": "f8"
         }
        },
        {
         "hovertemplate": "Video: winning_isn_t_for_everyone_am_i_a_bad_person_nike.mp4<br>Segment: 16</br>Embedding type: audio",
         "marker": {
          "color": "red",
          "opacity": 0.5,
          "size": 8,
          "symbol": "circle"
         },
         "mode": "markers",
         "name": "",
         "type": "scatter",
         "x": {
          "bdata": "lGAVn3VP5T8=",
          "dtype": "f8"
         },
         "y": {
          "bdata": "aTmHSb0psL8=",
          "dtype": "f8"
         }
        },
        {
         "hovertemplate": "Video: coca_cola_super_bowl_50_commercial_hulk_vs_ant_man_vs_coke_mini.mp4<br>Segment: 14</br>Embedding type: audio",
         "marker": {
          "color": "red",
          "opacity": 0.5,
          "size": 8,
          "symbol": "circle"
         },
         "mode": "markers",
         "name": "",
         "type": "scatter",
         "x": {
          "bdata": "DDDLYHHe5j8=",
          "dtype": "f8"
         },
         "y": {
          "bdata": "YaaoSCKum78=",
          "dtype": "f8"
         }
        },
        {
         "hovertemplate": "Video: winning_isn_t_for_everyone_am_i_a_bad_person_nike.mp4<br>Segment: 21</br>Embedding type: audio",
         "marker": {
          "color": "red",
          "opacity": 0.5,
          "size": 8,
          "symbol": "circle"
         },
         "mode": "markers",
         "name": "",
         "type": "scatter",
         "x": {
          "bdata": "dkd50KC95j8=",
          "dtype": "f8"
         },
         "y": {
          "bdata": "UMy5LkLVt78=",
          "dtype": "f8"
         }
        },
        {
         "hovertemplate": "Video: reacher_breaks_the_bullies_reacher_s03e03_amazon_prime_videos.mp4<br>Segment: 19</br>Embedding type: audio",
         "marker": {
          "color": "red",
          "opacity": 0.5,
          "size": 8,
          "symbol": "circle"
         },
         "mode": "markers",
         "name": "",
         "type": "scatter",
         "x": {
          "bdata": "2eFXWgau4z8=",
          "dtype": "f8"
         },
         "y": {
          "bdata": "UOTo1x8Mm78=",
          "dtype": "f8"
         }
        },
        {
         "hovertemplate": "Video: weathertech_big_game_commercial_2025_whatever_comes_your_way_60_seconds.mp4<br>Segment: 14</br>Embedding type: audio",
         "marker": {
          "color": "red",
          "opacity": 0.5,
          "size": 8,
          "symbol": "circle"
         },
         "mode": "markers",
         "name": "",
         "type": "scatter",
         "x": {
          "bdata": "6lueJsb25j8=",
          "dtype": "f8"
         },
         "y": {
          "bdata": "Xo3xRkmSez8=",
          "dtype": "f8"
         }
        },
        {
         "hovertemplate": "Video: nike_dream_crazier_justdoit.mp4<br>Segment: 22</br>Embedding type: audio",
         "marker": {
          "color": "red",
          "opacity": 0.5,
          "size": 8,
          "symbol": "circle"
         },
         "mode": "markers",
         "name": "",
         "type": "scatter",
         "x": {
          "bdata": "OYrVydCt5T8=",
          "dtype": "f8"
         },
         "y": {
          "bdata": "jGnHPq+tpL8=",
          "dtype": "f8"
         }
        },
        {
         "hovertemplate": "Video: taco_bell_2025_big_game_teaser_photobomb_feat_doja_cat.mp4<br>Segment: 7</br>Embedding type: audio",
         "marker": {
          "color": "red",
          "opacity": 0.5,
          "size": 8,
          "symbol": "circle"
         },
         "mode": "markers",
         "name": "",
         "type": "scatter",
         "x": {
          "bdata": "bcePGb9/5D8=",
          "dtype": "f8"
         },
         "y": {
          "bdata": "Z+Vvp9Zfoz8=",
          "dtype": "f8"
         }
        },
        {
         "hovertemplate": "Video: hyundai_commercial_conquer_the_weekend_vikings_the_all_new_2024_santa_fe_best_commercials.mp4<br>Segment: 16</br>Embedding type: audio",
         "marker": {
          "color": "red",
          "opacity": 0.5,
          "size": 8,
          "symbol": "circle"
         },
         "mode": "markers",
         "name": "",
         "type": "scatter",
         "x": {
          "bdata": "ANU1geBu5j8=",
          "dtype": "f8"
         },
         "y": {
          "bdata": "MWkvDLDShj8=",
          "dtype": "f8"
         }
        },
        {
         "hovertemplate": "Video: coca_cola_super_bowl_50_commercial_hulk_vs_ant_man_vs_coke_mini.mp4<br>Segment: 16</br>Embedding type: audio",
         "marker": {
          "color": "red",
          "opacity": 0.5,
          "size": 8,
          "symbol": "circle"
         },
         "mode": "markers",
         "name": "",
         "type": "scatter",
         "x": {
          "bdata": "XcuK/yk95z8=",
          "dtype": "f8"
         },
         "y": {
          "bdata": "Z3RLmQ3loz8=",
          "dtype": "f8"
         }
        },
        {
         "hovertemplate": "Video: turbotax_2024_beat_your_price_commercial_tax_break_up_official_tv_ad_30.mp4<br>Segment: 5</br>Embedding type: audio",
         "marker": {
          "color": "red",
          "opacity": 0.5,
          "size": 8,
          "symbol": "circle"
         },
         "mode": "markers",
         "name": "",
         "type": "scatter",
         "x": {
          "bdata": "bKobLAxn4z8=",
          "dtype": "f8"
         },
         "y": {
          "bdata": "vaJ6QhMnlD8=",
          "dtype": "f8"
         }
        },
        {
         "hovertemplate": "Video: reacher_breaks_the_bullies_reacher_s03e03_amazon_prime_videos.mp4<br>Segment: 28</br>Embedding type: audio",
         "marker": {
          "color": "red",
          "opacity": 0.5,
          "size": 8,
          "symbol": "circle"
         },
         "mode": "markers",
         "name": "",
         "type": "scatter",
         "x": {
          "bdata": "NSUXfCCX5z8=",
          "dtype": "f8"
         },
         "y": {
          "bdata": "vMxOK8FjrL8=",
          "dtype": "f8"
         }
        },
        {
         "hovertemplate": "Video: coca_cola_super_bowl_50_commercial_hulk_vs_ant_man_vs_coke_mini.mp4<br>Segment: 12</br>Embedding type: audio",
         "marker": {
          "color": "red",
          "opacity": 0.5,
          "size": 8,
          "symbol": "circle"
         },
         "mode": "markers",
         "name": "",
         "type": "scatter",
         "x": {
          "bdata": "daiCD5Eb5z8=",
          "dtype": "f8"
         },
         "y": {
          "bdata": "bmPCgmwFpb8=",
          "dtype": "f8"
         }
        },
        {
         "hovertemplate": "Video: william_levy_m_m_s_commercial_in_spanish_with_english_subtitles.mp4<br>Segment: 9</br>Embedding type: audio",
         "marker": {
          "color": "red",
          "opacity": 0.5,
          "size": 8,
          "symbol": "circle"
         },
         "mode": "markers",
         "name": "",
         "type": "scatter",
         "x": {
          "bdata": "RTlRr2VW5z8=",
          "dtype": "f8"
         },
         "y": {
          "bdata": "4t6GzXLsk78=",
          "dtype": "f8"
         }
        },
        {
         "hovertemplate": "Video: doritos_super_bowl_commercial_2024_jenna_ortega_encounter_ad.mp4<br>Segment: 6</br>Embedding type: audio",
         "marker": {
          "color": "red",
          "opacity": 0.5,
          "size": 8,
          "symbol": "circle"
         },
         "mode": "markers",
         "name": "",
         "type": "scatter",
         "x": {
          "bdata": "QTzZjAQ75z8=",
          "dtype": "f8"
         },
         "y": {
          "bdata": "QrKN3XXMpL8=",
          "dtype": "f8"
         }
        },
        {
         "hovertemplate": "Video: nike_dream_crazier_justdoit.mp4<br>Segment: 26</br>Embedding type: audio",
         "marker": {
          "color": "red",
          "opacity": 0.5,
          "size": 8,
          "symbol": "circle"
         },
         "mode": "markers",
         "name": "",
         "type": "scatter",
         "x": {
          "bdata": "Ovd0+1JK5z8=",
          "dtype": "f8"
         },
         "y": {
          "bdata": "BcJNCXdkkr8=",
          "dtype": "f8"
         }
        },
        {
         "hovertemplate": "Video: weathertech_big_game_commercial_2025_whatever_comes_your_way_60_seconds.mp4<br>Segment: 11</br>Embedding type: audio",
         "marker": {
          "color": "red",
          "opacity": 0.5,
          "size": 8,
          "symbol": "circle"
         },
         "mode": "markers",
         "name": "",
         "type": "scatter",
         "x": {
          "bdata": "WR6sMb4w5j8=",
          "dtype": "f8"
         },
         "y": {
          "bdata": "ZaXkAJUGkz8=",
          "dtype": "f8"
         }
        },
        {
         "hovertemplate": "Video: turbotax_2024_beat_your_price_commercial_tax_break_up_official_tv_ad_30.mp4<br>Segment: 7</br>Embedding type: audio",
         "marker": {
          "color": "red",
          "opacity": 0.5,
          "size": 8,
          "symbol": "circle"
         },
         "mode": "markers",
         "name": "",
         "type": "scatter",
         "x": {
          "bdata": "0O7KlCf25T8=",
          "dtype": "f8"
         },
         "y": {
          "bdata": "TLd2IJtlpD8=",
          "dtype": "f8"
         }
        },
        {
         "hovertemplate": "Video: fevicol_jija_saala_ad_no_chindichori_hindi.mp4<br>Segment: 9</br>Embedding type: audio",
         "marker": {
          "color": "red",
          "opacity": 0.5,
          "size": 8,
          "symbol": "circle"
         },
         "mode": "markers",
         "name": "",
         "type": "scatter",
         "x": {
          "bdata": "wp0j75ho5T8=",
          "dtype": "f8"
         },
         "y": {
          "bdata": "GYlfSccfs78=",
          "dtype": "f8"
         }
        },
        {
         "hovertemplate": "Video: coca_cola_super_bowl_50_commercial_hulk_vs_ant_man_vs_coke_mini.mp4<br>Segment: 15</br>Embedding type: audio",
         "marker": {
          "color": "red",
          "opacity": 0.5,
          "size": 8,
          "symbol": "circle"
         },
         "mode": "markers",
         "name": "",
         "type": "scatter",
         "x": {
          "bdata": "efayXWhv5j8=",
          "dtype": "f8"
         },
         "y": {
          "bdata": "Jpdq27gtaD8=",
          "dtype": "f8"
         }
        },
        {
         "hovertemplate": "Video: hyundai_commercial_conquer_the_weekend_vikings_the_all_new_2024_santa_fe_best_commercials.mp4<br>Segment: 20</br>Embedding type: audio",
         "marker": {
          "color": "red",
          "opacity": 0.5,
          "size": 8,
          "symbol": "circle"
         },
         "mode": "markers",
         "name": "",
         "type": "scatter",
         "x": {
          "bdata": "GsPCFUSZ5T8=",
          "dtype": "f8"
         },
         "y": {
          "bdata": "oXWC26nYkD8=",
          "dtype": "f8"
         }
        },
        {
         "hovertemplate": "Video: reacher_breaks_the_bullies_reacher_s03e03_amazon_prime_videos.mp4<br>Segment: 18</br>Embedding type: audio",
         "marker": {
          "color": "red",
          "opacity": 0.5,
          "size": 8,
          "symbol": "circle"
         },
         "mode": "markers",
         "name": "",
         "type": "scatter",
         "x": {
          "bdata": "BNAazf5A5z8=",
          "dtype": "f8"
         },
         "y": {
          "bdata": "MDm5MDg2kb8=",
          "dtype": "f8"
         }
        },
        {
         "hovertemplate": "Video: when_sally_met_hellmann_s_30_super_bowl_commercial_2025.mp4<br>Segment: 6</br>Embedding type: audio",
         "marker": {
          "color": "red",
          "opacity": 0.5,
          "size": 8,
          "symbol": "circle"
         },
         "mode": "markers",
         "name": "",
         "type": "scatter",
         "x": {
          "bdata": "Hzr2+POe5j8=",
          "dtype": "f8"
         },
         "y": {
          "bdata": "woIUq2Lgvr8=",
          "dtype": "f8"
         }
        },
        {
         "hovertemplate": "Video: temu_s_big_game_ad_encore_tv_commercial_202.mp4<br>Segment: 5</br>Embedding type: audio",
         "marker": {
          "color": "red",
          "opacity": 0.5,
          "size": 8,
          "symbol": "circle"
         },
         "mode": "markers",
         "name": "",
         "type": "scatter",
         "x": {
          "bdata": "UhIjkuMI5j8=",
          "dtype": "f8"
         },
         "y": {
          "bdata": "anM3uCAhez8=",
          "dtype": "f8"
         }
        },
        {
         "hovertemplate": "Video: anti_smoking_commercial_french.mp4<br>Segment: 23</br>Embedding type: audio",
         "marker": {
          "color": "red",
          "opacity": 0.5,
          "size": 8,
          "symbol": "circle"
         },
         "mode": "markers",
         "name": "",
         "type": "scatter",
         "x": {
          "bdata": "p6+f15dC4z8=",
          "dtype": "f8"
         },
         "y": {
          "bdata": "NpXbVU4jjz8=",
          "dtype": "f8"
         }
        },
        {
         "hovertemplate": "Video: ed_s_heinz_ad.mp4<br>Segment: 21</br>Embedding type: audio",
         "marker": {
          "color": "red",
          "opacity": 0.5,
          "size": 8,
          "symbol": "circle"
         },
         "mode": "markers",
         "name": "",
         "type": "scatter",
         "x": {
          "bdata": "eM6wQH5Y5z8=",
          "dtype": "f8"
         },
         "y": {
          "bdata": "Itljek46jr8=",
          "dtype": "f8"
         }
        },
        {
         "hovertemplate": "Video: weathertech_big_game_commercial_2025_whatever_comes_your_way_60_seconds.mp4<br>Segment: 15</br>Embedding type: audio",
         "marker": {
          "color": "red",
          "opacity": 0.5,
          "size": 8,
          "symbol": "circle"
         },
         "mode": "markers",
         "name": "",
         "type": "scatter",
         "x": {
          "bdata": "K4SY+Cc+5j8=",
          "dtype": "f8"
         },
         "y": {
          "bdata": "KBohvGqXcT8=",
          "dtype": "f8"
         }
        },
        {
         "hovertemplate": "Video: bring_back_the_energy_volkswagen.mp4<br>Segment: 14</br>Embedding type: audio",
         "marker": {
          "color": "red",
          "opacity": 0.5,
          "size": 8,
          "symbol": "circle"
         },
         "mode": "markers",
         "name": "",
         "type": "scatter",
         "x": {
          "bdata": "n2xHLJZA5j8=",
          "dtype": "f8"
         },
         "y": {
          "bdata": "nOsnnK9rNL8=",
          "dtype": "f8"
         }
        },
        {
         "hovertemplate": "Video: winning_isn_t_for_everyone_am_i_a_bad_person_nike.mp4<br>Segment: 25</br>Embedding type: audio",
         "marker": {
          "color": "red",
          "opacity": 0.5,
          "size": 8,
          "symbol": "circle"
         },
         "mode": "markers",
         "name": "",
         "type": "scatter",
         "x": {
          "bdata": "dLsmaMKv5j8=",
          "dtype": "f8"
         },
         "y": {
          "bdata": "qeDl49/qqr8=",
          "dtype": "f8"
         }
        },
        {
         "hovertemplate": "Video: sling_baby_doritos_commercial_superbowl_commercials.mp4<br>Segment: 6</br>Embedding type: audio",
         "marker": {
          "color": "red",
          "opacity": 0.5,
          "size": 8,
          "symbol": "circle"
         },
         "mode": "markers",
         "name": "",
         "type": "scatter",
         "x": {
          "bdata": "SAa8xNs25z8=",
          "dtype": "f8"
         },
         "y": {
          "bdata": "8Y3sViWal78=",
          "dtype": "f8"
         }
        },
        {
         "hovertemplate": "Video: winning_isn_t_for_everyone_am_i_a_bad_person_nike.mp4<br>Segment: 23</br>Embedding type: audio",
         "marker": {
          "color": "red",
          "opacity": 0.5,
          "size": 8,
          "symbol": "circle"
         },
         "mode": "markers",
         "name": "",
         "type": "scatter",
         "x": {
          "bdata": "2kKQhG305j8=",
          "dtype": "f8"
         },
         "y": {
          "bdata": "rJtngD2StL8=",
          "dtype": "f8"
         }
        },
        {
         "hovertemplate": "Video: sling_baby_doritos_commercial_superbowl_commercials.mp4<br>Segment: 5</br>Embedding type: audio",
         "marker": {
          "color": "red",
          "opacity": 0.5,
          "size": 8,
          "symbol": "circle"
         },
         "mode": "markers",
         "name": "",
         "type": "scatter",
         "x": {
          "bdata": "Rb4YRr2i5j8=",
          "dtype": "f8"
         },
         "y": {
          "bdata": "dy/7FwQlmz8=",
          "dtype": "f8"
         }
        },
        {
         "hovertemplate": "Video: winning_isn_t_for_everyone_am_i_a_bad_person_nike.mp4<br>Segment: 18</br>Embedding type: audio",
         "marker": {
          "color": "red",
          "opacity": 0.5,
          "size": 8,
          "symbol": "circle"
         },
         "mode": "markers",
         "name": "",
         "type": "scatter",
         "x": {
          "bdata": "gih0Gx8O5z8=",
          "dtype": "f8"
         },
         "y": {
          "bdata": "qjP7K2vVtb8=",
          "dtype": "f8"
         }
        },
        {
         "hovertemplate": "Video: state_farm_commercial_arnold_schwarzenegger_super_bowl_commercial_2024_best_commercials.mp4<br>Segment: 16</br>Embedding type: audio",
         "marker": {
          "color": "red",
          "opacity": 0.5,
          "size": 8,
          "symbol": "circle"
         },
         "mode": "markers",
         "name": "",
         "type": "scatter",
         "x": {
          "bdata": "cerYVjwg5D8=",
          "dtype": "f8"
         },
         "y": {
          "bdata": "2xfp3k13gb8=",
          "dtype": "f8"
         }
        },
        {
         "hovertemplate": "Video: coca_cola_1971_hilltop_i_d_like_to_buy_the_world_a_coke.mp4<br>Segment: 8</br>Embedding type: audio",
         "marker": {
          "color": "red",
          "opacity": 0.5,
          "size": 8,
          "symbol": "circle"
         },
         "mode": "markers",
         "name": "",
         "type": "scatter",
         "x": {
          "bdata": "Rvpb4gyC5T8=",
          "dtype": "f8"
         },
         "y": {
          "bdata": "47yAlYrrm78=",
          "dtype": "f8"
         }
        },
        {
         "hovertemplate": "Video: nike_dream_crazier_justdoit.mp4<br>Segment: 16</br>Embedding type: audio",
         "marker": {
          "color": "red",
          "opacity": 0.5,
          "size": 8,
          "symbol": "circle"
         },
         "mode": "markers",
         "name": "",
         "type": "scatter",
         "x": {
          "bdata": "lWFRgSTL5j8=",
          "dtype": "f8"
         },
         "y": {
          "bdata": "SPPiL3zfsr8=",
          "dtype": "f8"
         }
        },
        {
         "hovertemplate": "Video: reacher_breaks_the_bullies_reacher_s03e03_amazon_prime_videos.mp4<br>Segment: 31</br>Embedding type: audio",
         "marker": {
          "color": "red",
          "opacity": 0.5,
          "size": 8,
          "symbol": "circle"
         },
         "mode": "markers",
         "name": "",
         "type": "scatter",
         "x": {
          "bdata": "ZfnCWEMp5j8=",
          "dtype": "f8"
         },
         "y": {
          "bdata": "OYobXXMftL8=",
          "dtype": "f8"
         }
        },
        {
         "hovertemplate": "Video: soda_thoughts_i_poppi_super_bowl_lix_2025_commercial.mp4<br>Segment: 12</br>Embedding type: audio",
         "marker": {
          "color": "red",
          "opacity": 0.5,
          "size": 8,
          "symbol": "circle"
         },
         "mode": "markers",
         "name": "",
         "type": "scatter",
         "x": {
          "bdata": "m/oFuPmm5j8=",
          "dtype": "f8"
         },
         "y": {
          "bdata": "y0ygfm0isb8=",
          "dtype": "f8"
         }
        },
        {
         "hovertemplate": "Video: anti_smoking_commercial_french.mp4<br>Segment: 19</br>Embedding type: audio",
         "marker": {
          "color": "red",
          "opacity": 0.5,
          "size": 8,
          "symbol": "circle"
         },
         "mode": "markers",
         "name": "",
         "type": "scatter",
         "x": {
          "bdata": "grBBwlxA5j8=",
          "dtype": "f8"
         },
         "y": {
          "bdata": "XHi0W8cLn78=",
          "dtype": "f8"
         }
        },
        {
         "hovertemplate": "Video: soda_thoughts_i_poppi_super_bowl_lix_2025_commercial.mp4<br>Segment: 14</br>Embedding type: audio",
         "marker": {
          "color": "red",
          "opacity": 0.5,
          "size": 8,
          "symbol": "circle"
         },
         "mode": "markers",
         "name": "",
         "type": "scatter",
         "x": {
          "bdata": "Zhbv8yIt5D8=",
          "dtype": "f8"
         },
         "y": {
          "bdata": "44YtncRMpL8=",
          "dtype": "f8"
         }
        },
        {
         "hovertemplate": "Video: hyundai_commercial_conquer_the_weekend_vikings_the_all_new_2024_santa_fe_best_commercials.mp4<br>Segment: 13</br>Embedding type: audio",
         "marker": {
          "color": "red",
          "opacity": 0.5,
          "size": 8,
          "symbol": "circle"
         },
         "mode": "markers",
         "name": "",
         "type": "scatter",
         "x": {
          "bdata": "xEztPRHB5T8=",
          "dtype": "f8"
         },
         "y": {
          "bdata": "po/YE9DasD8=",
          "dtype": "f8"
         }
        },
        {
         "hovertemplate": "Video: little_caesars_best_thing_since_sliced_bread_2020_super_bowl_commercial.mp4<br>Segment: 18</br>Embedding type: audio",
         "marker": {
          "color": "red",
          "opacity": 0.5,
          "size": 8,
          "symbol": "circle"
         },
         "mode": "markers",
         "name": "",
         "type": "scatter",
         "x": {
          "bdata": "GbOGzHaq5j8=",
          "dtype": "f8"
         },
         "y": {
          "bdata": "7+AZt4Usib8=",
          "dtype": "f8"
         }
        },
        {
         "hovertemplate": "Video: 2025_bud_light_super_bowl_commercial_big_men_on_cul_de_sac_easy_to_drink_easy_to_enjoy_60.mp4<br>Segment: 18</br>Embedding type: audio",
         "marker": {
          "color": "red",
          "opacity": 0.5,
          "size": 8,
          "symbol": "circle"
         },
         "mode": "markers",
         "name": "",
         "type": "scatter",
         "x": {
          "bdata": "5Byd/ed95j8=",
          "dtype": "f8"
         },
         "y": {
          "bdata": "T6ZCTcWesD8=",
          "dtype": "f8"
         }
        },
        {
         "hovertemplate": "Video: fevicol_jija_saala_ad_no_chindichori_hindi.mp4<br>Segment: 10</br>Embedding type: audio",
         "marker": {
          "color": "red",
          "opacity": 0.5,
          "size": 8,
          "symbol": "circle"
         },
         "mode": "markers",
         "name": "",
         "type": "scatter",
         "x": {
          "bdata": "Bz+AS+MG5j8=",
          "dtype": "f8"
         },
         "y": {
          "bdata": "vUs8iBwyrL8=",
          "dtype": "f8"
         }
        },
        {
         "hovertemplate": "Video: coca_cola_1971_hilltop_i_d_like_to_buy_the_world_a_coke.mp4<br>Segment: 11</br>Embedding type: audio",
         "marker": {
          "color": "red",
          "opacity": 0.5,
          "size": 8,
          "symbol": "circle"
         },
         "mode": "markers",
         "name": "",
         "type": "scatter",
         "x": {
          "bdata": "a05x7Sog5T8=",
          "dtype": "f8"
         },
         "y": {
          "bdata": "aeOADgEHo78=",
          "dtype": "f8"
         }
        },
        {
         "hovertemplate": "Video: ihop_commercial_spanish.mp4<br>Segment: 8</br>Embedding type: audio",
         "marker": {
          "color": "red",
          "opacity": 0.5,
          "size": 8,
          "symbol": "circle"
         },
         "mode": "markers",
         "name": "",
         "type": "scatter",
         "x": {
          "bdata": "pT70uQiZ5D8=",
          "dtype": "f8"
         },
         "y": {
          "bdata": "xsp74IGBlT8=",
          "dtype": "f8"
         }
        },
        {
         "hovertemplate": "Video: golf_limu_emu_doug_liberty_mutual_insurance_commercial.mp4<br>Segment: 7</br>Embedding type: audio",
         "marker": {
          "color": "red",
          "opacity": 0.5,
          "size": 8,
          "symbol": "circle"
         },
         "mode": "markers",
         "name": "",
         "type": "scatter",
         "x": {
          "bdata": "ej9aBiFr5T8=",
          "dtype": "f8"
         },
         "y": {
          "bdata": "8+6FvNyEpz8=",
          "dtype": "f8"
         }
        },
        {
         "hovertemplate": "Video: hyundai_commercial_conquer_the_weekend_vikings_the_all_new_2024_santa_fe_best_commercials.mp4<br>Segment: 14</br>Embedding type: audio",
         "marker": {
          "color": "red",
          "opacity": 0.5,
          "size": 8,
          "symbol": "circle"
         },
         "mode": "markers",
         "name": "",
         "type": "scatter",
         "x": {
          "bdata": "NoztiaFd5j8=",
          "dtype": "f8"
         },
         "y": {
          "bdata": "Issi3ew6hr8=",
          "dtype": "f8"
         }
        },
        {
         "hovertemplate": "Video: weathertech_big_game_commercial_2025_whatever_comes_your_way_60_seconds.mp4<br>Segment: 10</br>Embedding type: audio",
         "marker": {
          "color": "red",
          "opacity": 0.5,
          "size": 8,
          "symbol": "circle"
         },
         "mode": "markers",
         "name": "",
         "type": "scatter",
         "x": {
          "bdata": "e0fvakFo5T8=",
          "dtype": "f8"
         },
         "y": {
          "bdata": "DUwwX6nyqj8=",
          "dtype": "f8"
         }
        },
        {
         "hovertemplate": "Video: nike_dream_crazier_justdoit.mp4<br>Segment: 25</br>Embedding type: audio",
         "marker": {
          "color": "red",
          "opacity": 0.5,
          "size": 8,
          "symbol": "circle"
         },
         "mode": "markers",
         "name": "",
         "type": "scatter",
         "x": {
          "bdata": "Rv10UXo55z8=",
          "dtype": "f8"
         },
         "y": {
          "bdata": "+9KgnUiFsb8=",
          "dtype": "f8"
         }
        },
        {
         "hovertemplate": "Video: bring_back_the_energy_volkswagen.mp4<br>Segment: 20</br>Embedding type: audio",
         "marker": {
          "color": "red",
          "opacity": 0.5,
          "size": 8,
          "symbol": "circle"
         },
         "mode": "markers",
         "name": "",
         "type": "scatter",
         "x": {
          "bdata": "m6FqA5fo5T8=",
          "dtype": "f8"
         },
         "y": {
          "bdata": "LlnDDA7MpT8=",
          "dtype": "f8"
         }
        },
        {
         "hovertemplate": "Video: the_new_kid_doritos_commercial.mp4<br>Segment: 6</br>Embedding type: audio",
         "marker": {
          "color": "red",
          "opacity": 0.5,
          "size": 8,
          "symbol": "circle"
         },
         "mode": "markers",
         "name": "",
         "type": "scatter",
         "x": {
          "bdata": "CeC72Uc75j8=",
          "dtype": "f8"
         },
         "y": {
          "bdata": "gQo8+X3qr78=",
          "dtype": "f8"
         }
        },
        {
         "hovertemplate": "Video: coca_cola_super_bowl_50_commercial_hulk_vs_ant_man_vs_coke_mini.mp4<br>Segment: 18</br>Embedding type: audio",
         "marker": {
          "color": "red",
          "opacity": 0.5,
          "size": 8,
          "symbol": "circle"
         },
         "mode": "markers",
         "name": "",
         "type": "scatter",
         "x": {
          "bdata": "Ti9eGJjx5T8=",
          "dtype": "f8"
         },
         "y": {
          "bdata": "uvqMEcA6er8=",
          "dtype": "f8"
         }
        },
        {
         "hovertemplate": "Video: reacher_breaks_the_bullies_reacher_s03e03_amazon_prime_videos.mp4<br>Segment: 30</br>Embedding type: audio",
         "marker": {
          "color": "red",
          "opacity": 0.5,
          "size": 8,
          "symbol": "circle"
         },
         "mode": "markers",
         "name": "",
         "type": "scatter",
         "x": {
          "bdata": "hGmFntzH5T8=",
          "dtype": "f8"
         },
         "y": {
          "bdata": "GbMTCX9NkL8=",
          "dtype": "f8"
         }
        },
        {
         "hovertemplate": "Video: weathertech_big_game_commercial_2025_whatever_comes_your_way_60_seconds.mp4<br>Segment: 16</br>Embedding type: audio",
         "marker": {
          "color": "red",
          "opacity": 0.5,
          "size": 8,
          "symbol": "circle"
         },
         "mode": "markers",
         "name": "",
         "type": "scatter",
         "x": {
          "bdata": "kZzTy4HZ5D8=",
          "dtype": "f8"
         },
         "y": {
          "bdata": "HzVx8rFCkD8=",
          "dtype": "f8"
         }
        },
        {
         "hovertemplate": "Video: nike_dream_crazier_justdoit.mp4<br>Segment: 23</br>Embedding type: audio",
         "marker": {
          "color": "red",
          "opacity": 0.5,
          "size": 8,
          "symbol": "circle"
         },
         "mode": "markers",
         "name": "",
         "type": "scatter",
         "x": {
          "bdata": "zVA1WEOi5T8=",
          "dtype": "f8"
         },
         "y": {
          "bdata": "VQ6Ok8Dkrr8=",
          "dtype": "f8"
         }
        },
        {
         "hovertemplate": "Video: fevicol_jija_saala_ad_no_chindichori_hindi.mp4<br>Segment: 6</br>Embedding type: audio",
         "marker": {
          "color": "red",
          "opacity": 0.5,
          "size": 8,
          "symbol": "circle"
         },
         "mode": "markers",
         "name": "",
         "type": "scatter",
         "x": {
          "bdata": "uAd7V1HJ5j8=",
          "dtype": "f8"
         },
         "y": {
          "bdata": "U6xgq6s4pr8=",
          "dtype": "f8"
         }
        },
        {
         "hovertemplate": "Video: doritos_time_machine_crash_the_super_bowl_2014_winner_official.mp4<br>Segment: 4</br>Embedding type: audio",
         "marker": {
          "color": "red",
          "opacity": 0.5,
          "size": 8,
          "symbol": "circle"
         },
         "mode": "markers",
         "name": "",
         "type": "scatter",
         "x": {
          "bdata": "P156v7x35T8=",
          "dtype": "f8"
         },
         "y": {
          "bdata": "avsdzmi6hj8=",
          "dtype": "f8"
         }
        },
        {
         "hovertemplate": "Video: turbotax_2024_beat_your_price_commercial_tax_break_up_official_tv_ad_30.mp4<br>Segment: 8</br>Embedding type: audio",
         "marker": {
          "color": "red",
          "opacity": 0.5,
          "size": 8,
          "symbol": "circle"
         },
         "mode": "markers",
         "name": "",
         "type": "scatter",
         "x": {
          "bdata": "2Bz3+Dl34j8=",
          "dtype": "f8"
         },
         "y": {
          "bdata": "lbjz4rDltD8=",
          "dtype": "f8"
         }
        },
        {
         "hovertemplate": "Video: all_the_best_moments_are_better_with_pepsi.mp4<br>Segment: 8</br>Embedding type: audio",
         "marker": {
          "color": "red",
          "opacity": 0.5,
          "size": 8,
          "symbol": "circle"
         },
         "mode": "markers",
         "name": "",
         "type": "scatter",
         "x": {
          "bdata": "LxYXOaCd5j8=",
          "dtype": "f8"
         },
         "y": {
          "bdata": "zclI+l1UcT8=",
          "dtype": "f8"
         }
        },
        {
         "hovertemplate": "Video: reacher_breaks_the_bullies_reacher_s03e03_amazon_prime_videos.mp4<br>Segment: 29</br>Embedding type: audio",
         "marker": {
          "color": "red",
          "opacity": 0.5,
          "size": 8,
          "symbol": "circle"
         },
         "mode": "markers",
         "name": "",
         "type": "scatter",
         "x": {
          "bdata": "EqdsTuOs5T8=",
          "dtype": "f8"
         },
         "y": {
          "bdata": "RJhMP1r7g78=",
          "dtype": "f8"
         }
        },
        {
         "hovertemplate": "Video: state_farm_commercial_arnold_schwarzenegger_super_bowl_commercial_2024_best_commercials.mp4<br>Segment: 23</br>Embedding type: audio",
         "marker": {
          "color": "red",
          "opacity": 0.5,
          "size": 8,
          "symbol": "circle"
         },
         "mode": "markers",
         "name": "",
         "type": "scatter",
         "x": {
          "bdata": "h9IDQieh5j8=",
          "dtype": "f8"
         },
         "y": {
          "bdata": "shseKeTeiD8=",
          "dtype": "f8"
         }
        },
        {
         "hovertemplate": "Video: nike_dream_crazier_justdoit.mp4<br>Segment: 15</br>Embedding type: audio",
         "marker": {
          "color": "red",
          "opacity": 0.5,
          "size": 8,
          "symbol": "circle"
         },
         "mode": "markers",
         "name": "",
         "type": "scatter",
         "x": {
          "bdata": "GyKKeNYr5j8=",
          "dtype": "f8"
         },
         "y": {
          "bdata": "/XEuqo6etb8=",
          "dtype": "f8"
         }
        },
        {
         "hovertemplate": "Video: doritos_time_machine_crash_the_super_bowl_2014_winner_official.mp4<br>Segment: 6</br>Embedding type: audio",
         "marker": {
          "color": "red",
          "opacity": 0.5,
          "size": 8,
          "symbol": "circle"
         },
         "mode": "markers",
         "name": "",
         "type": "scatter",
         "x": {
          "bdata": "8MQwx4J+5j8=",
          "dtype": "f8"
         },
         "y": {
          "bdata": "lHVGj9fgqr8=",
          "dtype": "f8"
         }
        },
        {
         "hovertemplate": "Video: anti_smoking_commercial_french.mp4<br>Segment: 20</br>Embedding type: audio",
         "marker": {
          "color": "red",
          "opacity": 0.5,
          "size": 8,
          "symbol": "circle"
         },
         "mode": "markers",
         "name": "",
         "type": "scatter",
         "x": {
          "bdata": "M4jkAlLM5D8=",
          "dtype": "f8"
         },
         "y": {
          "bdata": "eGZNCaBtmb8=",
          "dtype": "f8"
         }
        },
        {
         "hovertemplate": "Video: anti_smoking_commercial_french.mp4<br>Segment: 16</br>Embedding type: audio",
         "marker": {
          "color": "red",
          "opacity": 0.5,
          "size": 8,
          "symbol": "circle"
         },
         "mode": "markers",
         "name": "",
         "type": "scatter",
         "x": {
          "bdata": "PTt2fV9L4j8=",
          "dtype": "f8"
         },
         "y": {
          "bdata": "kZvqrqA1pD8=",
          "dtype": "f8"
         }
        },
        {
         "hovertemplate": "Video: new_maggi_range_choose_india_s_most_loved_taste_hindi.mp4<br>Segment: 4</br>Embedding type: audio",
         "marker": {
          "color": "red",
          "opacity": 0.5,
          "size": 8,
          "symbol": "circle"
         },
         "mode": "markers",
         "name": "",
         "type": "scatter",
         "x": {
          "bdata": "XGFtfU6R5T8=",
          "dtype": "f8"
         },
         "y": {
          "bdata": "VFChwYB3uL8=",
          "dtype": "f8"
         }
        },
        {
         "hovertemplate": "Video: state_farm_commercial_arnold_schwarzenegger_super_bowl_commercial_2024_best_commercials.mp4<br>Segment: 15</br>Embedding type: audio",
         "marker": {
          "color": "red",
          "opacity": 0.5,
          "size": 8,
          "symbol": "circle"
         },
         "mode": "markers",
         "name": "",
         "type": "scatter",
         "x": {
          "bdata": "vY91QQkD5D8=",
          "dtype": "f8"
         },
         "y": {
          "bdata": "dIDjCJl8pj8=",
          "dtype": "f8"
         }
        },
        {
         "hovertemplate": "Video: winning_isn_t_for_everyone_am_i_a_bad_person_nike.mp4<br>Segment: 22</br>Embedding type: audio",
         "marker": {
          "color": "red",
          "opacity": 0.5,
          "size": 8,
          "symbol": "circle"
         },
         "mode": "markers",
         "name": "",
         "type": "scatter",
         "x": {
          "bdata": "TLQVNpMD5T8=",
          "dtype": "f8"
         },
         "y": {
          "bdata": "rSEVOlp8qb8=",
          "dtype": "f8"
         }
        },
        {
         "hovertemplate": "Video: ed_s_heinz_ad.mp4<br>Segment: 19</br>Embedding type: audio",
         "marker": {
          "color": "red",
          "opacity": 0.5,
          "size": 8,
          "symbol": "circle"
         },
         "mode": "markers",
         "name": "",
         "type": "scatter",
         "x": {
          "bdata": "ChvbMQdS5j8=",
          "dtype": "f8"
         },
         "y": {
          "bdata": "HchLjYS9ob8=",
          "dtype": "f8"
         }
        },
        {
         "hovertemplate": "Video: state_farm_commercial_arnold_schwarzenegger_super_bowl_commercial_2024_best_commercials.mp4<br>Segment: 17</br>Embedding type: audio",
         "marker": {
          "color": "red",
          "opacity": 0.5,
          "size": 8,
          "symbol": "circle"
         },
         "mode": "markers",
         "name": "",
         "type": "scatter",
         "x": {
          "bdata": "ijoN8x7N5T8=",
          "dtype": "f8"
         },
         "y": {
          "bdata": "Dw5bSVGnrr8=",
          "dtype": "f8"
         }
        },
        {
         "hovertemplate": "Video: state_farm_commercial_arnold_schwarzenegger_super_bowl_commercial_2024_best_commercials.mp4<br>Segment: 18</br>Embedding type: audio",
         "marker": {
          "color": "red",
          "opacity": 0.5,
          "size": 8,
          "symbol": "circle"
         },
         "mode": "markers",
         "name": "",
         "type": "scatter",
         "x": {
          "bdata": "H+qXYsTe5D8=",
          "dtype": "f8"
         },
         "y": {
          "bdata": "TRWbFb9/ij8=",
          "dtype": "f8"
         }
        },
        {
         "hovertemplate": "Video: nike_dream_crazier_justdoit.mp4<br>Segment: 18</br>Embedding type: audio",
         "marker": {
          "color": "red",
          "opacity": 0.5,
          "size": 8,
          "symbol": "circle"
         },
         "mode": "markers",
         "name": "",
         "type": "scatter",
         "x": {
          "bdata": "2F4Wt+4L5j8=",
          "dtype": "f8"
         },
         "y": {
          "bdata": "vxBP4ehBrb8=",
          "dtype": "f8"
         }
        },
        {
         "hovertemplate": "Video: bring_back_the_energy_volkswagen.mp4<br>Segment: 17</br>Embedding type: audio",
         "marker": {
          "color": "red",
          "opacity": 0.5,
          "size": 8,
          "symbol": "circle"
         },
         "mode": "markers",
         "name": "",
         "type": "scatter",
         "x": {
          "bdata": "Zx59MiTV5T8=",
          "dtype": "f8"
         },
         "y": {
          "bdata": "20XgRHD+o78=",
          "dtype": "f8"
         }
        },
        {
         "hovertemplate": "Video: little_caesars_best_thing_since_sliced_bread_2020_super_bowl_commercial.mp4<br>Segment: 10</br>Embedding type: audio",
         "marker": {
          "color": "red",
          "opacity": 0.5,
          "size": 8,
          "symbol": "circle"
         },
         "mode": "markers",
         "name": "",
         "type": "scatter",
         "x": {
          "bdata": "RhtYEp4Q5T8=",
          "dtype": "f8"
         },
         "y": {
          "bdata": "0g787QP3kj8=",
          "dtype": "f8"
         }
        },
        {
         "hovertemplate": "Video: soda_thoughts_i_poppi_super_bowl_lix_2025_commercial.mp4<br>Segment: 11</br>Embedding type: audio",
         "marker": {
          "color": "red",
          "opacity": 0.5,
          "size": 8,
          "symbol": "circle"
         },
         "mode": "markers",
         "name": "",
         "type": "scatter",
         "x": {
          "bdata": "qMldwane5D8=",
          "dtype": "f8"
         },
         "y": {
          "bdata": "UpIu5F+XkL8=",
          "dtype": "f8"
         }
        },
        {
         "hovertemplate": "Video: temu_s_big_game_ad_encore_tv_commercial_202.mp4<br>Segment: 4</br>Embedding type: audio",
         "marker": {
          "color": "red",
          "opacity": 0.5,
          "size": 8,
          "symbol": "circle"
         },
         "mode": "markers",
         "name": "",
         "type": "scatter",
         "x": {
          "bdata": "cv+dhvgr5T8=",
          "dtype": "f8"
         },
         "y": {
          "bdata": "BACsIOeGgD8=",
          "dtype": "f8"
         }
        },
        {
         "hovertemplate": "Video: doritos_time_machine_crash_the_super_bowl_2014_winner_official.mp4<br>Segment: 5</br>Embedding type: audio",
         "marker": {
          "color": "red",
          "opacity": 0.5,
          "size": 8,
          "symbol": "circle"
         },
         "mode": "markers",
         "name": "",
         "type": "scatter",
         "x": {
          "bdata": "uGlSWvJS5z8=",
          "dtype": "f8"
         },
         "y": {
          "bdata": "Rw37oJiKVj8=",
          "dtype": "f8"
         }
        },
        {
         "hovertemplate": "Video: reacher_breaks_the_bullies_reacher_s03e03_amazon_prime_videos.mp4<br>Segment: 32</br>Embedding type: audio",
         "marker": {
          "color": "red",
          "opacity": 0.5,
          "size": 8,
          "symbol": "circle"
         },
         "mode": "markers",
         "name": "",
         "type": "scatter",
         "x": {
          "bdata": "bmHaKCjA5D8=",
          "dtype": "f8"
         },
         "y": {
          "bdata": "J850sCkChL8=",
          "dtype": "f8"
         }
        },
        {
         "hovertemplate": "Video: winning_isn_t_for_everyone_am_i_a_bad_person_nike.mp4<br>Segment: 27</br>Embedding type: audio",
         "marker": {
          "color": "red",
          "opacity": 0.5,
          "size": 8,
          "symbol": "circle"
         },
         "mode": "markers",
         "name": "",
         "type": "scatter",
         "x": {
          "bdata": "8CNk70xw5j8=",
          "dtype": "f8"
         },
         "y": {
          "bdata": "mSRQJPa7j78=",
          "dtype": "f8"
         }
        },
        {
         "hovertemplate": "Video: flex_tape_commercial_2017_phil_swift.mp4<br>Segment: 24</br>Embedding type: audio",
         "marker": {
          "color": "red",
          "opacity": 0.5,
          "size": 8,
          "symbol": "circle"
         },
         "mode": "markers",
         "name": "",
         "type": "scatter",
         "x": {
          "bdata": "8ECmdhCz5D8=",
          "dtype": "f8"
         },
         "y": {
          "bdata": "vq54p2hSzD8=",
          "dtype": "f8"
         }
        },
        {
         "hovertemplate": "Video: state_farm_commercial_arnold_schwarzenegger_super_bowl_commercial_2024_best_commercials.mp4<br>Segment: 20</br>Embedding type: audio",
         "marker": {
          "color": "red",
          "opacity": 0.5,
          "size": 8,
          "symbol": "circle"
         },
         "mode": "markers",
         "name": "",
         "type": "scatter",
         "x": {
          "bdata": "iGhef04t4j8=",
          "dtype": "f8"
         },
         "y": {
          "bdata": "cZ9opPHOkD8=",
          "dtype": "f8"
         }
        },
        {
         "hovertemplate": "Video: soda_thoughts_i_poppi_super_bowl_lix_2025_commercial.mp4<br>Segment: 10</br>Embedding type: audio",
         "marker": {
          "color": "red",
          "opacity": 0.5,
          "size": 8,
          "symbol": "circle"
         },
         "mode": "markers",
         "name": "",
         "type": "scatter",
         "x": {
          "bdata": "w4ju4GNb5D8=",
          "dtype": "f8"
         },
         "y": {
          "bdata": "WFQGWvFPpL8=",
          "dtype": "f8"
         }
        },
        {
         "hovertemplate": "Video: soda_thoughts_i_poppi_super_bowl_lix_2025_commercial.mp4<br>Segment: 15</br>Embedding type: audio",
         "marker": {
          "color": "red",
          "opacity": 0.5,
          "size": 8,
          "symbol": "circle"
         },
         "mode": "markers",
         "name": "",
         "type": "scatter",
         "x": {
          "bdata": "LrDYiMDG5D8=",
          "dtype": "f8"
         },
         "y": {
          "bdata": "n8BO3QvLpL8=",
          "dtype": "f8"
         }
        },
        {
         "hovertemplate": "Video: coca_cola_1971_hilltop_i_d_like_to_buy_the_world_a_coke.mp4<br>Segment: 10</br>Embedding type: audio",
         "marker": {
          "color": "red",
          "opacity": 0.5,
          "size": 8,
          "symbol": "circle"
         },
         "mode": "markers",
         "name": "",
         "type": "scatter",
         "x": {
          "bdata": "GysL3lKr5D8=",
          "dtype": "f8"
         },
         "y": {
          "bdata": "1NwQGg8dbr8=",
          "dtype": "f8"
         }
        },
        {
         "hovertemplate": "Video: coca_cola_1971_hilltop_i_d_like_to_buy_the_world_a_coke.mp4<br>Segment: 12</br>Embedding type: audio",
         "marker": {
          "color": "red",
          "opacity": 0.5,
          "size": 8,
          "symbol": "circle"
         },
         "mode": "markers",
         "name": "",
         "type": "scatter",
         "x": {
          "bdata": "O0XmCJa15D8=",
          "dtype": "f8"
         },
         "y": {
          "bdata": "dkOApY26pb8=",
          "dtype": "f8"
         }
        },
        {
         "hovertemplate": "Video: flex_tape_commercial_2017_phil_swift.mp4<br>Segment: 30</br>Embedding type: audio",
         "marker": {
          "color": "red",
          "opacity": 0.5,
          "size": 8,
          "symbol": "circle"
         },
         "mode": "markers",
         "name": "",
         "type": "scatter",
         "x": {
          "bdata": "AXdvauTZ5j8=",
          "dtype": "f8"
         },
         "y": {
          "bdata": "zs6E4iFVwz8=",
          "dtype": "f8"
         }
        },
        {
         "hovertemplate": "Video: when_sally_met_hellmann_s_30_super_bowl_commercial_2025.mp4<br>Segment: 9</br>Embedding type: audio",
         "marker": {
          "color": "red",
          "opacity": 0.5,
          "size": 8,
          "symbol": "circle"
         },
         "mode": "markers",
         "name": "",
         "type": "scatter",
         "x": {
          "bdata": "psQNjXOf5T8=",
          "dtype": "f8"
         },
         "y": {
          "bdata": "v7T8XUgKw78=",
          "dtype": "f8"
         }
        },
        {
         "hovertemplate": "Video: all_the_best_moments_are_better_with_pepsi.mp4<br>Segment: 9</br>Embedding type: audio",
         "marker": {
          "color": "red",
          "opacity": 0.5,
          "size": 8,
          "symbol": "circle"
         },
         "mode": "markers",
         "name": "",
         "type": "scatter",
         "x": {
          "bdata": "8e6dqk3U5T8=",
          "dtype": "f8"
         },
         "y": {
          "bdata": "EEeXYA/tgj8=",
          "dtype": "f8"
         }
        },
        {
         "hovertemplate": "Video: the_new_kid_doritos_commercial.mp4<br>Segment: 4</br>Embedding type: audio",
         "marker": {
          "color": "red",
          "opacity": 0.5,
          "size": 8,
          "symbol": "circle"
         },
         "mode": "markers",
         "name": "",
         "type": "scatter",
         "x": {
          "bdata": "6IjuKTD05T8=",
          "dtype": "f8"
         },
         "y": {
          "bdata": "ZwCFGGgtp78=",
          "dtype": "f8"
         }
        },
        {
         "hovertemplate": "Video: the_new_kid_doritos_commercial.mp4<br>Segment: 5</br>Embedding type: audio",
         "marker": {
          "color": "red",
          "opacity": 0.5,
          "size": 8,
          "symbol": "circle"
         },
         "mode": "markers",
         "name": "",
         "type": "scatter",
         "x": {
          "bdata": "yDJ/B9DC4z8=",
          "dtype": "f8"
         },
         "y": {
          "bdata": "MkcmczB3jb8=",
          "dtype": "f8"
         }
        },
        {
         "hovertemplate": "Video: winning_isn_t_for_everyone_am_i_a_bad_person_nike.mp4<br>Segment: 20</br>Embedding type: audio",
         "marker": {
          "color": "red",
          "opacity": 0.5,
          "size": 8,
          "symbol": "circle"
         },
         "mode": "markers",
         "name": "",
         "type": "scatter",
         "x": {
          "bdata": "ioI9BUB45j8=",
          "dtype": "f8"
         },
         "y": {
          "bdata": "eNnGcO1So78=",
          "dtype": "f8"
         }
        },
        {
         "hovertemplate": "Video: coca_cola_1971_hilltop_i_d_like_to_buy_the_world_a_coke.mp4<br>Segment: 13</br>Embedding type: audio",
         "marker": {
          "color": "red",
          "opacity": 0.5,
          "size": 8,
          "symbol": "circle"
         },
         "mode": "markers",
         "name": "",
         "type": "scatter",
         "x": {
          "bdata": "rGj86H015D8=",
          "dtype": "f8"
         },
         "y": {
          "bdata": "s0UHPsUCob8=",
          "dtype": "f8"
         }
        },
        {
         "hovertemplate": "Video: ed_s_heinz_ad.mp4<br>Segment: 18</br>Embedding type: audio",
         "marker": {
          "color": "red",
          "opacity": 0.5,
          "size": 8,
          "symbol": "circle"
         },
         "mode": "markers",
         "name": "",
         "type": "scatter",
         "x": {
          "bdata": "3u57yOh+5j8=",
          "dtype": "f8"
         },
         "y": {
          "bdata": "YGmkUr3amL8=",
          "dtype": "f8"
         }
        },
        {
         "hovertemplate": "Video: winning_isn_t_for_everyone_am_i_a_bad_person_nike.mp4<br>Segment: 29</br>Embedding type: audio",
         "marker": {
          "color": "red",
          "opacity": 0.5,
          "size": 8,
          "symbol": "circle"
         },
         "mode": "markers",
         "name": "",
         "type": "scatter",
         "x": {
          "bdata": "uxogrKYi5j8=",
          "dtype": "f8"
         },
         "y": {
          "bdata": "AsJsB/XLoL8=",
          "dtype": "f8"
         }
        },
        {
         "hovertemplate": "Video: turbotax_2024_beat_your_price_commercial_tax_break_up_official_tv_ad_30.mp4<br>Segment: 9</br>Embedding type: audio",
         "marker": {
          "color": "red",
          "opacity": 0.5,
          "size": 8,
          "symbol": "circle"
         },
         "mode": "markers",
         "name": "",
         "type": "scatter",
         "x": {
          "bdata": "EJJ94PBi5D8=",
          "dtype": "f8"
         },
         "y": {
          "bdata": "qkB0PnJ8tz8=",
          "dtype": "f8"
         }
        },
        {
         "hovertemplate": "Video: state_farm_commercial_arnold_schwarzenegger_super_bowl_commercial_2024_best_commercials.mp4<br>Segment: 19</br>Embedding type: audio",
         "marker": {
          "color": "red",
          "opacity": 0.5,
          "size": 8,
          "symbol": "circle"
         },
         "mode": "markers",
         "name": "",
         "type": "scatter",
         "x": {
          "bdata": "t218wgGt5D8=",
          "dtype": "f8"
         },
         "y": {
          "bdata": "Pr2CWBDFnT8=",
          "dtype": "f8"
         }
        },
        {
         "hovertemplate": "Video: anti_smoking_commercial_french.mp4<br>Segment: 22</br>Embedding type: audio",
         "marker": {
          "color": "red",
          "opacity": 0.5,
          "size": 8,
          "symbol": "circle"
         },
         "mode": "markers",
         "name": "",
         "type": "scatter",
         "x": {
          "bdata": "F7b7JjJ44z8=",
          "dtype": "f8"
         },
         "y": {
          "bdata": "NUVsSM9aoT8=",
          "dtype": "f8"
         }
        },
        {
         "hovertemplate": "Video: william_levy_m_m_s_commercial_in_spanish_with_english_subtitles.mp4<br>Segment: 8</br>Embedding type: audio",
         "marker": {
          "color": "red",
          "opacity": 0.5,
          "size": 8,
          "symbol": "circle"
         },
         "mode": "markers",
         "name": "",
         "type": "scatter",
         "x": {
          "bdata": "SNvOdO3F5T8=",
          "dtype": "f8"
         },
         "y": {
          "bdata": "SAEpOkWHuL8=",
          "dtype": "f8"
         }
        },
        {
         "hovertemplate": "Video: fevicol_jija_saala_ad_no_chindichori_hindi.mp4<br>Segment: 11</br>Embedding type: audio",
         "marker": {
          "color": "red",
          "opacity": 0.5,
          "size": 8,
          "symbol": "circle"
         },
         "mode": "markers",
         "name": "",
         "type": "scatter",
         "x": {
          "bdata": "AgVC9coF5z8=",
          "dtype": "f8"
         },
         "y": {
          "bdata": "YTGWlByriD8=",
          "dtype": "f8"
         }
        },
        {
         "hovertemplate": "Video: coca_cola_super_bowl_50_commercial_hulk_vs_ant_man_vs_coke_mini.mp4<br>Segment: 19</br>Embedding type: audio",
         "marker": {
          "color": "red",
          "opacity": 0.5,
          "size": 8,
          "symbol": "circle"
         },
         "mode": "markers",
         "name": "",
         "type": "scatter",
         "x": {
          "bdata": "b2ShcIoC5T8=",
          "dtype": "f8"
         },
         "y": {
          "bdata": "oq6wgyhMnD8=",
          "dtype": "f8"
         }
        },
        {
         "hovertemplate": "Video: anti_smoking_commercial_french.mp4<br>Segment: 15</br>Embedding type: audio",
         "marker": {
          "color": "red",
          "opacity": 0.5,
          "size": 8,
          "symbol": "circle"
         },
         "mode": "markers",
         "name": "",
         "type": "scatter",
         "x": {
          "bdata": "5EvyBVrP4z8=",
          "dtype": "f8"
         },
         "y": {
          "bdata": "qasSasA4XD8=",
          "dtype": "f8"
         }
        },
        {
         "hovertemplate": "Video: in_e_l_f_we_trust_e_l_f_cosmetics_game_day_commercial_202.mp4<br>Segment: 19</br>Embedding type: audio",
         "marker": {
          "color": "red",
          "opacity": 0.5,
          "size": 8,
          "symbol": "circle"
         },
         "mode": "markers",
         "name": "",
         "type": "scatter",
         "x": {
          "bdata": "5pVlQHpt5D8=",
          "dtype": "f8"
         },
         "y": {
          "bdata": "4LJOtplviL8=",
          "dtype": "f8"
         }
        },
        {
         "hovertemplate": "Video: 2025_bud_light_super_bowl_commercial_big_men_on_cul_de_sac_easy_to_drink_easy_to_enjoy_60.mp4<br>Segment: 14</br>Embedding type: audio",
         "marker": {
          "color": "red",
          "opacity": 0.5,
          "size": 8,
          "symbol": "circle"
         },
         "mode": "markers",
         "name": "",
         "type": "scatter",
         "x": {
          "bdata": "LQL4bVuB5j8=",
          "dtype": "f8"
         },
         "y": {
          "bdata": "piOmPmQOqD8=",
          "dtype": "f8"
         }
        },
        {
         "hovertemplate": "Video: flex_tape_commercial_2017_phil_swift.mp4<br>Segment: 29</br>Embedding type: audio",
         "marker": {
          "color": "red",
          "opacity": 0.5,
          "size": 8,
          "symbol": "circle"
         },
         "mode": "markers",
         "name": "",
         "type": "scatter",
         "x": {
          "bdata": "Y0mkMJqL5j8=",
          "dtype": "f8"
         },
         "y": {
          "bdata": "iPDeKYY5xD8=",
          "dtype": "f8"
         }
        },
        {
         "hovertemplate": "Video: winning_isn_t_for_everyone_am_i_a_bad_person_nike.mp4<br>Segment: 17</br>Embedding type: audio",
         "marker": {
          "color": "red",
          "opacity": 0.5,
          "size": 8,
          "symbol": "circle"
         },
         "mode": "markers",
         "name": "",
         "type": "scatter",
         "x": {
          "bdata": "9NcXvGMm5j8=",
          "dtype": "f8"
         },
         "y": {
          "bdata": "DPtWq3gUtb8=",
          "dtype": "f8"
         }
        },
        {
         "hovertemplate": "Video: state_farm_commercial_arnold_schwarzenegger_super_bowl_commercial_2024_best_commercials.mp4<br>Segment: 24</br>Embedding type: audio",
         "marker": {
          "color": "red",
          "opacity": 0.5,
          "size": 8,
          "symbol": "circle"
         },
         "mode": "markers",
         "name": "",
         "type": "scatter",
         "x": {
          "bdata": "6+YgPsBt5D8=",
          "dtype": "f8"
         },
         "y": {
          "bdata": "yxNKXj2lcb8=",
          "dtype": "f8"
         }
        },
        {
         "hovertemplate": "Video: state_farm_commercial_arnold_schwarzenegger_super_bowl_commercial_2024_best_commercials.mp4<br>Segment: 22</br>Embedding type: audio",
         "marker": {
          "color": "red",
          "opacity": 0.5,
          "size": 8,
          "symbol": "circle"
         },
         "mode": "markers",
         "name": "",
         "type": "scatter",
         "x": {
          "bdata": "FT+fmQpn5j8=",
          "dtype": "f8"
         },
         "y": {
          "bdata": "1SEbPVx1l78=",
          "dtype": "f8"
         }
        },
        {
         "hovertemplate": "Video: flex_tape_commercial_2017_phil_swift.mp4<br>Segment: 23</br>Embedding type: audio",
         "marker": {
          "color": "red",
          "opacity": 0.5,
          "size": 8,
          "symbol": "circle"
         },
         "mode": "markers",
         "name": "",
         "type": "scatter",
         "x": {
          "bdata": "3porM08j5j8=",
          "dtype": "f8"
         },
         "y": {
          "bdata": "0TiAXUHdyD8=",
          "dtype": "f8"
         }
        },
        {
         "hovertemplate": "Video: little_caesars_best_thing_since_sliced_bread_2020_super_bowl_commercial.mp4<br>Segment: 19</br>Embedding type: audio",
         "marker": {
          "color": "red",
          "opacity": 0.5,
          "size": 8,
          "symbol": "circle"
         },
         "mode": "markers",
         "name": "",
         "type": "scatter",
         "x": {
          "bdata": "V8Tx3m7M5D8=",
          "dtype": "f8"
         },
         "y": {
          "bdata": "Mqj7cIXjoT8=",
          "dtype": "f8"
         }
        },
        {
         "hovertemplate": "Video: 2025_bud_light_super_bowl_commercial_big_men_on_cul_de_sac_easy_to_drink_easy_to_enjoy_60.mp4<br>Segment: 19</br>Embedding type: audio",
         "marker": {
          "color": "red",
          "opacity": 0.5,
          "size": 8,
          "symbol": "circle"
         },
         "mode": "markers",
         "name": "",
         "type": "scatter",
         "x": {
          "bdata": "MMG9wr/b4z8=",
          "dtype": "f8"
         },
         "y": {
          "bdata": "/Hd5Qijssj8=",
          "dtype": "f8"
         }
        },
        {
         "hovertemplate": "Video: new_maggi_range_choose_india_s_most_loved_taste_hindi.mp4<br>Segment: 6</br>Embedding type: audio",
         "marker": {
          "color": "red",
          "opacity": 0.5,
          "size": 8,
          "symbol": "circle"
         },
         "mode": "markers",
         "name": "",
         "type": "scatter",
         "x": {
          "bdata": "dXbSh2VT5D8=",
          "dtype": "f8"
         },
         "y": {
          "bdata": "mXMn8jFAi78=",
          "dtype": "f8"
         }
        },
        {
         "hovertemplate": "Video: little_caesars_best_thing_since_sliced_bread_2020_super_bowl_commercial.mp4<br>Segment: 14</br>Embedding type: audio",
         "marker": {
          "color": "red",
          "opacity": 0.5,
          "size": 8,
          "symbol": "circle"
         },
         "mode": "markers",
         "name": "",
         "type": "scatter",
         "x": {
          "bdata": "qLl2z4fQ5T8=",
          "dtype": "f8"
         },
         "y": {
          "bdata": "qfYQeD2gjr8=",
          "dtype": "f8"
         }
        },
        {
         "hovertemplate": "Video: winning_isn_t_for_everyone_am_i_a_bad_person_nike.mp4<br>Segment: 24</br>Embedding type: audio",
         "marker": {
          "color": "red",
          "opacity": 0.5,
          "size": 8,
          "symbol": "circle"
         },
         "mode": "markers",
         "name": "",
         "type": "scatter",
         "x": {
          "bdata": "01cTfZ3A5D8=",
          "dtype": "f8"
         },
         "y": {
          "bdata": "oVtEcFnYqb8=",
          "dtype": "f8"
         }
        },
        {
         "hovertemplate": "Video: temu_s_big_game_ad_encore_tv_commercial_202.mp4<br>Segment: 6</br>Embedding type: audio",
         "marker": {
          "color": "red",
          "opacity": 0.5,
          "size": 8,
          "symbol": "circle"
         },
         "mode": "markers",
         "name": "",
         "type": "scatter",
         "x": {
          "bdata": "8nszepgS5j8=",
          "dtype": "f8"
         },
         "y": {
          "bdata": "3mzOVLNpjL8=",
          "dtype": "f8"
         }
        },
        {
         "hovertemplate": "Video: taco_bell_2025_big_game_teaser_photobomb_feat_doja_cat.mp4<br>Segment: 4</br>Embedding type: audio",
         "marker": {
          "color": "red",
          "opacity": 0.5,
          "size": 8,
          "symbol": "circle"
         },
         "mode": "markers",
         "name": "",
         "type": "scatter",
         "x": {
          "bdata": "Lz2AzHlv4j8=",
          "dtype": "f8"
         },
         "y": {
          "bdata": "DvJqpe2AZz8=",
          "dtype": "f8"
         }
        },
        {
         "hovertemplate": "Video: all_the_best_moments_are_better_with_pepsi.mp4<br>Segment: 5</br>Embedding type: audio",
         "marker": {
          "color": "red",
          "opacity": 0.5,
          "size": 8,
          "symbol": "circle"
         },
         "mode": "markers",
         "name": "",
         "type": "scatter",
         "x": {
          "bdata": "W3HZXHo95j8=",
          "dtype": "f8"
         },
         "y": {
          "bdata": "XSWucpwSiD8=",
          "dtype": "f8"
         }
        },
        {
         "hovertemplate": "Video: nike_dream_crazier_justdoit.mp4<br>Segment: 20</br>Embedding type: audio",
         "marker": {
          "color": "red",
          "opacity": 0.5,
          "size": 8,
          "symbol": "circle"
         },
         "mode": "markers",
         "name": "",
         "type": "scatter",
         "x": {
          "bdata": "QVHEj2KE5D8=",
          "dtype": "f8"
         },
         "y": {
          "bdata": "2a8qGZAJsL8=",
          "dtype": "f8"
         }
        },
        {
         "hovertemplate": "Video: when_sally_met_hellmann_s_30_super_bowl_commercial_2025.mp4<br>Segment: 5</br>Embedding type: audio",
         "marker": {
          "color": "red",
          "opacity": 0.5,
          "size": 8,
          "symbol": "circle"
         },
         "mode": "markers",
         "name": "",
         "type": "scatter",
         "x": {
          "bdata": "VO63JRvA5T8=",
          "dtype": "f8"
         },
         "y": {
          "bdata": "Nri/C3ZDsL8=",
          "dtype": "f8"
         }
        },
        {
         "hovertemplate": "Video: weathertech_big_game_commercial_2025_whatever_comes_your_way_60_seconds.mp4<br>Segment: 17</br>Embedding type: audio",
         "marker": {
          "color": "red",
          "opacity": 0.5,
          "size": 8,
          "symbol": "circle"
         },
         "mode": "markers",
         "name": "",
         "type": "scatter",
         "x": {
          "bdata": "7B+1rtug5D8=",
          "dtype": "f8"
         },
         "y": {
          "bdata": "AWLlFxQFuT8=",
          "dtype": "f8"
         }
        },
        {
         "hovertemplate": "Video: winning_isn_t_for_everyone_am_i_a_bad_person_nike.mp4<br>Segment: 19</br>Embedding type: audio",
         "marker": {
          "color": "red",
          "opacity": 0.5,
          "size": 8,
          "symbol": "circle"
         },
         "mode": "markers",
         "name": "",
         "type": "scatter",
         "x": {
          "bdata": "M1ooqD3b5D8=",
          "dtype": "f8"
         },
         "y": {
          "bdata": "hhZaRKx0wL8=",
          "dtype": "f8"
         }
        },
        {
         "hovertemplate": "Video: new_maggi_range_choose_india_s_most_loved_taste_hindi.mp4<br>Segment: 5</br>Embedding type: audio",
         "marker": {
          "color": "red",
          "opacity": 0.5,
          "size": 8,
          "symbol": "circle"
         },
         "mode": "markers",
         "name": "",
         "type": "scatter",
         "x": {
          "bdata": "E86rVvml5D8=",
          "dtype": "f8"
         },
         "y": {
          "bdata": "HgyWjYmtsL8=",
          "dtype": "f8"
         }
        },
        {
         "hovertemplate": "Video: reacher_breaks_the_bullies_reacher_s03e03_amazon_prime_videos.mp4<br>Segment: 26</br>Embedding type: audio",
         "marker": {
          "color": "red",
          "opacity": 0.5,
          "size": 8,
          "symbol": "circle"
         },
         "mode": "markers",
         "name": "",
         "type": "scatter",
         "x": {
          "bdata": "8AA2Sv7W4j8=",
          "dtype": "f8"
         },
         "y": {
          "bdata": "oxG4KKd8sb8=",
          "dtype": "f8"
         }
        },
        {
         "hovertemplate": "Video: fevicol_jija_saala_ad_no_chindichori_hindi.mp4<br>Segment: 7</br>Embedding type: audio",
         "marker": {
          "color": "red",
          "opacity": 0.5,
          "size": 8,
          "symbol": "circle"
         },
         "mode": "markers",
         "name": "",
         "type": "scatter",
         "x": {
          "bdata": "zzWkILRI5D8=",
          "dtype": "f8"
         },
         "y": {
          "bdata": "i+E9nqHzpL8=",
          "dtype": "f8"
         }
        },
        {
         "hovertemplate": "Video: new_maggi_range_choose_india_s_most_loved_taste_hindi.mp4<br>Segment: 7</br>Embedding type: audio",
         "marker": {
          "color": "red",
          "opacity": 0.5,
          "size": 8,
          "symbol": "circle"
         },
         "mode": "markers",
         "name": "",
         "type": "scatter",
         "x": {
          "bdata": "N1HfaNGB4z8=",
          "dtype": "f8"
         },
         "y": {
          "bdata": "Zg8s67fspb8=",
          "dtype": "f8"
         }
        },
        {
         "hovertemplate": "Video: anti_smoking_commercial_french.mp4<br>Segment: 13</br>Embedding type: audio",
         "marker": {
          "color": "red",
          "opacity": 0.5,
          "size": 8,
          "symbol": "circle"
         },
         "mode": "markers",
         "name": "",
         "type": "scatter",
         "x": {
          "bdata": "9oJ9nvGy5D8=",
          "dtype": "f8"
         },
         "y": {
          "bdata": "1KYw5Djtoz8=",
          "dtype": "f8"
         }
        },
        {
         "hovertemplate": "Video: flex_tape_commercial_2017_phil_swift.mp4<br>Segment: 28</br>Embedding type: audio",
         "marker": {
          "color": "red",
          "opacity": 0.5,
          "size": 8,
          "symbol": "circle"
         },
         "mode": "markers",
         "name": "",
         "type": "scatter",
         "x": {
          "bdata": "vwMUKsnf5T8=",
          "dtype": "f8"
         },
         "y": {
          "bdata": "7VMINqLKyD8=",
          "dtype": "f8"
         }
        },
        {
         "hovertemplate": "Video: coca_cola_super_bowl_50_commercial_hulk_vs_ant_man_vs_coke_mini.mp4<br>Segment: 17</br>Embedding type: audio",
         "marker": {
          "color": "red",
          "opacity": 0.5,
          "size": 8,
          "symbol": "circle"
         },
         "mode": "markers",
         "name": "",
         "type": "scatter",
         "x": {
          "bdata": "IUV0T3Vc5j8=",
          "dtype": "f8"
         },
         "y": {
          "bdata": "nFaw4w7omr8=",
          "dtype": "f8"
         }
        },
        {
         "hovertemplate": "Video: in_e_l_f_we_trust_e_l_f_cosmetics_game_day_commercial_202.mp4<br>Segment: 10</br>Embedding type: audio",
         "marker": {
          "color": "red",
          "opacity": 0.5,
          "size": 8,
          "symbol": "circle"
         },
         "mode": "markers",
         "name": "",
         "type": "scatter",
         "x": {
          "bdata": "Dvbaat984z8=",
          "dtype": "f8"
         },
         "y": {
          "bdata": "y2cAj/DYhz8=",
          "dtype": "f8"
         }
        },
        {
         "hovertemplate": "Video: coca_cola_1971_hilltop_i_d_like_to_buy_the_world_a_coke.mp4<br>Segment: 7</br>Embedding type: audio",
         "marker": {
          "color": "red",
          "opacity": 0.5,
          "size": 8,
          "symbol": "circle"
         },
         "mode": "markers",
         "name": "",
         "type": "scatter",
         "x": {
          "bdata": "YULjdy7N4z8=",
          "dtype": "f8"
         },
         "y": {
          "bdata": "3s7+1YvVpj8=",
          "dtype": "f8"
         }
        },
        {
         "hovertemplate": "Video: in_e_l_f_we_trust_e_l_f_cosmetics_game_day_commercial_202.mp4<br>Segment: 13</br>Embedding type: audio",
         "marker": {
          "color": "red",
          "opacity": 0.5,
          "size": 8,
          "symbol": "circle"
         },
         "mode": "markers",
         "name": "",
         "type": "scatter",
         "x": {
          "bdata": "T7J4Wea05j8=",
          "dtype": "f8"
         },
         "y": {
          "bdata": "um1e7u+pmr8=",
          "dtype": "f8"
         }
        },
        {
         "hovertemplate": "Video: hyundai_commercial_conquer_the_weekend_vikings_the_all_new_2024_santa_fe_best_commercials.mp4<br>Segment: 18</br>Embedding type: audio",
         "marker": {
          "color": "red",
          "opacity": 0.5,
          "size": 8,
          "symbol": "circle"
         },
         "mode": "markers",
         "name": "",
         "type": "scatter",
         "x": {
          "bdata": "PLu74eEF5D8=",
          "dtype": "f8"
         },
         "y": {
          "bdata": "PPnvrzPtar8=",
          "dtype": "f8"
         }
        },
        {
         "hovertemplate": "Video: reacher_breaks_the_bullies_reacher_s03e03_amazon_prime_videos.mp4<br>Segment: 24</br>Embedding type: audio",
         "marker": {
          "color": "red",
          "opacity": 0.5,
          "size": 8,
          "symbol": "circle"
         },
         "mode": "markers",
         "name": "",
         "type": "scatter",
         "x": {
          "bdata": "DckaLbs75T8=",
          "dtype": "f8"
         },
         "y": {
          "bdata": "xCLjBDGosT8=",
          "dtype": "f8"
         }
        },
        {
         "hovertemplate": "Video: turbotax_2024_beat_your_price_commercial_tax_break_up_official_tv_ad_30.mp4<br>Segment: 6</br>Embedding type: audio",
         "marker": {
          "color": "red",
          "opacity": 0.5,
          "size": 8,
          "symbol": "circle"
         },
         "mode": "markers",
         "name": "",
         "type": "scatter",
         "x": {
          "bdata": "YpxESQTN4j8=",
          "dtype": "f8"
         },
         "y": {
          "bdata": "VFufwdGHqD8=",
          "dtype": "f8"
         }
        },
        {
         "hovertemplate": "Video: reacher_breaks_the_bullies_reacher_s03e03_amazon_prime_videos.mp4<br>Segment: 25</br>Embedding type: audio",
         "marker": {
          "color": "red",
          "opacity": 0.5,
          "size": 8,
          "symbol": "circle"
         },
         "mode": "markers",
         "name": "",
         "type": "scatter",
         "x": {
          "bdata": "4auNyJg75D8=",
          "dtype": "f8"
         },
         "y": {
          "bdata": "YBK8wXpIp78=",
          "dtype": "f8"
         }
        },
        {
         "hovertemplate": "Video: all_the_best_moments_are_better_with_pepsi.mp4<br>Segment: 6</br>Embedding type: audio",
         "marker": {
          "color": "red",
          "opacity": 0.5,
          "size": 8,
          "symbol": "circle"
         },
         "mode": "markers",
         "name": "",
         "type": "scatter",
         "x": {
          "bdata": "skkzbj9r5T8=",
          "dtype": "f8"
         },
         "y": {
          "bdata": "6Jc4TUH2oD8=",
          "dtype": "f8"
         }
        },
        {
         "hovertemplate": "Video: golf_limu_emu_doug_liberty_mutual_insurance_commercial.mp4<br>Segment: 4</br>Embedding type: audio",
         "marker": {
          "color": "red",
          "opacity": 0.5,
          "size": 8,
          "symbol": "circle"
         },
         "mode": "markers",
         "name": "",
         "type": "scatter",
         "x": {
          "bdata": "LXqimfgL5T8=",
          "dtype": "f8"
         },
         "y": {
          "bdata": "/fXlWM3vhj8=",
          "dtype": "f8"
         }
        },
        {
         "hovertemplate": "Video: nike_dream_crazier_justdoit.mp4<br>Segment: 21</br>Embedding type: audio",
         "marker": {
          "color": "red",
          "opacity": 0.5,
          "size": 8,
          "symbol": "circle"
         },
         "mode": "markers",
         "name": "",
         "type": "scatter",
         "x": {
          "bdata": "mRLMsrwi4z8=",
          "dtype": "f8"
         },
         "y": {
          "bdata": "9UY9Z1nGq78=",
          "dtype": "f8"
         }
        },
        {
         "hovertemplate": "Video: taco_bell_2025_big_game_teaser_photobomb_feat_doja_cat.mp4<br>Segment: 6</br>Embedding type: audio",
         "marker": {
          "color": "red",
          "opacity": 0.5,
          "size": 8,
          "symbol": "circle"
         },
         "mode": "markers",
         "name": "",
         "type": "scatter",
         "x": {
          "bdata": "8izbJ6NA5D8=",
          "dtype": "f8"
         },
         "y": {
          "bdata": "WGj/9TnTpb8=",
          "dtype": "f8"
         }
        },
        {
         "hovertemplate": "Video: 2025_bud_light_super_bowl_commercial_big_men_on_cul_de_sac_easy_to_drink_easy_to_enjoy_60.mp4<br>Segment: 13</br>Embedding type: audio",
         "marker": {
          "color": "red",
          "opacity": 0.5,
          "size": 8,
          "symbol": "circle"
         },
         "mode": "markers",
         "name": "",
         "type": "scatter",
         "x": {
          "bdata": "opylWfDH4z8=",
          "dtype": "f8"
         },
         "y": {
          "bdata": "EUC13zH3sT8=",
          "dtype": "f8"
         }
        },
        {
         "hovertemplate": "Video: temu_s_big_game_ad_encore_tv_commercial_202.mp4<br>Segment: 7</br>Embedding type: audio",
         "marker": {
          "color": "red",
          "opacity": 0.5,
          "size": 8,
          "symbol": "circle"
         },
         "mode": "markers",
         "name": "",
         "type": "scatter",
         "x": {
          "bdata": "8PGKgCIs5T8=",
          "dtype": "f8"
         },
         "y": {
          "bdata": "pIyIxe4ikj8=",
          "dtype": "f8"
         }
        },
        {
         "hovertemplate": "Video: state_farm_commercial_arnold_schwarzenegger_super_bowl_commercial_2024_best_commercials.mp4<br>Segment: 21</br>Embedding type: audio",
         "marker": {
          "color": "red",
          "opacity": 0.5,
          "size": 8,
          "symbol": "circle"
         },
         "mode": "markers",
         "name": "",
         "type": "scatter",
         "x": {
          "bdata": "07Kz1Dcx5j8=",
          "dtype": "f8"
         },
         "y": {
          "bdata": "RbDOkc1Fkj8=",
          "dtype": "f8"
         }
        },
        {
         "hovertemplate": "Video: little_caesars_best_thing_since_sliced_bread_2020_super_bowl_commercial.mp4<br>Segment: 16</br>Embedding type: audio",
         "marker": {
          "color": "red",
          "opacity": 0.5,
          "size": 8,
          "symbol": "circle"
         },
         "mode": "markers",
         "name": "",
         "type": "scatter",
         "x": {
          "bdata": "//rjhdwb5T8=",
          "dtype": "f8"
         },
         "y": {
          "bdata": "Oy/GFApFob8=",
          "dtype": "f8"
         }
        },
        {
         "hovertemplate": "Video: coca_cola_1971_hilltop_i_d_like_to_buy_the_world_a_coke.mp4<br>Segment: 9</br>Embedding type: audio",
         "marker": {
          "color": "red",
          "opacity": 0.5,
          "size": 8,
          "symbol": "circle"
         },
         "mode": "markers",
         "name": "",
         "type": "scatter",
         "x": {
          "bdata": "R3T3ymWf5D8=",
          "dtype": "f8"
         },
         "y": {
          "bdata": "SKo15eW8mb8=",
          "dtype": "f8"
         }
        },
        {
         "hovertemplate": "Video: 2025_bud_light_super_bowl_commercial_big_men_on_cul_de_sac_easy_to_drink_easy_to_enjoy_60.mp4<br>Segment: 15</br>Embedding type: audio",
         "marker": {
          "color": "red",
          "opacity": 0.5,
          "size": 8,
          "symbol": "circle"
         },
         "mode": "markers",
         "name": "",
         "type": "scatter",
         "x": {
          "bdata": "Oh6Rd0Rk5D8=",
          "dtype": "f8"
         },
         "y": {
          "bdata": "Ez5nJ65ppz8=",
          "dtype": "f8"
         }
        },
        {
         "hovertemplate": "Video: fevicol_jija_saala_ad_no_chindichori_hindi.mp4<br>Segment: 8</br>Embedding type: audio",
         "marker": {
          "color": "red",
          "opacity": 0.5,
          "size": 8,
          "symbol": "circle"
         },
         "mode": "markers",
         "name": "",
         "type": "scatter",
         "x": {
          "bdata": "COSIt1MW5j8=",
          "dtype": "f8"
         },
         "y": {
          "bdata": "wlwnjs8yYr8=",
          "dtype": "f8"
         }
        },
        {
         "hovertemplate": "Video: ihop_commercial_spanish.mp4<br>Segment: 5</br>Embedding type: audio",
         "marker": {
          "color": "red",
          "opacity": 0.5,
          "size": 8,
          "symbol": "circle"
         },
         "mode": "markers",
         "name": "",
         "type": "scatter",
         "x": {
          "bdata": "K98i67N65D8=",
          "dtype": "f8"
         },
         "y": {
          "bdata": "ToLPbycdoT8=",
          "dtype": "f8"
         }
        },
        {
         "hovertemplate": "Video: soda_thoughts_i_poppi_super_bowl_lix_2025_commercial.mp4<br>Segment: 17</br>Embedding type: audio",
         "marker": {
          "color": "red",
          "opacity": 0.5,
          "size": 8,
          "symbol": "circle"
         },
         "mode": "markers",
         "name": "",
         "type": "scatter",
         "x": {
          "bdata": "rLEqficR5T8=",
          "dtype": "f8"
         },
         "y": {
          "bdata": "4Th2Qinppr8=",
          "dtype": "f8"
         }
        },
        {
         "hovertemplate": "Video: coca_cola_super_bowl_50_commercial_hulk_vs_ant_man_vs_coke_mini.mp4<br>Segment: 13</br>Embedding type: audio",
         "marker": {
          "color": "red",
          "opacity": 0.5,
          "size": 8,
          "symbol": "circle"
         },
         "mode": "markers",
         "name": "",
         "type": "scatter",
         "x": {
          "bdata": "xitLArJz5j8=",
          "dtype": "f8"
         },
         "y": {
          "bdata": "Z0vMWLXYbj8=",
          "dtype": "f8"
         }
        },
        {
         "hovertemplate": "Video: 2025_bud_light_super_bowl_commercial_big_men_on_cul_de_sac_easy_to_drink_easy_to_enjoy_60.mp4<br>Segment: 16</br>Embedding type: audio",
         "marker": {
          "color": "red",
          "opacity": 0.5,
          "size": 8,
          "symbol": "circle"
         },
         "mode": "markers",
         "name": "",
         "type": "scatter",
         "x": {
          "bdata": "VmcawAMW4j8=",
          "dtype": "f8"
         },
         "y": {
          "bdata": "S0vl7sd3uT8=",
          "dtype": "f8"
         }
        },
        {
         "hovertemplate": "Video: flex_tape_commercial_2017_phil_swift.mp4<br>Segment: 18</br>Embedding type: audio",
         "marker": {
          "color": "red",
          "opacity": 0.5,
          "size": 8,
          "symbol": "circle"
         },
         "mode": "markers",
         "name": "",
         "type": "scatter",
         "x": {
          "bdata": "/xJCZLXx5T8=",
          "dtype": "f8"
         },
         "y": {
          "bdata": "jMX2VyEdyj8=",
          "dtype": "f8"
         }
        },
        {
         "hovertemplate": "Video: in_e_l_f_we_trust_e_l_f_cosmetics_game_day_commercial_202.mp4<br>Segment: 17</br>Embedding type: audio",
         "marker": {
          "color": "red",
          "opacity": 0.5,
          "size": 8,
          "symbol": "circle"
         },
         "mode": "markers",
         "name": "",
         "type": "scatter",
         "x": {
          "bdata": "WGg1LFOO5j8=",
          "dtype": "f8"
         },
         "y": {
          "bdata": "0cTon87qrL8=",
          "dtype": "f8"
         }
        },
        {
         "hovertemplate": "Video: 2025_bud_light_super_bowl_commercial_big_men_on_cul_de_sac_easy_to_drink_easy_to_enjoy_60.mp4<br>Segment: 10</br>Embedding type: audio",
         "marker": {
          "color": "red",
          "opacity": 0.5,
          "size": 8,
          "symbol": "circle"
         },
         "mode": "markers",
         "name": "",
         "type": "scatter",
         "x": {
          "bdata": "m4AJrZFz4z8=",
          "dtype": "f8"
         },
         "y": {
          "bdata": "H+dU1JburD8=",
          "dtype": "f8"
         }
        },
        {
         "hovertemplate": "Video: william_levy_m_m_s_commercial_in_spanish_with_english_subtitles.mp4<br>Segment: 6</br>Embedding type: audio",
         "marker": {
          "color": "red",
          "opacity": 0.5,
          "size": 8,
          "symbol": "circle"
         },
         "mode": "markers",
         "name": "",
         "type": "scatter",
         "x": {
          "bdata": "DDS7H+WV4D8=",
          "dtype": "f8"
         },
         "y": {
          "bdata": "h3rAEYSwqb8=",
          "dtype": "f8"
         }
        },
        {
         "hovertemplate": "Video: soda_thoughts_i_poppi_super_bowl_lix_2025_commercial.mp4<br>Segment: 18</br>Embedding type: audio",
         "marker": {
          "color": "red",
          "opacity": 0.5,
          "size": 8,
          "symbol": "circle"
         },
         "mode": "markers",
         "name": "",
         "type": "scatter",
         "x": {
          "bdata": "pvlQ72+y5D8=",
          "dtype": "f8"
         },
         "y": {
          "bdata": "RG4/lrhtur8=",
          "dtype": "f8"
         }
        },
        {
         "hovertemplate": "Video: reacher_breaks_the_bullies_reacher_s03e03_amazon_prime_videos.mp4<br>Segment: 20</br>Embedding type: audio",
         "marker": {
          "color": "red",
          "opacity": 0.5,
          "size": 8,
          "symbol": "circle"
         },
         "mode": "markers",
         "name": "",
         "type": "scatter",
         "x": {
          "bdata": "ntcEvFGG5D8=",
          "dtype": "f8"
         },
         "y": {
          "bdata": "7FnQmdWksT8=",
          "dtype": "f8"
         }
        },
        {
         "hovertemplate": "Video: taco_bell_2025_big_game_teaser_photobomb_feat_doja_cat.mp4<br>Segment: 5</br>Embedding type: audio",
         "marker": {
          "color": "red",
          "opacity": 0.5,
          "size": 8,
          "symbol": "circle"
         },
         "mode": "markers",
         "name": "",
         "type": "scatter",
         "x": {
          "bdata": "zAHsCYSY4j8=",
          "dtype": "f8"
         },
         "y": {
          "bdata": "Btv2IEUDpr8=",
          "dtype": "f8"
         }
        },
        {
         "hovertemplate": "Video: soda_thoughts_i_poppi_super_bowl_lix_2025_commercial.mp4<br>Segment: 13</br>Embedding type: audio",
         "marker": {
          "color": "red",
          "opacity": 0.5,
          "size": 8,
          "symbol": "circle"
         },
         "mode": "markers",
         "name": "",
         "type": "scatter",
         "x": {
          "bdata": "WxZgaMci5D8=",
          "dtype": "f8"
         },
         "y": {
          "bdata": "55b6h1m2jb8=",
          "dtype": "f8"
         }
        },
        {
         "hovertemplate": "Video: ed_s_heinz_ad.mp4<br>Segment: 12</br>Embedding type: audio",
         "marker": {
          "color": "red",
          "opacity": 0.5,
          "size": 8,
          "symbol": "circle"
         },
         "mode": "markers",
         "name": "",
         "type": "scatter",
         "x": {
          "bdata": "X1V3cObW5D8=",
          "dtype": "f8"
         },
         "y": {
          "bdata": "xJS5pUXaqz8=",
          "dtype": "f8"
         }
        },
        {
         "hovertemplate": "Video: flex_tape_commercial_2017_phil_swift.mp4<br>Segment: 25</br>Embedding type: audio",
         "marker": {
          "color": "red",
          "opacity": 0.5,
          "size": 8,
          "symbol": "circle"
         },
         "mode": "markers",
         "name": "",
         "type": "scatter",
         "x": {
          "bdata": "yCylN89O5T8=",
          "dtype": "f8"
         },
         "y": {
          "bdata": "Y4wHv1fbzz8=",
          "dtype": "f8"
         }
        },
        {
         "hovertemplate": "Video: flex_tape_commercial_2017_phil_swift.mp4<br>Segment: 21</br>Embedding type: audio",
         "marker": {
          "color": "red",
          "opacity": 0.5,
          "size": 8,
          "symbol": "circle"
         },
         "mode": "markers",
         "name": "",
         "type": "scatter",
         "x": {
          "bdata": "/DFZ0osX5T8=",
          "dtype": "f8"
         },
         "y": {
          "bdata": "5ep6/5Qvzz8=",
          "dtype": "f8"
         }
        },
        {
         "hovertemplate": "Video: soda_thoughts_i_poppi_super_bowl_lix_2025_commercial.mp4<br>Segment: 16</br>Embedding type: audio",
         "marker": {
          "color": "red",
          "opacity": 0.5,
          "size": 8,
          "symbol": "circle"
         },
         "mode": "markers",
         "name": "",
         "type": "scatter",
         "x": {
          "bdata": "RMW3K3fc4z8=",
          "dtype": "f8"
         },
         "y": {
          "bdata": "SNuxKUBOmD8=",
          "dtype": "f8"
         }
        },
        {
         "hovertemplate": "Video: 2025_bud_light_super_bowl_commercial_big_men_on_cul_de_sac_easy_to_drink_easy_to_enjoy_60.mp4<br>Segment: 17</br>Embedding type: audio",
         "marker": {
          "color": "red",
          "opacity": 0.5,
          "size": 8,
          "symbol": "circle"
         },
         "mode": "markers",
         "name": "",
         "type": "scatter",
         "x": {
          "bdata": "kF+mrnYR5D8=",
          "dtype": "f8"
         },
         "y": {
          "bdata": "rlIvqXs8xD8=",
          "dtype": "f8"
         }
        },
        {
         "hovertemplate": "Video: anti_smoking_commercial_french.mp4<br>Segment: 14</br>Embedding type: audio",
         "marker": {
          "color": "red",
          "opacity": 0.5,
          "size": 8,
          "symbol": "circle"
         },
         "mode": "markers",
         "name": "",
         "type": "scatter",
         "x": {
          "bdata": "Qlo0ChoB4z8=",
          "dtype": "f8"
         },
         "y": {
          "bdata": "3pNpbcTidD8=",
          "dtype": "f8"
         }
        },
        {
         "hovertemplate": "Video: all_the_best_moments_are_better_with_pepsi.mp4<br>Segment: 7</br>Embedding type: audio",
         "marker": {
          "color": "red",
          "opacity": 0.5,
          "size": 8,
          "symbol": "circle"
         },
         "mode": "markers",
         "name": "",
         "type": "scatter",
         "x": {
          "bdata": "WytnHImv5T8=",
          "dtype": "f8"
         },
         "y": {
          "bdata": "49Bda/Ghjz8=",
          "dtype": "f8"
         }
        },
        {
         "hovertemplate": "Video: flex_tape_commercial_2017_phil_swift.mp4<br>Segment: 26</br>Embedding type: audio",
         "marker": {
          "color": "red",
          "opacity": 0.5,
          "size": 8,
          "symbol": "circle"
         },
         "mode": "markers",
         "name": "",
         "type": "scatter",
         "x": {
          "bdata": "I+ihO+nR5D8=",
          "dtype": "f8"
         },
         "y": {
          "bdata": "yaydufxkyD8=",
          "dtype": "f8"
         }
        },
        {
         "hovertemplate": "Video: little_caesars_best_thing_since_sliced_bread_2020_super_bowl_commercial.mp4<br>Segment: 11</br>Embedding type: audio",
         "marker": {
          "color": "red",
          "opacity": 0.5,
          "size": 8,
          "symbol": "circle"
         },
         "mode": "markers",
         "name": "",
         "type": "scatter",
         "x": {
          "bdata": "VUc+VvlD4z8=",
          "dtype": "f8"
         },
         "y": {
          "bdata": "OfW04Bkfpz8=",
          "dtype": "f8"
         }
        },
        {
         "hovertemplate": "Video: anti_smoking_commercial_french.mp4<br>Segment: 17</br>Embedding type: audio",
         "marker": {
          "color": "red",
          "opacity": 0.5,
          "size": 8,
          "symbol": "circle"
         },
         "mode": "markers",
         "name": "",
         "type": "scatter",
         "x": {
          "bdata": "fXyxATd64j8=",
          "dtype": "f8"
         },
         "y": {
          "bdata": "qxGdV/5riz8=",
          "dtype": "f8"
         }
        },
        {
         "hovertemplate": "Video: ihop_commercial_spanish.mp4<br>Segment: 9</br>Embedding type: audio",
         "marker": {
          "color": "red",
          "opacity": 0.5,
          "size": 8,
          "symbol": "circle"
         },
         "mode": "markers",
         "name": "",
         "type": "scatter",
         "x": {
          "bdata": "KNvbuhvQ5T8=",
          "dtype": "f8"
         },
         "y": {
          "bdata": "pTmTF3L7mz8=",
          "dtype": "f8"
         }
        },
        {
         "hovertemplate": "Video: in_e_l_f_we_trust_e_l_f_cosmetics_game_day_commercial_202.mp4<br>Segment: 16</br>Embedding type: audio",
         "marker": {
          "color": "red",
          "opacity": 0.5,
          "size": 8,
          "symbol": "circle"
         },
         "mode": "markers",
         "name": "",
         "type": "scatter",
         "x": {
          "bdata": "dXpk8okG5j8=",
          "dtype": "f8"
         },
         "y": {
          "bdata": "Dp7CmFKDsr8=",
          "dtype": "f8"
         }
        },
        {
         "hovertemplate": "Video: ed_s_heinz_ad.mp4<br>Segment: 16</br>Embedding type: audio",
         "marker": {
          "color": "red",
          "opacity": 0.5,
          "size": 8,
          "symbol": "circle"
         },
         "mode": "markers",
         "name": "",
         "type": "scatter",
         "x": {
          "bdata": "jEo4rjLh4z8=",
          "dtype": "f8"
         },
         "y": {
          "bdata": "uxrA060Pcz8=",
          "dtype": "f8"
         }
        },
        {
         "hovertemplate": "Video: golf_limu_emu_doug_liberty_mutual_insurance_commercial.mp4<br>Segment: 6</br>Embedding type: audio",
         "marker": {
          "color": "red",
          "opacity": 0.5,
          "size": 8,
          "symbol": "circle"
         },
         "mode": "markers",
         "name": "",
         "type": "scatter",
         "x": {
          "bdata": "Fwd0sQQm5j8=",
          "dtype": "f8"
         },
         "y": {
          "bdata": "LgcMAYUCmT8=",
          "dtype": "f8"
         }
        },
        {
         "hovertemplate": "Video: william_levy_m_m_s_commercial_in_spanish_with_english_subtitles.mp4<br>Segment: 7</br>Embedding type: audio",
         "marker": {
          "color": "red",
          "opacity": 0.5,
          "size": 8,
          "symbol": "circle"
         },
         "mode": "markers",
         "name": "",
         "type": "scatter",
         "x": {
          "bdata": "lz5KvzX14j8=",
          "dtype": "f8"
         },
         "y": {
          "bdata": "6kGQzs9Zu78=",
          "dtype": "f8"
         }
        },
        {
         "hovertemplate": "Video: flex_tape_commercial_2017_phil_swift.mp4<br>Segment: 31</br>Embedding type: audio",
         "marker": {
          "color": "red",
          "opacity": 0.5,
          "size": 8,
          "symbol": "circle"
         },
         "mode": "markers",
         "name": "",
         "type": "scatter",
         "x": {
          "bdata": "ENOy7P3S5T8=",
          "dtype": "f8"
         },
         "y": {
          "bdata": "zEihWwACyT8=",
          "dtype": "f8"
         }
        },
        {
         "hovertemplate": "Video: 2025_bud_light_super_bowl_commercial_big_men_on_cul_de_sac_easy_to_drink_easy_to_enjoy_60.mp4<br>Segment: 12</br>Embedding type: audio",
         "marker": {
          "color": "red",
          "opacity": 0.5,
          "size": 8,
          "symbol": "circle"
         },
         "mode": "markers",
         "name": "",
         "type": "scatter",
         "x": {
          "bdata": "TiqhFrkD4j8=",
          "dtype": "f8"
         },
         "y": {
          "bdata": "jozcxndysj8=",
          "dtype": "f8"
         }
        },
        {
         "hovertemplate": "Video: william_levy_m_m_s_commercial_in_spanish_with_english_subtitles.mp4<br>Segment: 5</br>Embedding type: audio",
         "marker": {
          "color": "red",
          "opacity": 0.5,
          "size": 8,
          "symbol": "circle"
         },
         "mode": "markers",
         "name": "",
         "type": "scatter",
         "x": {
          "bdata": "hhKRqfOq4T8=",
          "dtype": "f8"
         },
         "y": {
          "bdata": "dFQvlgOQt78=",
          "dtype": "f8"
         }
        },
        {
         "hovertemplate": "Video: flex_tape_commercial_2017_phil_swift.mp4<br>Segment: 20</br>Embedding type: audio",
         "marker": {
          "color": "red",
          "opacity": 0.5,
          "size": 8,
          "symbol": "circle"
         },
         "mode": "markers",
         "name": "",
         "type": "scatter",
         "x": {
          "bdata": "PUCBTmtV5D8=",
          "dtype": "f8"
         },
         "y": {
          "bdata": "z8sHNElJzj8=",
          "dtype": "f8"
         }
        },
        {
         "hovertemplate": "Video: ed_s_heinz_ad.mp4<br>Segment: 13</br>Embedding type: audio",
         "marker": {
          "color": "red",
          "opacity": 0.5,
          "size": 8,
          "symbol": "circle"
         },
         "mode": "markers",
         "name": "",
         "type": "scatter",
         "x": {
          "bdata": "LHJAxbN64T8=",
          "dtype": "f8"
         },
         "y": {
          "bdata": "+jonq5nxqL8=",
          "dtype": "f8"
         }
        },
        {
         "hovertemplate": "Video: ihop_commercial_spanish.mp4<br>Segment: 7</br>Embedding type: audio",
         "marker": {
          "color": "red",
          "opacity": 0.5,
          "size": 8,
          "symbol": "circle"
         },
         "mode": "markers",
         "name": "",
         "type": "scatter",
         "x": {
          "bdata": "FVDs7n2r5D8=",
          "dtype": "f8"
         },
         "y": {
          "bdata": "kbCcCtQSfz8=",
          "dtype": "f8"
         }
        },
        {
         "hovertemplate": "Video: when_sally_met_hellmann_s_30_super_bowl_commercial_2025.mp4<br>Segment: 7</br>Embedding type: audio",
         "marker": {
          "color": "red",
          "opacity": 0.5,
          "size": 8,
          "symbol": "circle"
         },
         "mode": "markers",
         "name": "",
         "type": "scatter",
         "x": {
          "bdata": "N9mHCPBJ5D8=",
          "dtype": "f8"
         },
         "y": {
          "bdata": "8qZucZ+ksb8=",
          "dtype": "f8"
         }
        },
        {
         "hovertemplate": "Video: soda_thoughts_i_poppi_super_bowl_lix_2025_commercial.mp4<br>Segment: 19</br>Embedding type: audio",
         "marker": {
          "color": "red",
          "opacity": 0.5,
          "size": 8,
          "symbol": "circle"
         },
         "mode": "markers",
         "name": "",
         "type": "scatter",
         "x": {
          "bdata": "0HGBsuUX5D8=",
          "dtype": "f8"
         },
         "y": {
          "bdata": "nTmxlZ/onL8=",
          "dtype": "f8"
         }
        },
        {
         "hovertemplate": "Video: ed_s_heinz_ad.mp4<br>Segment: 11</br>Embedding type: audio",
         "marker": {
          "color": "red",
          "opacity": 0.5,
          "size": 8,
          "symbol": "circle"
         },
         "mode": "markers",
         "name": "",
         "type": "scatter",
         "x": {
          "bdata": "nza1WJZv5D8=",
          "dtype": "f8"
         },
         "y": {
          "bdata": "e3IGo6wKkz8=",
          "dtype": "f8"
         }
        },
        {
         "hovertemplate": "Video: flex_tape_commercial_2017_phil_swift.mp4<br>Segment: 19</br>Embedding type: audio",
         "marker": {
          "color": "red",
          "opacity": 0.5,
          "size": 8,
          "symbol": "circle"
         },
         "mode": "markers",
         "name": "",
         "type": "scatter",
         "x": {
          "bdata": "4kxLgAJM5D8=",
          "dtype": "f8"
         },
         "y": {
          "bdata": "TxEAwRNy0T8=",
          "dtype": "f8"
         }
        },
        {
         "hovertemplate": "Video: in_e_l_f_we_trust_e_l_f_cosmetics_game_day_commercial_202.mp4<br>Segment: 18</br>Embedding type: audio",
         "marker": {
          "color": "red",
          "opacity": 0.5,
          "size": 8,
          "symbol": "circle"
         },
         "mode": "markers",
         "name": "",
         "type": "scatter",
         "x": {
          "bdata": "FoJOq55i5D8=",
          "dtype": "f8"
         },
         "y": {
          "bdata": "QC5Hg/iyjj8=",
          "dtype": "f8"
         }
        },
        {
         "hovertemplate": "Video: ed_s_heinz_ad.mp4<br>Segment: 15</br>Embedding type: audio",
         "marker": {
          "color": "red",
          "opacity": 0.5,
          "size": 8,
          "symbol": "circle"
         },
         "mode": "markers",
         "name": "",
         "type": "scatter",
         "x": {
          "bdata": "F1dsO3cU5D8=",
          "dtype": "f8"
         },
         "y": {
          "bdata": "NQ2WS5fIbT8=",
          "dtype": "f8"
         }
        },
        {
         "hovertemplate": "Video: little_caesars_best_thing_since_sliced_bread_2020_super_bowl_commercial.mp4<br>Segment: 13</br>Embedding type: audio",
         "marker": {
          "color": "red",
          "opacity": 0.5,
          "size": 8,
          "symbol": "circle"
         },
         "mode": "markers",
         "name": "",
         "type": "scatter",
         "x": {
          "bdata": "6sQ61gDq4z8=",
          "dtype": "f8"
         },
         "y": {
          "bdata": "sOmDqTYhiT8=",
          "dtype": "f8"
         }
        },
        {
         "hovertemplate": "Video: when_sally_met_hellmann_s_30_super_bowl_commercial_2025.mp4<br>Segment: 8</br>Embedding type: audio",
         "marker": {
          "color": "red",
          "opacity": 0.5,
          "size": 8,
          "symbol": "circle"
         },
         "mode": "markers",
         "name": "",
         "type": "scatter",
         "x": {
          "bdata": "jgKUWl5H5D8=",
          "dtype": "f8"
         },
         "y": {
          "bdata": "zDdkmrq9tL8=",
          "dtype": "f8"
         }
        },
        {
         "hovertemplate": "Video: ed_s_heinz_ad.mp4<br>Segment: 14</br>Embedding type: audio",
         "marker": {
          "color": "red",
          "opacity": 0.5,
          "size": 8,
          "symbol": "circle"
         },
         "mode": "markers",
         "name": "",
         "type": "scatter",
         "x": {
          "bdata": "FC0UTGNg5D8=",
          "dtype": "f8"
         },
         "y": {
          "bdata": "QG0v+lXyoj8=",
          "dtype": "f8"
         }
        },
        {
         "hovertemplate": "Video: flex_tape_commercial_2017_phil_swift.mp4<br>Segment: 27</br>Embedding type: audio",
         "marker": {
          "color": "red",
          "opacity": 0.5,
          "size": 8,
          "symbol": "circle"
         },
         "mode": "markers",
         "name": "",
         "type": "scatter",
         "x": {
          "bdata": "gzBJFQjN4j8=",
          "dtype": "f8"
         },
         "y": {
          "bdata": "Wvr8XNkdxD8=",
          "dtype": "f8"
         }
        },
        {
         "hovertemplate": "Video: little_caesars_best_thing_since_sliced_bread_2020_super_bowl_commercial.mp4<br>Segment: 17</br>Embedding type: audio",
         "marker": {
          "color": "red",
          "opacity": 0.5,
          "size": 8,
          "symbol": "circle"
         },
         "mode": "markers",
         "name": "",
         "type": "scatter",
         "x": {
          "bdata": "dV07KWR74j8=",
          "dtype": "f8"
         },
         "y": {
          "bdata": "KGyD+XB+Z78=",
          "dtype": "f8"
         }
        },
        {
         "hovertemplate": "Video: in_e_l_f_we_trust_e_l_f_cosmetics_game_day_commercial_202.mp4<br>Segment: 14</br>Embedding type: audio",
         "marker": {
          "color": "red",
          "opacity": 0.5,
          "size": 8,
          "symbol": "circle"
         },
         "mode": "markers",
         "name": "",
         "type": "scatter",
         "x": {
          "bdata": "JTz03VZ94z8=",
          "dtype": "f8"
         },
         "y": {
          "bdata": "YokDihCrk78=",
          "dtype": "f8"
         }
        },
        {
         "hovertemplate": "Video: anti_smoking_commercial_french.mp4<br>Segment: 21</br>Embedding type: audio",
         "marker": {
          "color": "red",
          "opacity": 0.5,
          "size": 8,
          "symbol": "circle"
         },
         "mode": "markers",
         "name": "",
         "type": "scatter",
         "x": {
          "bdata": "L9oqXAyj5D8=",
          "dtype": "f8"
         },
         "y": {
          "bdata": "np2fqWd0oL8=",
          "dtype": "f8"
         }
        },
        {
         "hovertemplate": "Video: state_farm_commercial_arnold_schwarzenegger_super_bowl_commercial_2024_best_commercials.mp4<br>Segment: 25</br>Embedding type: audio",
         "marker": {
          "color": "red",
          "opacity": 0.5,
          "size": 8,
          "symbol": "circle"
         },
         "mode": "markers",
         "name": "",
         "type": "scatter",
         "x": {
          "bdata": "u79aWUqv4T8=",
          "dtype": "f8"
         },
         "y": {
          "bdata": "h1kEKXYTib8=",
          "dtype": "f8"
         }
        },
        {
         "hovertemplate": "Video: in_e_l_f_we_trust_e_l_f_cosmetics_game_day_commercial_202.mp4<br>Segment: 15</br>Embedding type: audio",
         "marker": {
          "color": "red",
          "opacity": 0.5,
          "size": 8,
          "symbol": "circle"
         },
         "mode": "markers",
         "name": "",
         "type": "scatter",
         "x": {
          "bdata": "O5HjULec5T8=",
          "dtype": "f8"
         },
         "y": {
          "bdata": "5bgXwWWGg78=",
          "dtype": "f8"
         }
        },
        {
         "hovertemplate": "Video: flex_tape_commercial_2017_phil_swift.mp4<br>Segment: 22</br>Embedding type: audio",
         "marker": {
          "color": "red",
          "opacity": 0.5,
          "size": 8,
          "symbol": "circle"
         },
         "mode": "markers",
         "name": "",
         "type": "scatter",
         "x": {
          "bdata": "8+mrVaPK4z8=",
          "dtype": "f8"
         },
         "y": {
          "bdata": "+WMBeS3Hzz8=",
          "dtype": "f8"
         }
        },
        {
         "hovertemplate": "Video: in_e_l_f_we_trust_e_l_f_cosmetics_game_day_commercial_202.mp4<br>Segment: 12</br>Embedding type: audio",
         "marker": {
          "color": "red",
          "opacity": 0.5,
          "size": 8,
          "symbol": "circle"
         },
         "mode": "markers",
         "name": "",
         "type": "scatter",
         "x": {
          "bdata": "RCFLn18y5D8=",
          "dtype": "f8"
         },
         "y": {
          "bdata": "Qp71fdlwqb8=",
          "dtype": "f8"
         }
        },
        {
         "hovertemplate": "Video: little_caesars_best_thing_since_sliced_bread_2020_super_bowl_commercial.mp4<br>Segment: 15</br>Embedding type: audio",
         "marker": {
          "color": "red",
          "opacity": 0.5,
          "size": 8,
          "symbol": "circle"
         },
         "mode": "markers",
         "name": "",
         "type": "scatter",
         "x": {
          "bdata": "NtmSvB1a4z8=",
          "dtype": "f8"
         },
         "y": {
          "bdata": "e4BlHqf5oz8=",
          "dtype": "f8"
         }
        },
        {
         "hovertemplate": "Video: ihop_commercial_spanish.mp4<br>Segment: 6</br>Embedding type: audio",
         "marker": {
          "color": "red",
          "opacity": 0.5,
          "size": 8,
          "symbol": "circle"
         },
         "mode": "markers",
         "name": "",
         "type": "scatter",
         "x": {
          "bdata": "0iXHtpmV5D8=",
          "dtype": "f8"
         },
         "y": {
          "bdata": "qxkzli3EZz8=",
          "dtype": "f8"
         }
        },
        {
         "hovertemplate": "Video: flex_tape_commercial_2017_phil_swift.mp4<br>Segment: 17</br>Embedding type: audio",
         "marker": {
          "color": "red",
          "opacity": 0.5,
          "size": 8,
          "symbol": "circle"
         },
         "mode": "markers",
         "name": "",
         "type": "scatter",
         "x": {
          "bdata": "b5GLBxmd4z8=",
          "dtype": "f8"
         },
         "y": {
          "bdata": "hwBpY+jKzj8=",
          "dtype": "f8"
         }
        },
        {
         "hovertemplate": "Video: in_e_l_f_we_trust_e_l_f_cosmetics_game_day_commercial_202.mp4<br>Segment: 11</br>Embedding type: audio",
         "marker": {
          "color": "red",
          "opacity": 0.5,
          "size": 8,
          "symbol": "circle"
         },
         "mode": "markers",
         "name": "",
         "type": "scatter",
         "x": {
          "bdata": "aAK1Ib8u4j8=",
          "dtype": "f8"
         },
         "y": {
          "bdata": "2j3jMVa8iD8=",
          "dtype": "f8"
         }
        },
        {
         "hovertemplate": "Video: ed_s_heinz_ad.mp4<br>Segment: 17</br>Embedding type: audio",
         "marker": {
          "color": "red",
          "opacity": 0.5,
          "size": 8,
          "symbol": "circle"
         },
         "mode": "markers",
         "name": "",
         "type": "scatter",
         "x": {
          "bdata": "lLHa+RFO4j8=",
          "dtype": "f8"
         },
         "y": {
          "bdata": "xT9gmbuGfz8=",
          "dtype": "f8"
         }
        }
       ],
       "layout": {
        "font": {
         "color": "black",
         "family": "Arial, sans-serif",
         "size": 12
        },
        "height": 600,
        "margin": {
         "b": 30,
         "l": 30,
         "pad": 10,
         "r": 30,
         "t": 60
        },
        "showlegend": true,
        "template": {
         "data": {
          "bar": [
           {
            "error_x": {
             "color": "#2a3f5f"
            },
            "error_y": {
             "color": "#2a3f5f"
            },
            "marker": {
             "line": {
              "color": "#E5ECF6",
              "width": 0.5
             },
             "pattern": {
              "fillmode": "overlay",
              "size": 10,
              "solidity": 0.2
             }
            },
            "type": "bar"
           }
          ],
          "barpolar": [
           {
            "marker": {
             "line": {
              "color": "#E5ECF6",
              "width": 0.5
             },
             "pattern": {
              "fillmode": "overlay",
              "size": 10,
              "solidity": 0.2
             }
            },
            "type": "barpolar"
           }
          ],
          "carpet": [
           {
            "aaxis": {
             "endlinecolor": "#2a3f5f",
             "gridcolor": "white",
             "linecolor": "white",
             "minorgridcolor": "white",
             "startlinecolor": "#2a3f5f"
            },
            "baxis": {
             "endlinecolor": "#2a3f5f",
             "gridcolor": "white",
             "linecolor": "white",
             "minorgridcolor": "white",
             "startlinecolor": "#2a3f5f"
            },
            "type": "carpet"
           }
          ],
          "choropleth": [
           {
            "colorbar": {
             "outlinewidth": 0,
             "ticks": ""
            },
            "type": "choropleth"
           }
          ],
          "contour": [
           {
            "colorbar": {
             "outlinewidth": 0,
             "ticks": ""
            },
            "colorscale": [
             [
              0,
              "#0d0887"
             ],
             [
              0.1111111111111111,
              "#46039f"
             ],
             [
              0.2222222222222222,
              "#7201a8"
             ],
             [
              0.3333333333333333,
              "#9c179e"
             ],
             [
              0.4444444444444444,
              "#bd3786"
             ],
             [
              0.5555555555555556,
              "#d8576b"
             ],
             [
              0.6666666666666666,
              "#ed7953"
             ],
             [
              0.7777777777777778,
              "#fb9f3a"
             ],
             [
              0.8888888888888888,
              "#fdca26"
             ],
             [
              1,
              "#f0f921"
             ]
            ],
            "type": "contour"
           }
          ],
          "contourcarpet": [
           {
            "colorbar": {
             "outlinewidth": 0,
             "ticks": ""
            },
            "type": "contourcarpet"
           }
          ],
          "heatmap": [
           {
            "colorbar": {
             "outlinewidth": 0,
             "ticks": ""
            },
            "colorscale": [
             [
              0,
              "#0d0887"
             ],
             [
              0.1111111111111111,
              "#46039f"
             ],
             [
              0.2222222222222222,
              "#7201a8"
             ],
             [
              0.3333333333333333,
              "#9c179e"
             ],
             [
              0.4444444444444444,
              "#bd3786"
             ],
             [
              0.5555555555555556,
              "#d8576b"
             ],
             [
              0.6666666666666666,
              "#ed7953"
             ],
             [
              0.7777777777777778,
              "#fb9f3a"
             ],
             [
              0.8888888888888888,
              "#fdca26"
             ],
             [
              1,
              "#f0f921"
             ]
            ],
            "type": "heatmap"
           }
          ],
          "histogram": [
           {
            "marker": {
             "pattern": {
              "fillmode": "overlay",
              "size": 10,
              "solidity": 0.2
             }
            },
            "type": "histogram"
           }
          ],
          "histogram2d": [
           {
            "colorbar": {
             "outlinewidth": 0,
             "ticks": ""
            },
            "colorscale": [
             [
              0,
              "#0d0887"
             ],
             [
              0.1111111111111111,
              "#46039f"
             ],
             [
              0.2222222222222222,
              "#7201a8"
             ],
             [
              0.3333333333333333,
              "#9c179e"
             ],
             [
              0.4444444444444444,
              "#bd3786"
             ],
             [
              0.5555555555555556,
              "#d8576b"
             ],
             [
              0.6666666666666666,
              "#ed7953"
             ],
             [
              0.7777777777777778,
              "#fb9f3a"
             ],
             [
              0.8888888888888888,
              "#fdca26"
             ],
             [
              1,
              "#f0f921"
             ]
            ],
            "type": "histogram2d"
           }
          ],
          "histogram2dcontour": [
           {
            "colorbar": {
             "outlinewidth": 0,
             "ticks": ""
            },
            "colorscale": [
             [
              0,
              "#0d0887"
             ],
             [
              0.1111111111111111,
              "#46039f"
             ],
             [
              0.2222222222222222,
              "#7201a8"
             ],
             [
              0.3333333333333333,
              "#9c179e"
             ],
             [
              0.4444444444444444,
              "#bd3786"
             ],
             [
              0.5555555555555556,
              "#d8576b"
             ],
             [
              0.6666666666666666,
              "#ed7953"
             ],
             [
              0.7777777777777778,
              "#fb9f3a"
             ],
             [
              0.8888888888888888,
              "#fdca26"
             ],
             [
              1,
              "#f0f921"
             ]
            ],
            "type": "histogram2dcontour"
           }
          ],
          "mesh3d": [
           {
            "colorbar": {
             "outlinewidth": 0,
             "ticks": ""
            },
            "type": "mesh3d"
           }
          ],
          "parcoords": [
           {
            "line": {
             "colorbar": {
              "outlinewidth": 0,
              "ticks": ""
             }
            },
            "type": "parcoords"
           }
          ],
          "pie": [
           {
            "automargin": true,
            "type": "pie"
           }
          ],
          "scatter": [
           {
            "fillpattern": {
             "fillmode": "overlay",
             "size": 10,
             "solidity": 0.2
            },
            "type": "scatter"
           }
          ],
          "scatter3d": [
           {
            "line": {
             "colorbar": {
              "outlinewidth": 0,
              "ticks": ""
             }
            },
            "marker": {
             "colorbar": {
              "outlinewidth": 0,
              "ticks": ""
             }
            },
            "type": "scatter3d"
           }
          ],
          "scattercarpet": [
           {
            "marker": {
             "colorbar": {
              "outlinewidth": 0,
              "ticks": ""
             }
            },
            "type": "scattercarpet"
           }
          ],
          "scattergeo": [
           {
            "marker": {
             "colorbar": {
              "outlinewidth": 0,
              "ticks": ""
             }
            },
            "type": "scattergeo"
           }
          ],
          "scattergl": [
           {
            "marker": {
             "colorbar": {
              "outlinewidth": 0,
              "ticks": ""
             }
            },
            "type": "scattergl"
           }
          ],
          "scattermap": [
           {
            "marker": {
             "colorbar": {
              "outlinewidth": 0,
              "ticks": ""
             }
            },
            "type": "scattermap"
           }
          ],
          "scattermapbox": [
           {
            "marker": {
             "colorbar": {
              "outlinewidth": 0,
              "ticks": ""
             }
            },
            "type": "scattermapbox"
           }
          ],
          "scatterpolar": [
           {
            "marker": {
             "colorbar": {
              "outlinewidth": 0,
              "ticks": ""
             }
            },
            "type": "scatterpolar"
           }
          ],
          "scatterpolargl": [
           {
            "marker": {
             "colorbar": {
              "outlinewidth": 0,
              "ticks": ""
             }
            },
            "type": "scatterpolargl"
           }
          ],
          "scatterternary": [
           {
            "marker": {
             "colorbar": {
              "outlinewidth": 0,
              "ticks": ""
             }
            },
            "type": "scatterternary"
           }
          ],
          "surface": [
           {
            "colorbar": {
             "outlinewidth": 0,
             "ticks": ""
            },
            "colorscale": [
             [
              0,
              "#0d0887"
             ],
             [
              0.1111111111111111,
              "#46039f"
             ],
             [
              0.2222222222222222,
              "#7201a8"
             ],
             [
              0.3333333333333333,
              "#9c179e"
             ],
             [
              0.4444444444444444,
              "#bd3786"
             ],
             [
              0.5555555555555556,
              "#d8576b"
             ],
             [
              0.6666666666666666,
              "#ed7953"
             ],
             [
              0.7777777777777778,
              "#fb9f3a"
             ],
             [
              0.8888888888888888,
              "#fdca26"
             ],
             [
              1,
              "#f0f921"
             ]
            ],
            "type": "surface"
           }
          ],
          "table": [
           {
            "cells": {
             "fill": {
              "color": "#EBF0F8"
             },
             "line": {
              "color": "white"
             }
            },
            "header": {
             "fill": {
              "color": "#C8D4E3"
             },
             "line": {
              "color": "white"
             }
            },
            "type": "table"
           }
          ]
         },
         "layout": {
          "annotationdefaults": {
           "arrowcolor": "#2a3f5f",
           "arrowhead": 0,
           "arrowwidth": 1
          },
          "autotypenumbers": "strict",
          "coloraxis": {
           "colorbar": {
            "outlinewidth": 0,
            "ticks": ""
           }
          },
          "colorscale": {
           "diverging": [
            [
             0,
             "#8e0152"
            ],
            [
             0.1,
             "#c51b7d"
            ],
            [
             0.2,
             "#de77ae"
            ],
            [
             0.3,
             "#f1b6da"
            ],
            [
             0.4,
             "#fde0ef"
            ],
            [
             0.5,
             "#f7f7f7"
            ],
            [
             0.6,
             "#e6f5d0"
            ],
            [
             0.7,
             "#b8e186"
            ],
            [
             0.8,
             "#7fbc41"
            ],
            [
             0.9,
             "#4d9221"
            ],
            [
             1,
             "#276419"
            ]
           ],
           "sequential": [
            [
             0,
             "#0d0887"
            ],
            [
             0.1111111111111111,
             "#46039f"
            ],
            [
             0.2222222222222222,
             "#7201a8"
            ],
            [
             0.3333333333333333,
             "#9c179e"
            ],
            [
             0.4444444444444444,
             "#bd3786"
            ],
            [
             0.5555555555555556,
             "#d8576b"
            ],
            [
             0.6666666666666666,
             "#ed7953"
            ],
            [
             0.7777777777777778,
             "#fb9f3a"
            ],
            [
             0.8888888888888888,
             "#fdca26"
            ],
            [
             1,
             "#f0f921"
            ]
           ],
           "sequentialminus": [
            [
             0,
             "#0d0887"
            ],
            [
             0.1111111111111111,
             "#46039f"
            ],
            [
             0.2222222222222222,
             "#7201a8"
            ],
            [
             0.3333333333333333,
             "#9c179e"
            ],
            [
             0.4444444444444444,
             "#bd3786"
            ],
            [
             0.5555555555555556,
             "#d8576b"
            ],
            [
             0.6666666666666666,
             "#ed7953"
            ],
            [
             0.7777777777777778,
             "#fb9f3a"
            ],
            [
             0.8888888888888888,
             "#fdca26"
            ],
            [
             1,
             "#f0f921"
            ]
           ]
          },
          "colorway": [
           "#636efa",
           "#EF553B",
           "#00cc96",
           "#ab63fa",
           "#FFA15A",
           "#19d3f3",
           "#FF6692",
           "#B6E880",
           "#FF97FF",
           "#FECB52"
          ],
          "font": {
           "color": "#2a3f5f"
          },
          "geo": {
           "bgcolor": "white",
           "lakecolor": "white",
           "landcolor": "#E5ECF6",
           "showlakes": true,
           "showland": true,
           "subunitcolor": "white"
          },
          "hoverlabel": {
           "align": "left"
          },
          "hovermode": "closest",
          "mapbox": {
           "style": "light"
          },
          "paper_bgcolor": "white",
          "plot_bgcolor": "#E5ECF6",
          "polar": {
           "angularaxis": {
            "gridcolor": "white",
            "linecolor": "white",
            "ticks": ""
           },
           "bgcolor": "#E5ECF6",
           "radialaxis": {
            "gridcolor": "white",
            "linecolor": "white",
            "ticks": ""
           }
          },
          "scene": {
           "xaxis": {
            "backgroundcolor": "#E5ECF6",
            "gridcolor": "white",
            "gridwidth": 2,
            "linecolor": "white",
            "showbackground": true,
            "ticks": "",
            "zerolinecolor": "white"
           },
           "yaxis": {
            "backgroundcolor": "#E5ECF6",
            "gridcolor": "white",
            "gridwidth": 2,
            "linecolor": "white",
            "showbackground": true,
            "ticks": "",
            "zerolinecolor": "white"
           },
           "zaxis": {
            "backgroundcolor": "#E5ECF6",
            "gridcolor": "white",
            "gridwidth": 2,
            "linecolor": "white",
            "showbackground": true,
            "ticks": "",
            "zerolinecolor": "white"
           }
          },
          "shapedefaults": {
           "line": {
            "color": "#2a3f5f"
           }
          },
          "ternary": {
           "aaxis": {
            "gridcolor": "white",
            "linecolor": "white",
            "ticks": ""
           },
           "baxis": {
            "gridcolor": "white",
            "linecolor": "white",
            "ticks": ""
           },
           "bgcolor": "#E5ECF6",
           "caxis": {
            "gridcolor": "white",
            "linecolor": "white",
            "ticks": ""
           }
          },
          "title": {
           "x": 0.05
          },
          "xaxis": {
           "automargin": true,
           "gridcolor": "white",
           "linecolor": "white",
           "ticks": "",
           "title": {
            "standoff": 15
           },
           "zerolinecolor": "white",
           "zerolinewidth": 2
          },
          "yaxis": {
           "automargin": true,
           "gridcolor": "white",
           "linecolor": "white",
           "ticks": "",
           "title": {
            "standoff": 15
           },
           "zerolinecolor": "white",
           "zerolinewidth": 2
          }
         }
        },
        "title": {
         "text": "2D Scatter Plot of All Segments using PCA"
        },
        "width": 900,
        "xaxis": {
         "dtick": 0.2,
         "range": [
          -1,
          1
         ],
         "scaleanchor": "y",
         "scaleratio": 1,
         "tickmode": "linear",
         "title": {
          "text": "x"
         }
        },
        "yaxis": {
         "dtick": 0.2,
         "range": [
          -1,
          1
         ],
         "scaleanchor": "x",
         "scaleratio": 1,
         "tickmode": "linear",
         "title": {
          "text": "y"
         }
        }
       }
      }
     },
     "metadata": {},
     "output_type": "display_data"
    }
   ],
   "source": [
    "embeddings = []\n",
    "video_names = []\n",
    "embedding_options = []\n",
    "offsets = []\n",
    "\n",
    "for segment in segments:\n",
    "    embeddings.append(segment[\"embedding\"])\n",
    "    video_names.append(f\"{segment['filename']}\")\n",
    "    embedding_options.append(segment[\"embedding_option\"])\n",
    "    offsets.append(segment[\"offset\"])\n",
    "\n",
    "# Reduce the dense vector embedding's dimensions from 1,024 to 3 using PCA for visualization\n",
    "pca = PCA(n_components=2)\n",
    "vis_dims_2d = pca.fit_transform(embeddings)\n",
    "\n",
    "print(f\"Reduced dimensions shape (2d): {vis_dims_2d.shape}\")\n",
    "\n",
    "fig = go.Figure()\n",
    "\n",
    "# Search results\n",
    "for i, video_name in enumerate(video_names):\n",
    "    x = np.array([vis_dims_2d[i, 0]])\n",
    "    y = np.array([vis_dims_2d[i, 1]])\n",
    "    if embedding_options[i] == \"visual-text\":\n",
    "        color = \"blue\"\n",
    "    elif embedding_options[i] == \"audio\":\n",
    "        color = \"red\"\n",
    "    else:\n",
    "        color = \"green\"\n",
    "\n",
    "    fig.add_trace(\n",
    "        go.Scatter(\n",
    "            x=x,\n",
    "            y=y,\n",
    "            mode=\"markers\",\n",
    "            marker=dict(\n",
    "                size=8,\n",
    "                opacity=0.5,\n",
    "                symbol=\"circle\",\n",
    "                color=color,\n",
    "            ),\n",
    "            name=\"\",\n",
    "            hovertemplate=f\"Video: {video_names[i]}<br>Segment: {offsets[i]}</br>Embedding type: {embedding_options[i]}\",\n",
    "        )\n",
    "    )\n",
    "\n",
    "\n",
    "fig.update_layout(\n",
    "    # autosize=True,\n",
    "    width=900,\n",
    "    height=600,\n",
    "    font=dict(size=12, color=\"black\", family=\"Arial, sans-serif\"),\n",
    "    title=\"2D Scatter Plot of All Segments using PCA\",\n",
    "    margin=dict(l=30, r=30, b=30, t=60, pad=10),\n",
    "    xaxis=dict(title=\"x\", range=[-1, 1], tickmode=\"linear\", dtick=0.2),\n",
    "    yaxis=dict(title=\"y\", range=[-1, 1], tickmode=\"linear\", dtick=0.2),\n",
    "    xaxis_scaleanchor=\"y\",\n",
    "    yaxis_scaleanchor=\"x\",\n",
    "    yaxis_scaleratio=1,\n",
    "    xaxis_scaleratio=1,\n",
    "    showlegend=True,\n",
    ")\n",
    "fig.show()"
   ]
  },
  {
   "cell_type": "code",
   "execution_count": null,
   "id": "8e043d38",
   "metadata": {},
   "outputs": [],
   "source": []
  }
 ],
 "metadata": {
  "kernelspec": {
   "display_name": ".venv",
   "language": "python",
   "name": "python3"
  },
  "language_info": {
   "codemirror_mode": {
    "name": "ipython",
    "version": 3
   },
   "file_extension": ".py",
   "mimetype": "text/x-python",
   "name": "python",
   "nbconvert_exporter": "python",
   "pygments_lexer": "ipython3",
   "version": "3.12.9"
  }
 },
 "nbformat": 4,
 "nbformat_minor": 5
}
